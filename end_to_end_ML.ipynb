{
 "cells": [
  {
   "cell_type": "code",
   "execution_count": null,
   "metadata": {},
   "outputs": [],
   "source": [
    "# END TO END MACHINE LEARNING PROJECT\n",
    "\n",
    "# Creating a git repository\n",
    "# Creating a virtual environment (conda create) libraries etc.\n",
    "# connect git repo to local with git init\n",
    "# .gitignore should be created\n",
    "\n",
    "# 1 requirements.txt with -e. setup.py içerisinden çağrılabilir. \n",
    "\n",
    "# 2 setup.py building out application as a package (from setuptools import find_packages, setup ) --metadata of entire project\n",
    "    # install_requirements --> requirement.txt içerisinden apılabilir get-requeirements fonksyionu yazılarak.\n",
    "\n",
    "# 3-src/ folder created. __init__.py ile birlikte create edilmeli.\n",
    "    # __init__.pt\n",
    "    \n",
    "# src altına \n",
    "        # componenets folderı eklenir. - Data ingestion, data validation, data transformation, model_trainer --> bunlar component olabilirler.\n",
    "            # __init__.py\n",
    "            # daata ingestion.py\n",
    "                # Datanın bir tarafından silinip bir teraafından alınması.\n",
    "            # data transformation.py\n",
    "\n",
    "        # pipeline/\n",
    "            #__init__.py\n",
    "            # training_pipelines.py\n",
    "\n",
    "        # exceppiton.py\n",
    "            # error_detail.exc_info()\n",
    "        # logger.py\n",
    "            # from src.logger import logging --> logların tutulduğu bir dosyada tutulur.\n",
    "        # utils.py\n",
    "\n",
    "# templates \n",
    "    # index.html --> front end \n",
    "\n",
    "# 4-.extension --> aws üzerinde deploy etmek için ihtiyaç olacaktır. aws codepipeline kullanılarak da kod aws beanstalka teslim edilir.\n",
    "    # python.config \n",
    "        \n",
    "# 5- notebook/ \n",
    "    # bu directory üzerinde feature engineering eda ve traning gibi scriptler yazılabilir.\n",
    "\n"
   ]
  },
  {
   "cell_type": "code",
   "execution_count": null,
   "metadata": {},
   "outputs": [],
   "source": []
  },
  {
   "cell_type": "code",
   "execution_count": null,
   "metadata": {},
   "outputs": [],
   "source": []
  }
 ],
 "metadata": {
  "language_info": {
   "name": "python"
  }
 },
 "nbformat": 4,
 "nbformat_minor": 2
}
