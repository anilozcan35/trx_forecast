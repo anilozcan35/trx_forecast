{
 "cells": [
  {
   "cell_type": "code",
   "id": "initial_id",
   "metadata": {
    "collapsed": true,
    "ExecuteTime": {
     "end_time": "2024-05-26T10:24:21.917773Z",
     "start_time": "2024-05-26T10:24:21.856868Z"
    }
   },
   "source": [
    "import os\n",
    "import pickle\n",
    "from darts import TimeSeries\n",
    "from darts.models.forecasting.lgbm import LightGBMModel"
   ],
   "execution_count": 5,
   "outputs": []
  },
  {
   "metadata": {
    "ExecuteTime": {
     "end_time": "2024-05-26T10:24:26.720352Z",
     "start_time": "2024-05-26T10:24:24.665706Z"
    }
   },
   "cell_type": "code",
   "source": [
    "with open(\"C:\\\\Users\\\\aozcan\\\\PycharmProjects\\\\trx_forecast\\\\data\\\\ts\", \"rb\") as file:\n",
    "    ts = pickle.load(file)"
   ],
   "id": "3e0f612f88302135",
   "execution_count": 6,
   "outputs": []
  },
  {
   "metadata": {},
   "cell_type": "code",
   "source": [
    "def lgbm_contructor(params_lgbm):\n",
    "    lgbm = LightGBMModel(\n",
    "                     verbose =-1,\n",
    "                     categorical_static_covariates = [\"direktorluk\", \"cat_mgno\",\"cat_gno\"],\n",
    "                     use_static_covariates = True, **params_lgbm\n",
    "                    )\n",
    "    lgbm.fit(series = [*train])\n",
    "    preds = lgbm.predict(15, series = train)\n",
    "    preds_pd = pd.DataFrame()\n",
    "    val_pd = pd.DataFrame()\n",
    "    for i in range(len(preds)):\n",
    "        preds_pd = preds_pd.append(preds[i].pd_dataframe())\n",
    "        val_pd = val_pd.append(val[i].pd_dataframe())\n",
    "    mse = mean_squared_error(y_true = val_pd.bulunurluk.tolist() , y_pred = preds_pd.bulunurluk.tolist())\n",
    "    return mse"
   ],
   "id": "b1714bbba1eff601",
   "execution_count": null,
   "outputs": []
  }
 ],
 "metadata": {
  "kernelspec": {
   "display_name": "trx_fcst",
   "language": "python",
   "name": "trx_fcst"
  },
  "language_info": {
   "codemirror_mode": {
    "name": "ipython",
    "version": 2
   },
   "file_extension": ".py",
   "mimetype": "text/x-python",
   "name": "python",
   "nbconvert_exporter": "python",
   "pygments_lexer": "ipython2",
   "version": "2.7.6"
  }
 },
 "nbformat": 4,
 "nbformat_minor": 5
}
