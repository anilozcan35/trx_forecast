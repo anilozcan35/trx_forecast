{
 "cells": [
  {
   "cell_type": "code",
   "execution_count": 1,
   "metadata": {
    "ExecuteTime": {
     "end_time": "2024-05-26T09:29:51.790947Z",
     "start_time": "2024-05-26T09:29:50.904134Z"
    },
    "execution": {
     "iopub.execute_input": "2024-05-25T17:28:51.899477Z",
     "iopub.status.busy": "2024-05-25T17:28:51.899372Z",
     "iopub.status.idle": "2024-05-25T17:28:52.268336Z",
     "shell.execute_reply": "2024-05-25T17:28:52.267860Z",
     "shell.execute_reply.started": "2024-05-25T17:28:51.899466Z"
    },
    "executionInfo": {
     "elapsed": 5,
     "status": "ok",
     "timestamp": 1716646490669,
     "user": {
      "displayName": "Anıl Özcan",
      "userId": "06510389857538456980"
     },
     "user_tz": -180
    },
    "id": "CMay1qmqGmaJ"
   },
   "source": [
    "import os\n",
    "import importlib\n",
    "import pickle\n",
    "import pandas as pd"
   ],
   "outputs": []
  },
  {
   "cell_type": "code",
   "execution_count": 2,
   "metadata": {
    "ExecuteTime": {
     "end_time": "2024-05-26T09:29:51.803185Z",
     "start_time": "2024-05-26T09:29:51.790947Z"
    },
    "colab": {
     "base_uri": "https://localhost:8080/",
     "height": 36
    },
    "execution": {
     "iopub.execute_input": "2024-05-25T17:28:53.098579Z",
     "iopub.status.busy": "2024-05-25T17:28:53.097995Z",
     "iopub.status.idle": "2024-05-25T17:28:53.104271Z",
     "shell.execute_reply": "2024-05-25T17:28:53.103069Z",
     "shell.execute_reply.started": "2024-05-25T17:28:53.098562Z"
    },
    "executionInfo": {
     "elapsed": 5,
     "status": "ok",
     "timestamp": 1716646508076,
     "user": {
      "displayName": "Anıl Özcan",
      "userId": "06510389857538456980"
     },
     "user_tz": -180
    },
    "id": "-zH_n91WGt6I",
    "outputId": "1f723d2c-8a79-43e6-dc15-09182a8910cd"
   },
   "source": [
    "os.getcwd()"
   ],
   "outputs": []
  },
  {
   "cell_type": "code",
   "execution_count": 3,
   "metadata": {
    "ExecuteTime": {
     "end_time": "2024-05-26T09:29:51.814252Z",
     "start_time": "2024-05-26T09:29:51.805208Z"
    },
    "execution": {
     "iopub.execute_input": "2024-05-25T17:29:35.078667Z",
     "iopub.status.busy": "2024-05-25T17:29:35.078486Z",
     "iopub.status.idle": "2024-05-25T17:29:35.082031Z",
     "shell.execute_reply": "2024-05-25T17:29:35.081322Z",
     "shell.execute_reply.started": "2024-05-25T17:29:35.078653Z"
    },
    "executionInfo": {
     "elapsed": 426,
     "status": "ok",
     "timestamp": 1716646577449,
     "user": {
      "displayName": "Anıl Özcan",
      "userId": "06510389857538456980"
     },
     "user_tz": -180
    },
    "id": "sGdVLDM-3hnK"
   },
   "source": [
    "import sys\n",
    "sys.path.append(os.getcwd())"
   ],
   "outputs": []
  },
  {
   "cell_type": "code",
   "execution_count": 4,
   "metadata": {
    "ExecuteTime": {
     "end_time": "2024-05-26T09:29:51.831876Z",
     "start_time": "2024-05-26T09:29:51.814252Z"
    },
    "colab": {
     "base_uri": "https://localhost:8080/"
    },
    "execution": {
     "iopub.execute_input": "2024-05-25T17:29:47.043126Z",
     "iopub.status.busy": "2024-05-25T17:29:47.042938Z",
     "iopub.status.idle": "2024-05-25T17:29:47.048660Z",
     "shell.execute_reply": "2024-05-25T17:29:47.048211Z",
     "shell.execute_reply.started": "2024-05-25T17:29:47.043113Z"
    },
    "executionInfo": {
     "elapsed": 4,
     "status": "ok",
     "timestamp": 1716646582200,
     "user": {
      "displayName": "Anıl Özcan",
      "userId": "06510389857538456980"
     },
     "user_tz": -180
    },
    "id": "2LSfAP9HGrq7",
    "outputId": "41c67c9a-0f0e-4a81-85a6-9d3e3c33c33e"
   },
   "source": [
    "import utils\n",
    "importlib.reload(utils)"
   ],
   "outputs": []
  },
  {
   "cell_type": "code",
   "execution_count": 5,
   "metadata": {
    "ExecuteTime": {
     "end_time": "2024-05-26T09:29:51.839189Z",
     "start_time": "2024-05-26T09:29:51.831876Z"
    },
    "execution": {
     "iopub.execute_input": "2024-05-25T17:29:55.888893Z",
     "iopub.status.busy": "2024-05-25T17:29:55.888700Z",
     "iopub.status.idle": "2024-05-25T17:29:55.892442Z",
     "shell.execute_reply": "2024-05-25T17:29:55.891705Z",
     "shell.execute_reply.started": "2024-05-25T17:29:55.888879Z"
    },
    "executionInfo": {
     "elapsed": 417,
     "status": "ok",
     "timestamp": 1716646584476,
     "user": {
      "displayName": "Anıl Özcan",
      "userId": "06510389857538456980"
     },
     "user_tz": -180
    },
    "id": "yfBCoHgC4H97"
   },
   "source": [
    "WORK_DIR = os.getcwd()"
   ],
   "outputs": []
  },
  {
   "cell_type": "code",
   "execution_count": 6,
   "metadata": {
    "ExecuteTime": {
     "end_time": "2024-05-26T09:29:51.852778Z",
     "start_time": "2024-05-26T09:29:51.839189Z"
    },
    "execution": {
     "iopub.execute_input": "2024-05-25T17:30:09.326789Z",
     "iopub.status.busy": "2024-05-25T17:30:09.326599Z",
     "iopub.status.idle": "2024-05-25T17:30:09.331564Z",
     "shell.execute_reply": "2024-05-25T17:30:09.330434Z",
     "shell.execute_reply.started": "2024-05-25T17:30:09.326775Z"
    },
    "executionInfo": {
     "elapsed": 2,
     "status": "ok",
     "timestamp": 1716646586023,
     "user": {
      "displayName": "Anıl Özcan",
      "userId": "06510389857538456980"
     },
     "user_tz": -180
    },
    "id": "onna22s-4IGX"
   },
   "source": [
    "DATA_PATH = os.path.join(\"./data\")\n",
    "CAT_PATH = os.path.join(DATA_PATH, \"category_list.csv\")\n",
    "ITEM_PATH = os.path.join(DATA_PATH, \"item_list.csv\")\n",
    "SHOP_PATH = os.path.join(DATA_PATH, \"shop_list.csv\")\n",
    "TRX_PATH = os.path.join(DATA_PATH, \"transaction.csv\")\n"
   ],
   "outputs": []
  },
  {
   "cell_type": "code",
   "execution_count": 7,
   "metadata": {
    "ExecuteTime": {
     "end_time": "2024-05-26T09:29:52.878119Z",
     "start_time": "2024-05-26T09:29:51.854315Z"
    },
    "execution": {
     "iopub.execute_input": "2024-05-25T17:30:11.974055Z",
     "iopub.status.busy": "2024-05-25T17:30:11.973860Z",
     "iopub.status.idle": "2024-05-25T17:30:12.980325Z",
     "shell.execute_reply": "2024-05-25T17:30:12.979751Z",
     "shell.execute_reply.started": "2024-05-25T17:30:11.974041Z"
    },
    "executionInfo": {
     "elapsed": 1840,
     "status": "ok",
     "timestamp": 1716646589329,
     "user": {
      "displayName": "Anıl Özcan",
      "userId": "06510389857538456980"
     },
     "user_tz": -180
    },
    "id": "19jUcssc4IIz"
   },
   "source": [
    "item_df = pd.read_csv(ITEM_PATH, index_col=0)\n",
    "cat_df = pd.read_csv(CAT_PATH, index_col=0)\n",
    "shop_df = pd.read_csv(SHOP_PATH, index_col=0)\n",
    "trx_df = pd.read_csv(TRX_PATH, index_col=0)"
   ],
   "outputs": []
  },
  {
   "cell_type": "code",
   "execution_count": 8,
   "metadata": {
    "ExecuteTime": {
     "end_time": "2024-05-26T09:29:52.891345Z",
     "start_time": "2024-05-26T09:29:52.878119Z"
    },
    "colab": {
     "base_uri": "https://localhost:8080/",
     "height": 206
    },
    "execution": {
     "iopub.execute_input": "2024-05-25T17:30:14.658282Z",
     "iopub.status.busy": "2024-05-25T17:30:14.658028Z",
     "iopub.status.idle": "2024-05-25T17:30:14.669449Z",
     "shell.execute_reply": "2024-05-25T17:30:14.668933Z",
     "shell.execute_reply.started": "2024-05-25T17:30:14.658262Z"
    },
    "executionInfo": {
     "elapsed": 6,
     "status": "ok",
     "timestamp": 1716646591088,
     "user": {
      "displayName": "Anıl Özcan",
      "userId": "06510389857538456980"
     },
     "user_tz": -180
    },
    "id": "jB9D_MtR5tQN",
    "outputId": "f30f2bf5-3d63-494e-cd9f-005035fdd1dd"
   },
   "source": [
    "item_df.head()"
   ],
   "outputs": []
  },
  {
   "cell_type": "code",
   "execution_count": 9,
   "metadata": {
    "ExecuteTime": {
     "end_time": "2024-05-26T09:29:52.909060Z",
     "start_time": "2024-05-26T09:29:52.891345Z"
    },
    "colab": {
     "base_uri": "https://localhost:8080/"
    },
    "execution": {
     "iopub.execute_input": "2024-05-25T17:30:17.026998Z",
     "iopub.status.busy": "2024-05-25T17:30:17.026807Z",
     "iopub.status.idle": "2024-05-25T17:30:17.038135Z",
     "shell.execute_reply": "2024-05-25T17:30:17.037460Z",
     "shell.execute_reply.started": "2024-05-25T17:30:17.026985Z"
    },
    "executionInfo": {
     "elapsed": 414,
     "status": "ok",
     "timestamp": 1716646593452,
     "user": {
      "displayName": "Anıl Özcan",
      "userId": "06510389857538456980"
     },
     "user_tz": -180
    },
    "id": "IxhTC4TG5tSt",
    "outputId": "fe16d6f4-6843-46f1-b475-4cc33ccdae24"
   },
   "source": [
    "utils.check_df(cat_df)"
   ],
   "outputs": []
  },
  {
   "cell_type": "code",
   "execution_count": 10,
   "metadata": {
    "ExecuteTime": {
     "end_time": "2024-05-26T09:29:52.930410Z",
     "start_time": "2024-05-26T09:29:52.909060Z"
    },
    "colab": {
     "base_uri": "https://localhost:8080/"
    },
    "execution": {
     "iopub.execute_input": "2024-05-25T17:30:18.370550Z",
     "iopub.status.busy": "2024-05-25T17:30:18.370379Z",
     "iopub.status.idle": "2024-05-25T17:30:18.384256Z",
     "shell.execute_reply": "2024-05-25T17:30:18.383072Z",
     "shell.execute_reply.started": "2024-05-25T17:30:18.370538Z"
    },
    "executionInfo": {
     "elapsed": 420,
     "status": "ok",
     "timestamp": 1716646595740,
     "user": {
      "displayName": "Anıl Özcan",
      "userId": "06510389857538456980"
     },
     "user_tz": -180
    },
    "id": "QV2ko5Oq5tU9",
    "outputId": "3a72f8dc-637e-402c-bf1d-c7624db7b536"
   },
   "source": [
    "utils.check_df(item_df) # will create v_item_lookup"
   ],
   "outputs": []
  },
  {
   "cell_type": "code",
   "execution_count": 11,
   "metadata": {
    "ExecuteTime": {
     "end_time": "2024-05-26T09:29:52.947769Z",
     "start_time": "2024-05-26T09:29:52.931425Z"
    },
    "colab": {
     "base_uri": "https://localhost:8080/"
    },
    "execution": {
     "iopub.execute_input": "2024-05-25T17:30:23.152847Z",
     "iopub.status.busy": "2024-05-25T17:30:23.152648Z",
     "iopub.status.idle": "2024-05-25T17:30:23.164181Z",
     "shell.execute_reply": "2024-05-25T17:30:23.163013Z",
     "shell.execute_reply.started": "2024-05-25T17:30:23.152835Z"
    },
    "executionInfo": {
     "elapsed": 441,
     "status": "ok",
     "timestamp": 1716646598546,
     "user": {
      "displayName": "Anıl Özcan",
      "userId": "06510389857538456980"
     },
     "user_tz": -180
    },
    "id": "5MoqzviF5tXa",
    "outputId": "f8d99453-ac16-40c5-b15a-9b43b58a83de"
   },
   "source": [
    "utils.check_df(shop_df)"
   ],
   "outputs": []
  },
  {
   "cell_type": "code",
   "execution_count": 12,
   "metadata": {
    "ExecuteTime": {
     "end_time": "2024-05-26T09:29:52.959795Z",
     "start_time": "2024-05-26T09:29:52.947769Z"
    },
    "colab": {
     "base_uri": "https://localhost:8080/"
    },
    "execution": {
     "iopub.execute_input": "2024-05-25T17:30:24.121077Z",
     "iopub.status.busy": "2024-05-25T17:30:24.120918Z",
     "iopub.status.idle": "2024-05-25T17:30:24.127378Z",
     "shell.execute_reply": "2024-05-25T17:30:24.126316Z",
     "shell.execute_reply.started": "2024-05-25T17:30:24.121065Z"
    },
    "executionInfo": {
     "elapsed": 4,
     "status": "ok",
     "timestamp": 1716646600262,
     "user": {
      "displayName": "Anıl Özcan",
      "userId": "06510389857538456980"
     },
     "user_tz": -180
    },
    "id": "yVCeraP65tZW",
    "outputId": "c32a8dee-7f28-4541-dd94-6ba91845d89c"
   },
   "source": [
    "print(\"unique num:\", shop_df[\"shop_name\"].nunique())\n",
    "shop_df[\"shop_name\"].unique()[:5] # lots of feature engineering here"
   ],
   "outputs": []
  },
  {
   "cell_type": "code",
   "execution_count": 13,
   "metadata": {
    "ExecuteTime": {
     "end_time": "2024-05-26T09:29:53.515218Z",
     "start_time": "2024-05-26T09:29:52.959795Z"
    },
    "colab": {
     "base_uri": "https://localhost:8080/"
    },
    "execution": {
     "iopub.execute_input": "2024-05-25T17:30:24.998800Z",
     "iopub.status.busy": "2024-05-25T17:30:24.998190Z",
     "iopub.status.idle": "2024-05-25T17:30:25.296216Z",
     "shell.execute_reply": "2024-05-25T17:30:25.295026Z",
     "shell.execute_reply.started": "2024-05-25T17:30:24.998783Z"
    },
    "executionInfo": {
     "elapsed": 561,
     "status": "ok",
     "timestamp": 1716646602195,
     "user": {
      "displayName": "Anıl Özcan",
      "userId": "06510389857538456980"
     },
     "user_tz": -180
    },
    "id": "J9MqSm5b5tbr",
    "outputId": "6c2a132b-bd73-481b-da9b-f0c48f510b39"
   },
   "source": [
    "utils.check_df(trx_df)"
   ],
   "outputs": []
  },
  {
   "cell_type": "markdown",
   "metadata": {
    "id": "6DjQtR4aD39P"
   },
   "source": [
    "## Store Basis EDA"
   ]
  },
  {
   "cell_type": "code",
   "execution_count": 14,
   "metadata": {
    "ExecuteTime": {
     "end_time": "2024-05-26T09:29:55.384283Z",
     "start_time": "2024-05-26T09:29:53.515218Z"
    },
    "colab": {
     "base_uri": "https://localhost:8080/",
     "height": 462
    },
    "execution": {
     "iopub.execute_input": "2024-05-25T17:30:27.231363Z",
     "iopub.status.busy": "2024-05-25T17:30:27.231176Z",
     "iopub.status.idle": "2024-05-25T17:30:28.385525Z",
     "shell.execute_reply": "2024-05-25T17:30:28.384650Z",
     "shell.execute_reply.started": "2024-05-25T17:30:27.231350Z"
    },
    "executionInfo": {
     "elapsed": 595,
     "status": "ok",
     "timestamp": 1716646604465,
     "user": {
      "displayName": "Anıl Özcan",
      "userId": "06510389857538456980"
     },
     "user_tz": -180
    },
    "id": "XPCtWXer5teN",
    "outputId": "2f05e4aa-a231-4042-88ff-de0ae4ef9dc9"
   },
   "source": [
    "trx_df[\"amount\"].hist(bins = 10)"
   ],
   "outputs": []
  },
  {
   "cell_type": "code",
   "execution_count": 15,
   "metadata": {
    "ExecuteTime": {
     "end_time": "2024-05-26T09:29:55.447324Z",
     "start_time": "2024-05-26T09:29:55.384283Z"
    },
    "colab": {
     "base_uri": "https://localhost:8080/"
    },
    "execution": {
     "iopub.execute_input": "2024-05-25T17:30:28.386339Z",
     "iopub.status.busy": "2024-05-25T17:30:28.386173Z",
     "iopub.status.idle": "2024-05-25T17:30:28.409659Z",
     "shell.execute_reply": "2024-05-25T17:30:28.409207Z",
     "shell.execute_reply.started": "2024-05-25T17:30:28.386328Z"
    },
    "executionInfo": {
     "elapsed": 416,
     "status": "ok",
     "timestamp": 1716646607599,
     "user": {
      "displayName": "Anıl Özcan",
      "userId": "06510389857538456980"
     },
     "user_tz": -180
    },
    "id": "XurnS23N5tgx",
    "outputId": "1cecf6ec-ce88-45c3-ff95-7059f8d14496"
   },
   "source": [
    "print(\"number unique shop:\", trx_df[\"shop\"].nunique())\n",
    "trx_df[\"shop\"].unique()[:5]"
   ],
   "outputs": []
  },
  {
   "cell_type": "code",
   "execution_count": 16,
   "metadata": {
    "ExecuteTime": {
     "end_time": "2024-05-26T09:29:55.463495Z",
     "start_time": "2024-05-26T09:29:55.447324Z"
    },
    "colab": {
     "base_uri": "https://localhost:8080/"
    },
    "execution": {
     "iopub.execute_input": "2024-05-25T17:30:29.039764Z",
     "iopub.status.busy": "2024-05-25T17:30:29.039614Z",
     "iopub.status.idle": "2024-05-25T17:30:29.044711Z",
     "shell.execute_reply": "2024-05-25T17:30:29.043195Z",
     "shell.execute_reply.started": "2024-05-25T17:30:29.039753Z"
    },
    "executionInfo": {
     "elapsed": 420,
     "status": "ok",
     "timestamp": 1716646609970,
     "user": {
      "displayName": "Anıl Özcan",
      "userId": "06510389857538456980"
     },
     "user_tz": -180
    },
    "id": "CdKL7wmr57Ro",
    "outputId": "064f69f7-2a9f-4bbe-d9f3-5a3324873ed3"
   },
   "source": [
    "item_df.columns"
   ],
   "outputs": []
  },
  {
   "cell_type": "code",
   "execution_count": 17,
   "metadata": {
    "ExecuteTime": {
     "end_time": "2024-05-26T09:29:55.495330Z",
     "start_time": "2024-05-26T09:29:55.463495Z"
    },
    "execution": {
     "iopub.execute_input": "2024-05-25T17:30:30.039531Z",
     "iopub.status.busy": "2024-05-25T17:30:30.039352Z",
     "iopub.status.idle": "2024-05-25T17:30:30.047554Z",
     "shell.execute_reply": "2024-05-25T17:30:30.046806Z",
     "shell.execute_reply.started": "2024-05-25T17:30:30.039519Z"
    },
    "executionInfo": {
     "elapsed": 407,
     "status": "ok",
     "timestamp": 1716646612428,
     "user": {
      "displayName": "Anıl Özcan",
      "userId": "06510389857538456980"
     },
     "user_tz": -180
    },
    "id": "-sQNtczk57Ud"
   },
   "source": [
    "item_cat_df = pd.merge(cat_df, item_df, left_on = [\"item_category_id\"], right_on = [\"item_category_id\"], how = \"inner\")"
   ],
   "outputs": []
  },
  {
   "cell_type": "code",
   "execution_count": 18,
   "metadata": {
    "ExecuteTime": {
     "end_time": "2024-05-26T09:29:55.515021Z",
     "start_time": "2024-05-26T09:29:55.495330Z"
    },
    "colab": {
     "base_uri": "https://localhost:8080/"
    },
    "execution": {
     "iopub.execute_input": "2024-05-25T17:30:30.828295Z",
     "iopub.status.busy": "2024-05-25T17:30:30.828138Z",
     "iopub.status.idle": "2024-05-25T17:30:30.835284Z",
     "shell.execute_reply": "2024-05-25T17:30:30.833963Z",
     "shell.execute_reply.started": "2024-05-25T17:30:30.828283Z"
    },
    "executionInfo": {
     "elapsed": 441,
     "status": "ok",
     "timestamp": 1716646614560,
     "user": {
      "displayName": "Anıl Özcan",
      "userId": "06510389857538456980"
     },
     "user_tz": -180
    },
    "id": "MGBr9tgt_oDr",
    "outputId": "93d9f81d-ca20-4419-d7fd-0fa5cc771698"
   },
   "source": [
    "item_df.count()"
   ],
   "outputs": []
  },
  {
   "cell_type": "code",
   "execution_count": 19,
   "metadata": {
    "ExecuteTime": {
     "end_time": "2024-05-26T09:29:57.042153Z",
     "start_time": "2024-05-26T09:29:55.515021Z"
    },
    "colab": {
     "base_uri": "https://localhost:8080/",
     "height": 0,
     "output_embedded_package_id": "1qSWjzc_5SaE07g6Nsu-cqXhXksg_EEDb"
    },
    "execution": {
     "iopub.execute_input": "2024-05-25T17:30:31.659111Z",
     "iopub.status.busy": "2024-05-25T17:30:31.658975Z",
     "iopub.status.idle": "2024-05-25T17:30:32.361339Z",
     "shell.execute_reply": "2024-05-25T17:30:32.360708Z",
     "shell.execute_reply.started": "2024-05-25T17:30:31.659101Z"
    },
    "executionInfo": {
     "elapsed": 7499,
     "status": "ok",
     "timestamp": 1716646624100,
     "user": {
      "displayName": "Anıl Özcan",
      "userId": "06510389857538456980"
     },
     "user_tz": -180
    },
    "id": "PJZ0JkjP57Wx",
    "jupyter": {
     "outputs_hidden": true
    },
    "outputId": "1f2640e6-24ee-4f8a-f3ee-ba112deeb4df"
   },
   "source": [
    "item_cat_df"
   ],
   "outputs": []
  },
  {
   "cell_type": "code",
   "execution_count": 20,
   "metadata": {
    "execution": {
     "iopub.execute_input": "2024-05-25T17:30:32.362305Z",
     "iopub.status.busy": "2024-05-25T17:30:32.362172Z",
     "iopub.status.idle": "2024-05-25T17:30:32.370055Z",
     "shell.execute_reply": "2024-05-25T17:30:32.369360Z",
     "shell.execute_reply.started": "2024-05-25T17:30:32.362294Z"
    },
    "executionInfo": {
     "elapsed": 425,
     "status": "ok",
     "timestamp": 1716647720116,
     "user": {
      "displayName": "Anıl Özcan",
      "userId": "06510389857538456980"
     },
     "user_tz": -180
    },
    "id": "ZQFsK5ao57b5"
   },
   "source": [
    "trx_df[\"net\"] = trx_df[\"amount\"] * trx_df[\"price\"]"
   ],
   "outputs": []
  },
  {
   "cell_type": "code",
   "execution_count": 21,
   "metadata": {
    "execution": {
     "iopub.execute_input": "2024-05-25T17:30:33.003290Z",
     "iopub.status.busy": "2024-05-25T17:30:33.003134Z",
     "iopub.status.idle": "2024-05-25T17:30:33.078087Z",
     "shell.execute_reply": "2024-05-25T17:30:33.077144Z",
     "shell.execute_reply.started": "2024-05-25T17:30:33.003279Z"
    },
    "executionInfo": {
     "elapsed": 2,
     "status": "ok",
     "timestamp": 1716647720739,
     "user": {
      "displayName": "Anıl Özcan",
      "userId": "06510389857538456980"
     },
     "user_tz": -180
    },
    "id": "3Zjh-Glr57eT"
   },
   "source": [
    "shop_format_df = trx_df.groupby(\"shop\").agg({\"shop\": \"count\",\"net\": \"sum\", \"amount\": \"sum\"})"
   ],
   "outputs": []
  },
  {
   "cell_type": "code",
   "execution_count": 22,
   "metadata": {
    "execution": {
     "iopub.execute_input": "2024-05-25T17:30:33.734337Z",
     "iopub.status.busy": "2024-05-25T17:30:33.734175Z",
     "iopub.status.idle": "2024-05-25T17:30:33.738241Z",
     "shell.execute_reply": "2024-05-25T17:30:33.737511Z",
     "shell.execute_reply.started": "2024-05-25T17:30:33.734325Z"
    },
    "executionInfo": {
     "elapsed": 2,
     "status": "ok",
     "timestamp": 1716647721445,
     "user": {
      "displayName": "Anıl Özcan",
      "userId": "06510389857538456980"
     },
     "user_tz": -180
    },
    "id": "uRC03f54BmAC"
   },
   "source": [
    "shop_format_df[\"mean_income_per_item\"] = shop_format_df[\"net\"] / shop_format_df[\"amount\"]"
   ],
   "outputs": []
  },
  {
   "cell_type": "code",
   "execution_count": 23,
   "metadata": {
    "ExecuteTime": {
     "end_time": "2024-05-26T09:29:57.662191Z",
     "start_time": "2024-05-26T09:29:57.452114Z"
    },
    "colab": {
     "base_uri": "https://localhost:8080/",
     "height": 447
    },
    "execution": {
     "iopub.execute_input": "2024-05-25T17:30:37.103846Z",
     "iopub.status.busy": "2024-05-25T17:30:37.103642Z",
     "iopub.status.idle": "2024-05-25T17:30:37.204166Z",
     "shell.execute_reply": "2024-05-25T17:30:37.203692Z",
     "shell.execute_reply.started": "2024-05-25T17:30:37.103832Z"
    },
    "executionInfo": {
     "elapsed": 567,
     "status": "ok",
     "timestamp": 1716647722451,
     "user": {
      "displayName": "Anıl Özcan",
      "userId": "06510389857538456980"
     },
     "user_tz": -180
    },
    "id": "tt5umtvZB15X",
    "outputId": "50bb70b8-a7f9-4b6a-f5d4-8df94426d320"
   },
   "source": [
    "shop_format_df[\"mean_income_per_item\"].hist(bins = 10) # i will flag 3 cluster to model that data"
   ],
   "outputs": []
  },
  {
   "cell_type": "code",
   "execution_count": 24,
   "metadata": {
    "ExecuteTime": {
     "end_time": "2024-05-26T09:29:57.689994Z",
     "start_time": "2024-05-26T09:29:57.663721Z"
    },
    "execution": {
     "iopub.execute_input": "2024-05-25T17:30:38.316596Z",
     "iopub.status.busy": "2024-05-25T17:30:38.316099Z",
     "iopub.status.idle": "2024-05-25T17:30:38.320158Z",
     "shell.execute_reply": "2024-05-25T17:30:38.319403Z",
     "shell.execute_reply.started": "2024-05-25T17:30:38.316579Z"
    },
    "executionInfo": {
     "elapsed": 433,
     "status": "ok",
     "timestamp": 1716647723444,
     "user": {
      "displayName": "Anıl Özcan",
      "userId": "06510389857538456980"
     },
     "user_tz": -180
    },
    "id": "PhJb62I3CLeM"
   },
   "source": [
    "shop_format_df[\"mean_income_per_trx\"] = shop_format_df[\"net\"] / shop_format_df[\"shop\"]"
   ],
   "outputs": []
  },
  {
   "cell_type": "code",
   "execution_count": 25,
   "metadata": {
    "ExecuteTime": {
     "end_time": "2024-05-26T09:29:57.886937Z",
     "start_time": "2024-05-26T09:29:57.695521Z"
    },
    "colab": {
     "base_uri": "https://localhost:8080/",
     "height": 447
    },
    "execution": {
     "iopub.execute_input": "2024-05-25T17:30:40.433019Z",
     "iopub.status.busy": "2024-05-25T17:30:40.432126Z",
     "iopub.status.idle": "2024-05-25T17:30:40.530761Z",
     "shell.execute_reply": "2024-05-25T17:30:40.530167Z",
     "shell.execute_reply.started": "2024-05-25T17:30:40.433002Z"
    },
    "executionInfo": {
     "elapsed": 657,
     "status": "ok",
     "timestamp": 1716647724686,
     "user": {
      "displayName": "Anıl Özcan",
      "userId": "06510389857538456980"
     },
     "user_tz": -180
    },
    "id": "JPIrItzfDZPM",
    "outputId": "3a32084f-8f8a-407e-85da-836a9cae284e"
   },
   "source": [
    "shop_format_df.mean_income_per_trx.hist(bins = 10) # we can use k means to segment stores then\n",
    "# time series operations"
   ],
   "outputs": []
  },
  {
   "cell_type": "markdown",
   "metadata": {
    "id": "SBfDNCf6D_J6"
   },
   "source": [
    "## Cat Basis EDA\n"
   ]
  },
  {
   "cell_type": "code",
   "execution_count": 26,
   "metadata": {
    "ExecuteTime": {
     "end_time": "2024-05-26T09:29:58.667876Z",
     "start_time": "2024-05-26T09:29:57.886937Z"
    },
    "execution": {
     "iopub.execute_input": "2024-05-25T17:30:42.210351Z",
     "iopub.status.busy": "2024-05-25T17:30:42.210160Z",
     "iopub.status.idle": "2024-05-25T17:30:42.583348Z",
     "shell.execute_reply": "2024-05-25T17:30:42.582279Z",
     "shell.execute_reply.started": "2024-05-25T17:30:42.210338Z"
    },
    "executionInfo": {
     "elapsed": 2116,
     "status": "ok",
     "timestamp": 1716654005432,
     "user": {
      "displayName": "Anıl Özcan",
      "userId": "06510389857538456980"
     },
     "user_tz": -180
    },
    "id": "ZGTmP_ESEB9z"
   },
   "source": [
    "trx_cat_df = trx_df.merge(item_cat_df, left_on = [\"item\"], right_on = [\"item_id\"], how = \"inner\")"
   ],
   "outputs": []
  },
  {
   "cell_type": "code",
   "execution_count": 27,
   "metadata": {
    "ExecuteTime": {
     "end_time": "2024-05-26T09:29:58.900033Z",
     "start_time": "2024-05-26T09:29:58.678700Z"
    },
    "execution": {
     "iopub.execute_input": "2024-05-25T17:30:44.264076Z",
     "iopub.status.busy": "2024-05-25T17:30:44.263902Z",
     "iopub.status.idle": "2024-05-25T17:30:44.372050Z",
     "shell.execute_reply": "2024-05-25T17:30:44.370978Z",
     "shell.execute_reply.started": "2024-05-25T17:30:44.264063Z"
    },
    "executionInfo": {
     "elapsed": 4,
     "status": "ok",
     "timestamp": 1716654005433,
     "user": {
      "displayName": "Anıl Özcan",
      "userId": "06510389857538456980"
     },
     "user_tz": -180
    },
    "id": "bzK6wJs9FBmz"
   },
   "source": [
    "trx_cat_df.drop(columns =\"item_id\", inplace = True)"
   ],
   "outputs": []
  },
  {
   "cell_type": "code",
   "execution_count": 28,
   "metadata": {
    "ExecuteTime": {
     "end_time": "2024-05-26T09:29:59.614491Z",
     "start_time": "2024-05-26T09:29:58.908214Z"
    },
    "colab": {
     "base_uri": "https://localhost:8080/"
    },
    "execution": {
     "iopub.execute_input": "2024-05-25T17:30:45.086389Z",
     "iopub.status.busy": "2024-05-25T17:30:45.085928Z",
     "iopub.status.idle": "2024-05-25T17:30:45.284334Z",
     "shell.execute_reply": "2024-05-25T17:30:45.283489Z",
     "shell.execute_reply.started": "2024-05-25T17:30:45.086368Z"
    },
    "executionInfo": {
     "elapsed": 596,
     "status": "ok",
     "timestamp": 1716654006026,
     "user": {
      "displayName": "Anıl Özcan",
      "userId": "06510389857538456980"
     },
     "user_tz": -180
    },
    "id": "NDLkW7aBOU3Y",
    "outputId": "5febc975-0d00-4b28-bd80-563cd65c9eb0"
   },
   "source": [
    "trx_cat_df.count()"
   ],
   "outputs": []
  },
  {
   "cell_type": "code",
   "execution_count": 29,
   "metadata": {
    "ExecuteTime": {
     "end_time": "2024-05-26T09:30:00.105099Z",
     "start_time": "2024-05-26T09:29:59.629560Z"
    },
    "colab": {
     "base_uri": "https://localhost:8080/",
     "height": 36
    },
    "execution": {
     "iopub.execute_input": "2024-05-25T17:30:45.833642Z",
     "iopub.status.busy": "2024-05-25T17:30:45.833486Z",
     "iopub.status.idle": "2024-05-25T17:30:45.929485Z",
     "shell.execute_reply": "2024-05-25T17:30:45.928640Z",
     "shell.execute_reply.started": "2024-05-25T17:30:45.833630Z"
    },
    "executionInfo": {
     "elapsed": 5,
     "status": "ok",
     "timestamp": 1716654006595,
     "user": {
      "displayName": "Anıl Özcan",
      "userId": "06510389857538456980"
     },
     "user_tz": -180
    },
    "id": "sLawXMNIILy_",
    "outputId": "3bf1df67-30ef-454c-ce43-cab9bb1820c6"
   },
   "source": [
    "trx_cat_df.date.min()"
   ],
   "outputs": []
  },
  {
   "cell_type": "code",
   "execution_count": 30,
   "metadata": {
    "ExecuteTime": {
     "end_time": "2024-05-26T09:30:00.565440Z",
     "start_time": "2024-05-26T09:30:00.105099Z"
    },
    "colab": {
     "base_uri": "https://localhost:8080/",
     "height": 36
    },
    "execution": {
     "iopub.execute_input": "2024-05-25T17:30:47.414519Z",
     "iopub.status.busy": "2024-05-25T17:30:47.414332Z",
     "iopub.status.idle": "2024-05-25T17:30:47.511170Z",
     "shell.execute_reply": "2024-05-25T17:30:47.509876Z",
     "shell.execute_reply.started": "2024-05-25T17:30:47.414505Z"
    },
    "executionInfo": {
     "elapsed": 5,
     "status": "ok",
     "timestamp": 1716654007212,
     "user": {
      "displayName": "Anıl Özcan",
      "userId": "06510389857538456980"
     },
     "user_tz": -180
    },
    "id": "1VLJL0yQIOpG",
    "outputId": "94b08baf-eab9-4a51-c0a5-dc5c61a19db9"
   },
   "source": [
    "trx_cat_df.date.max() # min 2 years of data seasonal affects should be considered"
   ],
   "outputs": []
  },
  {
   "cell_type": "code",
   "execution_count": 31,
   "metadata": {
    "ExecuteTime": {
     "end_time": "2024-05-26T09:30:00.602174Z",
     "start_time": "2024-05-26T09:30:00.568529Z"
    },
    "colab": {
     "base_uri": "https://localhost:8080/",
     "height": 313
    },
    "execution": {
     "iopub.execute_input": "2024-05-25T17:30:48.173052Z",
     "iopub.status.busy": "2024-05-25T17:30:48.172901Z",
     "iopub.status.idle": "2024-05-25T17:30:48.181598Z",
     "shell.execute_reply": "2024-05-25T17:30:48.181254Z",
     "shell.execute_reply.started": "2024-05-25T17:30:48.173040Z"
    },
    "executionInfo": {
     "elapsed": 5,
     "status": "ok",
     "timestamp": 1716654009428,
     "user": {
      "displayName": "Anıl Özcan",
      "userId": "06510389857538456980"
     },
     "user_tz": -180
    },
    "id": "4yZ2AansFMCc",
    "outputId": "d0774e09-80a7-4e63-de45-ee242afbb9d8"
   },
   "source": [
    "trx_cat_df.head()"
   ],
   "outputs": []
  },
  {
   "cell_type": "code",
   "execution_count": 32,
   "metadata": {
    "ExecuteTime": {
     "end_time": "2024-05-26T09:30:00.620575Z",
     "start_time": "2024-05-26T09:30:00.602174Z"
    },
    "execution": {
     "iopub.execute_input": "2024-05-25T17:30:48.842693Z",
     "iopub.status.busy": "2024-05-25T17:30:48.842544Z",
     "iopub.status.idle": "2024-05-25T17:30:48.846567Z",
     "shell.execute_reply": "2024-05-25T17:30:48.845443Z",
     "shell.execute_reply.started": "2024-05-25T17:30:48.842674Z"
    },
    "executionInfo": {
     "elapsed": 2,
     "status": "ok",
     "timestamp": 1716654009982,
     "user": {
      "displayName": "Anıl Özcan",
      "userId": "06510389857538456980"
     },
     "user_tz": -180
    },
    "id": "DoEZ8WA2FmZH"
   },
   "source": [
    "pd.set_option('display.float_format', '{:.1f}'.format)"
   ],
   "outputs": []
  },
  {
   "cell_type": "code",
   "execution_count": 33,
   "metadata": {
    "ExecuteTime": {
     "end_time": "2024-05-26T09:30:00.773604Z",
     "start_time": "2024-05-26T09:30:00.620575Z"
    },
    "execution": {
     "iopub.execute_input": "2024-05-25T17:30:49.659088Z",
     "iopub.status.busy": "2024-05-25T17:30:49.658924Z",
     "iopub.status.idle": "2024-05-25T17:30:49.736005Z",
     "shell.execute_reply": "2024-05-25T17:30:49.735209Z",
     "shell.execute_reply.started": "2024-05-25T17:30:49.659076Z"
    },
    "executionInfo": {
     "elapsed": 3,
     "status": "ok",
     "timestamp": 1716654009983,
     "user": {
      "displayName": "Anıl Özcan",
      "userId": "06510389857538456980"
     },
     "user_tz": -180
    },
    "id": "0lT6CcPUFQTX"
   },
   "source": [
    "# agg on cat group to analyze\n",
    "trx_cat_temp = trx_cat_df.groupby(\"item_category_id\").agg({\"item_category_id\":\"count\",\"amount\": \"sum\", \"net\": \"sum\"})"
   ],
   "outputs": []
  },
  {
   "cell_type": "code",
   "execution_count": 34,
   "metadata": {
    "ExecuteTime": {
     "end_time": "2024-05-26T09:30:00.792091Z",
     "start_time": "2024-05-26T09:30:00.773604Z"
    },
    "execution": {
     "iopub.execute_input": "2024-05-25T17:30:50.377123Z",
     "iopub.status.busy": "2024-05-25T17:30:50.376935Z",
     "iopub.status.idle": "2024-05-25T17:30:50.381880Z",
     "shell.execute_reply": "2024-05-25T17:30:50.381137Z",
     "shell.execute_reply.started": "2024-05-25T17:30:50.377110Z"
    },
    "executionInfo": {
     "elapsed": 4,
     "status": "ok",
     "timestamp": 1716654010578,
     "user": {
      "displayName": "Anıl Özcan",
      "userId": "06510389857538456980"
     },
     "user_tz": -180
    },
    "id": "vjUDV8NNFzvO"
   },
   "source": [
    "trx_cat_temp[\"mean_income_per_trx\"] = trx_cat_temp[\"net\"] / trx_cat_temp[\"amount\"]"
   ],
   "outputs": []
  },
  {
   "cell_type": "code",
   "execution_count": 35,
   "metadata": {
    "ExecuteTime": {
     "end_time": "2024-05-26T09:30:01.150061Z",
     "start_time": "2024-05-26T09:30:00.792091Z"
    },
    "colab": {
     "base_uri": "https://localhost:8080/",
     "height": 446
    },
    "execution": {
     "iopub.execute_input": "2024-05-25T17:30:51.039770Z",
     "iopub.status.busy": "2024-05-25T17:30:51.039559Z",
     "iopub.status.idle": "2024-05-25T17:30:51.146058Z",
     "shell.execute_reply": "2024-05-25T17:30:51.145630Z",
     "shell.execute_reply.started": "2024-05-25T17:30:51.039759Z"
    },
    "executionInfo": {
     "elapsed": 718,
     "status": "ok",
     "timestamp": 1716654011293,
     "user": {
      "displayName": "Anıl Özcan",
      "userId": "06510389857538456980"
     },
     "user_tz": -180
    },
    "id": "5IWU0obMF2zv",
    "outputId": "a1f54335-0df6-4e9a-ead4-cb1060d598db"
   },
   "source": [
    "trx_cat_temp[\"mean_income_per_trx\"].hist(bins = 10)"
   ],
   "outputs": []
  },
  {
   "cell_type": "code",
   "execution_count": 36,
   "metadata": {
    "ExecuteTime": {
     "end_time": "2024-05-26T09:30:01.184985Z",
     "start_time": "2024-05-26T09:30:01.150061Z"
    },
    "colab": {
     "base_uri": "https://localhost:8080/",
     "height": 132
    },
    "execution": {
     "iopub.execute_input": "2024-05-25T17:30:51.662064Z",
     "iopub.status.busy": "2024-05-25T17:30:51.661930Z",
     "iopub.status.idle": "2024-05-25T17:30:51.668140Z",
     "shell.execute_reply": "2024-05-25T17:30:51.667364Z",
     "shell.execute_reply.started": "2024-05-25T17:30:51.662053Z"
    },
    "executionInfo": {
     "elapsed": 9,
     "status": "ok",
     "timestamp": 1716654012471,
     "user": {
      "displayName": "Anıl Özcan",
      "userId": "06510389857538456980"
     },
     "user_tz": -180
    },
    "id": "MvMjUZYBGHCJ",
    "outputId": "ce66ba35-d570-4677-c716-a98e15dc91b4"
   },
   "source": [
    "trx_cat_temp[trx_cat_temp.item_category_id > 500000] # item_category_id : count of item_cat_id"
   ],
   "outputs": []
  },
  {
   "cell_type": "code",
   "execution_count": 37,
   "metadata": {
    "ExecuteTime": {
     "end_time": "2024-05-26T09:30:01.224010Z",
     "start_time": "2024-05-26T09:30:01.184985Z"
    },
    "colab": {
     "base_uri": "https://localhost:8080/",
     "height": 285
    },
    "execution": {
     "iopub.execute_input": "2024-05-25T17:30:52.336484Z",
     "iopub.status.busy": "2024-05-25T17:30:52.336353Z",
     "iopub.status.idle": "2024-05-25T17:30:52.349671Z",
     "shell.execute_reply": "2024-05-25T17:30:52.348617Z",
     "shell.execute_reply.started": "2024-05-25T17:30:52.336474Z"
    },
    "executionInfo": {
     "elapsed": 8,
     "status": "ok",
     "timestamp": 1716654012471,
     "user": {
      "displayName": "Anıl Özcan",
      "userId": "06510389857538456980"
     },
     "user_tz": -180
    },
    "id": "b46lAr6kGf-I",
    "outputId": "30aebf13-3669-4c21-8e37-b342f8f52ca1"
   },
   "source": [
    "trx_cat_df[trx_cat_df[\"item_category_id\"] == 1000]"
   ],
   "outputs": []
  },
  {
   "cell_type": "code",
   "execution_count": 38,
   "metadata": {
    "ExecuteTime": {
     "end_time": "2024-05-26T09:30:01.434653Z",
     "start_time": "2024-05-26T09:30:01.226039Z"
    },
    "colab": {
     "base_uri": "https://localhost:8080/",
     "height": 446
    },
    "execution": {
     "iopub.execute_input": "2024-05-25T17:30:53.123540Z",
     "iopub.status.busy": "2024-05-25T17:30:53.123409Z",
     "iopub.status.idle": "2024-05-25T17:30:53.191324Z",
     "shell.execute_reply": "2024-05-25T17:30:53.191024Z",
     "shell.execute_reply.started": "2024-05-25T17:30:53.123530Z"
    },
    "executionInfo": {
     "elapsed": 782,
     "status": "ok",
     "timestamp": 1716654014613,
     "user": {
      "displayName": "Anıl Özcan",
      "userId": "06510389857538456980"
     },
     "user_tz": -180
    },
    "id": "V-TJrHxhG28H",
    "outputId": "9d67b6ad-e794-44fd-e0d0-63134081141c"
   },
   "source": [
    "trx_cat_temp.item_category_id.plot(kind=\"box\")  # item_category_id : count of item_cat_id"
   ],
   "outputs": []
  },
  {
   "cell_type": "code",
   "execution_count": 39,
   "metadata": {
    "ExecuteTime": {
     "end_time": "2024-05-26T09:30:01.450827Z",
     "start_time": "2024-05-26T09:30:01.434653Z"
    },
    "execution": {
     "iopub.execute_input": "2024-05-25T17:30:53.927169Z",
     "iopub.status.busy": "2024-05-25T17:30:53.927027Z",
     "iopub.status.idle": "2024-05-25T17:30:53.931478Z",
     "shell.execute_reply": "2024-05-25T17:30:53.930658Z",
     "shell.execute_reply.started": "2024-05-25T17:30:53.927159Z"
    },
    "executionInfo": {
     "elapsed": 5,
     "status": "ok",
     "timestamp": 1716654016595,
     "user": {
      "displayName": "Anıl Özcan",
      "userId": "06510389857538456980"
     },
     "user_tz": -180
    },
    "id": "MY6-rXu9JWf0"
   },
   "source": [
    "trx_cat_df.index = trx_cat_df.date"
   ],
   "outputs": []
  },
  {
   "cell_type": "code",
   "execution_count": 40,
   "metadata": {
    "ExecuteTime": {
     "end_time": "2024-05-26T09:30:02.237995Z",
     "start_time": "2024-05-26T09:30:01.450827Z"
    },
    "execution": {
     "iopub.execute_input": "2024-05-25T17:30:54.681197Z",
     "iopub.status.busy": "2024-05-25T17:30:54.680955Z",
     "iopub.status.idle": "2024-05-25T17:30:54.909565Z",
     "shell.execute_reply": "2024-05-25T17:30:54.908957Z",
     "shell.execute_reply.started": "2024-05-25T17:30:54.681186Z"
    },
    "executionInfo": {
     "elapsed": 625,
     "status": "ok",
     "timestamp": 1716654018938,
     "user": {
      "displayName": "Anıl Özcan",
      "userId": "06510389857538456980"
     },
     "user_tz": -180
    },
    "id": "iEDL0Pg4JjCG"
   },
   "source": [
    "trx_cat_df.index = pd.to_datetime(trx_cat_df.index, format = \"%d.%m.%Y\")"
   ],
   "outputs": []
  },
  {
   "cell_type": "code",
   "execution_count": 41,
   "metadata": {
    "ExecuteTime": {
     "end_time": "2024-05-26T09:30:02.392859Z",
     "start_time": "2024-05-26T09:30:02.250458Z"
    },
    "execution": {
     "iopub.execute_input": "2024-05-25T17:30:55.406318Z",
     "iopub.status.busy": "2024-05-25T17:30:55.406135Z",
     "iopub.status.idle": "2024-05-25T17:30:55.491282Z",
     "shell.execute_reply": "2024-05-25T17:30:55.490538Z",
     "shell.execute_reply.started": "2024-05-25T17:30:55.406305Z"
    },
    "executionInfo": {
     "elapsed": 2,
     "status": "ok",
     "timestamp": 1716654018938,
     "user": {
      "displayName": "Anıl Özcan",
      "userId": "06510389857538456980"
     },
     "user_tz": -180
    },
    "id": "lpLXn8DwKmcY"
   },
   "source": [
    "trx_cat_df.drop(columns = [\"date\"], inplace = True)"
   ],
   "outputs": []
  },
  {
   "cell_type": "code",
   "execution_count": 43,
   "metadata": {
    "ExecuteTime": {
     "end_time": "2024-05-26T09:30:03.554711Z",
     "start_time": "2024-05-26T09:30:02.399494Z"
    },
    "execution": {
     "iopub.execute_input": "2024-05-25T17:30:56.146971Z",
     "iopub.status.busy": "2024-05-25T17:30:56.146824Z",
     "iopub.status.idle": "2024-05-25T17:30:57.110490Z",
     "shell.execute_reply": "2024-05-25T17:30:57.109540Z",
     "shell.execute_reply.started": "2024-05-25T17:30:56.146958Z"
    },
    "executionInfo": {
     "elapsed": 2879,
     "status": "ok",
     "timestamp": 1716654021816,
     "user": {
      "displayName": "Anıl Özcan",
      "userId": "06510389857538456980"
     },
     "user_tz": -180
    },
    "id": "CSasD0YWKqsP"
   },
   "source": [
    "grouper = trx_cat_df.groupby([pd.Grouper(freq='ME'), 'shop'])"
   ],
   "outputs": []
  },
  {
   "cell_type": "code",
   "execution_count": 44,
   "metadata": {
    "ExecuteTime": {
     "end_time": "2024-05-26T09:30:04.098967Z",
     "start_time": "2024-05-26T09:30:03.559459Z"
    },
    "execution": {
     "iopub.execute_input": "2024-05-25T17:30:57.135098Z",
     "iopub.status.busy": "2024-05-25T17:30:57.134948Z",
     "iopub.status.idle": "2024-05-25T17:30:57.318386Z",
     "shell.execute_reply": "2024-05-25T17:30:57.317604Z",
     "shell.execute_reply.started": "2024-05-25T17:30:57.135086Z"
    },
    "executionInfo": {
     "elapsed": 8,
     "status": "ok",
     "timestamp": 1716654021816,
     "user": {
      "displayName": "Anıl Özcan",
      "userId": "06510389857538456980"
     },
     "user_tz": -180
    },
    "id": "GKBUkFUmHn4a"
   },
   "source": [
    "seasonality_stores = grouper[\"amount\"].count()"
   ],
   "outputs": []
  },
  {
   "cell_type": "code",
   "execution_count": 45,
   "metadata": {
    "ExecuteTime": {
     "end_time": "2024-05-26T09:30:04.126833Z",
     "start_time": "2024-05-26T09:30:04.100895Z"
    },
    "execution": {
     "iopub.execute_input": "2024-05-25T17:30:57.915213Z",
     "iopub.status.busy": "2024-05-25T17:30:57.915038Z",
     "iopub.status.idle": "2024-05-25T17:30:57.920101Z",
     "shell.execute_reply": "2024-05-25T17:30:57.919377Z",
     "shell.execute_reply.started": "2024-05-25T17:30:57.915201Z"
    },
    "executionInfo": {
     "elapsed": 9,
     "status": "ok",
     "timestamp": 1716654021817,
     "user": {
      "displayName": "Anıl Özcan",
      "userId": "06510389857538456980"
     },
     "user_tz": -180
    },
    "id": "bLpnZih6MeCH"
   },
   "source": [
    "seasonality_stores = seasonality_stores.reset_index()"
   ],
   "outputs": []
  },
  {
   "cell_type": "code",
   "execution_count": 46,
   "metadata": {
    "ExecuteTime": {
     "end_time": "2024-05-26T09:30:04.170826Z",
     "start_time": "2024-05-26T09:30:04.137814Z"
    },
    "execution": {
     "iopub.execute_input": "2024-05-25T17:30:58.657946Z",
     "iopub.status.busy": "2024-05-25T17:30:58.657780Z",
     "iopub.status.idle": "2024-05-25T17:30:58.663366Z",
     "shell.execute_reply": "2024-05-25T17:30:58.662147Z",
     "shell.execute_reply.started": "2024-05-25T17:30:58.657934Z"
    },
    "executionInfo": {
     "elapsed": 8,
     "status": "ok",
     "timestamp": 1716654021817,
     "user": {
      "displayName": "Anıl Özcan",
      "userId": "06510389857538456980"
     },
     "user_tz": -180
    },
    "id": "lzGa6inFMl2K"
   },
   "source": [
    "seasonality_stores = seasonality_stores.sort_values(by = \"shop\", ascending = True)"
   ],
   "outputs": []
  },
  {
   "cell_type": "code",
   "execution_count": 47,
   "metadata": {
    "ExecuteTime": {
     "end_time": "2024-05-26T09:30:04.244020Z",
     "start_time": "2024-05-26T09:30:04.183792Z"
    },
    "colab": {
     "base_uri": "https://localhost:8080/",
     "height": 990
    },
    "execution": {
     "iopub.execute_input": "2024-05-25T17:30:59.657512Z",
     "iopub.status.busy": "2024-05-25T17:30:59.657348Z",
     "iopub.status.idle": "2024-05-25T17:30:59.665073Z",
     "shell.execute_reply": "2024-05-25T17:30:59.664590Z",
     "shell.execute_reply.started": "2024-05-25T17:30:59.657500Z"
    },
    "executionInfo": {
     "elapsed": 8,
     "status": "ok",
     "timestamp": 1716654021817,
     "user": {
      "displayName": "Anıl Özcan",
      "userId": "06510389857538456980"
     },
     "user_tz": -180
    },
    "id": "ykUbMISlMrZj",
    "outputId": "e019d262-5ec9-44bd-80f3-2f1c0bf95b23"
   },
   "source": [
    "seasonality_stores.head(30)"
   ],
   "outputs": []
  },
  {
   "cell_type": "code",
   "execution_count": 48,
   "metadata": {
    "ExecuteTime": {
     "end_time": "2024-05-26T09:30:05.286943Z",
     "start_time": "2024-05-26T09:30:04.258573Z"
    },
    "colab": {
     "base_uri": "https://localhost:8080/",
     "height": 475
    },
    "execution": {
     "iopub.execute_input": "2024-05-25T17:31:00.657991Z",
     "iopub.status.busy": "2024-05-25T17:31:00.657808Z",
     "iopub.status.idle": "2024-05-25T17:31:01.022054Z",
     "shell.execute_reply": "2024-05-25T17:31:01.020828Z",
     "shell.execute_reply.started": "2024-05-25T17:31:00.657979Z"
    },
    "executionInfo": {
     "elapsed": 2057,
     "status": "ok",
     "timestamp": 1716654025882,
     "user": {
      "displayName": "Anıl Özcan",
      "userId": "06510389857538456980"
     },
     "user_tz": -180
    },
    "id": "DuVoGOxsOkUI",
    "outputId": "a2ac34ed-5653-4a36-9efa-99de4a8849d0"
   },
   "source": [
    "seasonality_stores.groupby(\"shop\").count().plot(kind = \"bar\") # we could detect is_active stores,\n",
    "# and seasonal stores\n"
   ],
   "outputs": []
  },
  {
   "cell_type": "code",
   "execution_count": 49,
   "metadata": {
    "ExecuteTime": {
     "end_time": "2024-05-26T09:30:05.314699Z",
     "start_time": "2024-05-26T09:30:05.286943Z"
    },
    "colab": {
     "base_uri": "https://localhost:8080/"
    },
    "execution": {
     "iopub.execute_input": "2024-05-25T17:31:06.323106Z",
     "iopub.status.busy": "2024-05-25T17:31:06.322564Z",
     "iopub.status.idle": "2024-05-25T17:31:06.327905Z",
     "shell.execute_reply": "2024-05-25T17:31:06.327057Z",
     "shell.execute_reply.started": "2024-05-25T17:31:06.323087Z"
    },
    "executionInfo": {
     "elapsed": 7,
     "status": "ok",
     "timestamp": 1716654025882,
     "user": {
      "displayName": "Anıl Özcan",
      "userId": "06510389857538456980"
     },
     "user_tz": -180
    },
    "id": "Qql4-kzYPFch",
    "outputId": "7aaedbc4-b83a-4d8e-ce7a-04700e210871"
   },
   "source": [
    "seasonality_stores.date.min()"
   ],
   "outputs": []
  },
  {
   "cell_type": "code",
   "execution_count": 50,
   "metadata": {
    "ExecuteTime": {
     "end_time": "2024-05-26T09:30:05.341115Z",
     "start_time": "2024-05-26T09:30:05.315231Z"
    },
    "colab": {
     "base_uri": "https://localhost:8080/"
    },
    "execution": {
     "iopub.execute_input": "2024-05-25T17:31:07.660484Z",
     "iopub.status.busy": "2024-05-25T17:31:07.660290Z",
     "iopub.status.idle": "2024-05-25T17:31:07.665995Z",
     "shell.execute_reply": "2024-05-25T17:31:07.665262Z",
     "shell.execute_reply.started": "2024-05-25T17:31:07.660470Z"
    },
    "executionInfo": {
     "elapsed": 4,
     "status": "ok",
     "timestamp": 1716654025882,
     "user": {
      "displayName": "Anıl Özcan",
      "userId": "06510389857538456980"
     },
     "user_tz": -180
    },
    "id": "tWtqlzW0PJHm",
    "outputId": "4f5af33c-5ad8-46c4-b855-10adaca0e8e8"
   },
   "source": [
    "seasonality_stores.date.max()"
   ],
   "outputs": []
  },
  {
   "cell_type": "markdown",
   "metadata": {
    "id": "3vlMXdYaP10X"
   },
   "source": [
    "## Decision For Sake of Time"
   ]
  },
  {
   "cell_type": "code",
   "execution_count": 51,
   "metadata": {
    "ExecuteTime": {
     "end_time": "2024-05-26T09:30:05.471773Z",
     "start_time": "2024-05-26T09:30:05.345144Z"
    },
    "colab": {
     "base_uri": "https://localhost:8080/",
     "height": 446
    },
    "execution": {
     "iopub.execute_input": "2024-05-25T17:31:09.658581Z",
     "iopub.status.busy": "2024-05-25T17:31:09.658242Z",
     "iopub.status.idle": "2024-05-25T17:31:09.734819Z",
     "shell.execute_reply": "2024-05-25T17:31:09.734256Z",
     "shell.execute_reply.started": "2024-05-25T17:31:09.658563Z"
    },
    "executionInfo": {
     "elapsed": 678,
     "status": "ok",
     "timestamp": 1716654028563,
     "user": {
      "displayName": "Anıl Özcan",
      "userId": "06510389857538456980"
     },
     "user_tz": -180
    },
    "id": "iTTjPtEVP586",
    "outputId": "8bb6bded-fb72-438d-a7dd-3989d2730e2e"
   },
   "source": [
    "trx_cat_temp.item_category_id.plot(kind=\"box\")  # item_category_id : count of item_cat_id"
   ],
   "outputs": []
  },
  {
   "cell_type": "code",
   "execution_count": 52,
   "metadata": {
    "ExecuteTime": {
     "end_time": "2024-05-26T09:30:05.517691Z",
     "start_time": "2024-05-26T09:30:05.479323Z"
    },
    "colab": {
     "base_uri": "https://localhost:8080/"
    },
    "execution": {
     "iopub.execute_input": "2024-05-25T17:31:10.269015Z",
     "iopub.status.busy": "2024-05-25T17:31:10.268839Z",
     "iopub.status.idle": "2024-05-25T17:31:10.283396Z",
     "shell.execute_reply": "2024-05-25T17:31:10.282669Z",
     "shell.execute_reply.started": "2024-05-25T17:31:10.269002Z"
    },
    "executionInfo": {
     "elapsed": 4,
     "status": "ok",
     "timestamp": 1716654030108,
     "user": {
      "displayName": "Anıl Özcan",
      "userId": "06510389857538456980"
     },
     "user_tz": -180
    },
    "id": "3Ubmewz_QEXB",
    "outputId": "fbff8327-080d-4315-d795-5006dd925085"
   },
   "source": [
    "utils.check_df(trx_cat_temp)"
   ],
   "outputs": []
  },
  {
   "cell_type": "code",
   "execution_count": 53,
   "metadata": {
    "ExecuteTime": {
     "end_time": "2024-05-26T09:30:05.551257Z",
     "start_time": "2024-05-26T09:30:05.519228Z"
    },
    "execution": {
     "iopub.execute_input": "2024-05-25T17:31:11.306883Z",
     "iopub.status.busy": "2024-05-25T17:31:11.306523Z",
     "iopub.status.idle": "2024-05-25T17:31:11.311327Z",
     "shell.execute_reply": "2024-05-25T17:31:11.310635Z",
     "shell.execute_reply.started": "2024-05-25T17:31:11.306866Z"
    },
    "executionInfo": {
     "elapsed": 436,
     "status": "ok",
     "timestamp": 1716654034344,
     "user": {
      "displayName": "Anıl Özcan",
      "userId": "06510389857538456980"
     },
     "user_tz": -180
    },
    "id": "rAidIJhVQs-F"
   },
   "source": [
    "trx_cat_temp[\"cat_cluster\"] = pd.qcut(trx_cat_temp[\"item_category_id\"], q=[0, .5, .75, 1.], labels = False)"
   ],
   "outputs": []
  },
  {
   "cell_type": "code",
   "execution_count": 54,
   "metadata": {
    "ExecuteTime": {
     "end_time": "2024-05-26T09:30:05.571767Z",
     "start_time": "2024-05-26T09:30:05.551257Z"
    },
    "execution": {
     "iopub.execute_input": "2024-05-25T17:31:12.658460Z",
     "iopub.status.busy": "2024-05-25T17:31:12.658274Z",
     "iopub.status.idle": "2024-05-25T17:31:12.662022Z",
     "shell.execute_reply": "2024-05-25T17:31:12.661300Z",
     "shell.execute_reply.started": "2024-05-25T17:31:12.658448Z"
    },
    "executionInfo": {
     "elapsed": 3,
     "status": "ok",
     "timestamp": 1716654035948,
     "user": {
      "displayName": "Anıl Özcan",
      "userId": "06510389857538456980"
     },
     "user_tz": -180
    },
    "id": "B9IxsU5xRluk"
   },
   "source": [
    "trx_cat_temp.rename(columns = {\"item_category_id\":\"count_of_sales\"}, inplace = True)"
   ],
   "outputs": []
  },
  {
   "cell_type": "code",
   "execution_count": 55,
   "metadata": {
    "ExecuteTime": {
     "end_time": "2024-05-26T09:30:05.595016Z",
     "start_time": "2024-05-26T09:30:05.582356Z"
    },
    "execution": {
     "iopub.execute_input": "2024-05-25T17:31:13.325464Z",
     "iopub.status.busy": "2024-05-25T17:31:13.325259Z",
     "iopub.status.idle": "2024-05-25T17:31:13.328921Z",
     "shell.execute_reply": "2024-05-25T17:31:13.328237Z",
     "shell.execute_reply.started": "2024-05-25T17:31:13.325453Z"
    },
    "executionInfo": {
     "elapsed": 3,
     "status": "ok",
     "timestamp": 1716654036621,
     "user": {
      "displayName": "Anıl Özcan",
      "userId": "06510389857538456980"
     },
     "user_tz": -180
    },
    "id": "YOof17zgKped"
   },
   "source": [
    "trx_cat_temp.reset_index(drop = False, inplace = True)"
   ],
   "outputs": []
  },
  {
   "cell_type": "code",
   "execution_count": 56,
   "metadata": {
    "ExecuteTime": {
     "end_time": "2024-05-26T09:30:05.625360Z",
     "start_time": "2024-05-26T09:30:05.602564Z"
    },
    "colab": {
     "base_uri": "https://localhost:8080/",
     "height": 101
    },
    "execution": {
     "iopub.execute_input": "2024-05-25T17:31:14.032725Z",
     "iopub.status.busy": "2024-05-25T17:31:14.032528Z",
     "iopub.status.idle": "2024-05-25T17:31:14.039296Z",
     "shell.execute_reply": "2024-05-25T17:31:14.038232Z",
     "shell.execute_reply.started": "2024-05-25T17:31:14.032714Z"
    },
    "executionInfo": {
     "elapsed": 5,
     "status": "ok",
     "timestamp": 1716654037105,
     "user": {
      "displayName": "Anıl Özcan",
      "userId": "06510389857538456980"
     },
     "user_tz": -180
    },
    "id": "c0DJowYQKvdv",
    "outputId": "a61a0fb2-f28c-4ea0-a134-2c7c1743998b"
   },
   "source": [
    "trx_cat_temp.head(1)"
   ],
   "outputs": []
  },
  {
   "cell_type": "code",
   "execution_count": 57,
   "metadata": {
    "ExecuteTime": {
     "end_time": "2024-05-26T09:30:05.661091Z",
     "start_time": "2024-05-26T09:30:05.625360Z"
    },
    "colab": {
     "base_uri": "https://localhost:8080/",
     "height": 149
    },
    "execution": {
     "iopub.execute_input": "2024-05-25T17:31:15.367084Z",
     "iopub.status.busy": "2024-05-25T17:31:15.366904Z",
     "iopub.status.idle": "2024-05-25T17:31:15.375209Z",
     "shell.execute_reply": "2024-05-25T17:31:15.373946Z",
     "shell.execute_reply.started": "2024-05-25T17:31:15.367072Z"
    },
    "executionInfo": {
     "elapsed": 8,
     "status": "ok",
     "timestamp": 1716654038384,
     "user": {
      "displayName": "Anıl Özcan",
      "userId": "06510389857538456980"
     },
     "user_tz": -180
    },
    "id": "cyWuoNGxLyfm",
    "outputId": "53ab939f-6785-47b9-ca37-d5e2d3d5a28a"
   },
   "source": [
    "trx_cat_df.head(1)"
   ],
   "outputs": []
  },
  {
   "cell_type": "code",
   "execution_count": 58,
   "metadata": {
    "ExecuteTime": {
     "end_time": "2024-05-26T09:30:06.208837Z",
     "start_time": "2024-05-26T09:30:05.666223Z"
    },
    "execution": {
     "iopub.execute_input": "2024-05-25T17:31:16.279270Z",
     "iopub.status.busy": "2024-05-25T17:31:16.279120Z",
     "iopub.status.idle": "2024-05-25T17:31:16.876328Z",
     "shell.execute_reply": "2024-05-25T17:31:16.875234Z",
     "shell.execute_reply.started": "2024-05-25T17:31:16.279259Z"
    },
    "executionInfo": {
     "elapsed": 1144,
     "status": "ok",
     "timestamp": 1716654040274,
     "user": {
      "displayName": "Anıl Özcan",
      "userId": "06510389857538456980"
     },
     "user_tz": -180
    },
    "id": "sVmStWvQK1pp"
   },
   "source": [
    "trx_cat_df = trx_cat_df.reset_index().merge(trx_cat_temp[[\"cat_cluster\", \"item_category_id\"]], on=[\"item_category_id\"], how=\"inner\").set_index(\"date\")"
   ],
   "outputs": []
  },
  {
   "cell_type": "code",
   "execution_count": 59,
   "metadata": {
    "ExecuteTime": {
     "end_time": "2024-05-26T09:30:06.240283Z",
     "start_time": "2024-05-26T09:30:06.211564Z"
    },
    "colab": {
     "base_uri": "https://localhost:8080/",
     "height": 149
    },
    "execution": {
     "iopub.execute_input": "2024-05-25T17:31:17.659261Z",
     "iopub.status.busy": "2024-05-25T17:31:17.659082Z",
     "iopub.status.idle": "2024-05-25T17:31:17.666843Z",
     "shell.execute_reply": "2024-05-25T17:31:17.665747Z",
     "shell.execute_reply.started": "2024-05-25T17:31:17.659248Z"
    },
    "executionInfo": {
     "elapsed": 9,
     "status": "ok",
     "timestamp": 1716654040275,
     "user": {
      "displayName": "Anıl Özcan",
      "userId": "06510389857538456980"
     },
     "user_tz": -180
    },
    "id": "pswqhRvTK1rl",
    "outputId": "fc011220-30ec-4bd8-f5ad-a67c0f172904"
   },
   "source": [
    "trx_cat_df.head(1)"
   ],
   "outputs": []
  },
  {
   "cell_type": "markdown",
   "metadata": {
    "id": "pI8eSw9jMX11"
   },
   "source": [
    "## Data Prep"
   ]
  },
  {
   "cell_type": "code",
   "execution_count": 60,
   "metadata": {
    "execution": {
     "iopub.execute_input": "2024-05-25T17:33:59.448618Z",
     "iopub.status.busy": "2024-05-25T17:33:59.448431Z",
     "iopub.status.idle": "2024-05-25T17:34:01.888109Z",
     "shell.execute_reply": "2024-05-25T17:34:01.887412Z",
     "shell.execute_reply.started": "2024-05-25T17:33:59.448605Z"
    },
    "executionInfo": {
     "elapsed": 3,
     "status": "ok",
     "timestamp": 1716651550187,
     "user": {
      "displayName": "Anıl Özcan",
      "userId": "06510389857538456980"
     },
     "user_tz": -180
    },
    "id": "-YE0lYkoNgR1"
   },
   "source": [
    "# package documentation: https://unit8co.github.io/darts/generated_api/darts.timeseries.html\n",
    "from darts import TimeSeries\n",
    "import darts"
   ],
   "outputs": []
  },
  {
   "cell_type": "code",
   "execution_count": 61,
   "metadata": {
    "colab": {
     "base_uri": "https://localhost:8080/",
     "height": 36
    },
    "execution": {
     "iopub.execute_input": "2024-05-25T17:34:33.859194Z",
     "iopub.status.busy": "2024-05-25T17:34:33.858824Z",
     "iopub.status.idle": "2024-05-25T17:34:33.864269Z",
     "shell.execute_reply": "2024-05-25T17:34:33.863386Z",
     "shell.execute_reply.started": "2024-05-25T17:34:33.859176Z"
    },
    "executionInfo": {
     "elapsed": 6,
     "status": "ok",
     "timestamp": 1716651554334,
     "user": {
      "displayName": "Anıl Özcan",
      "userId": "06510389857538456980"
     },
     "user_tz": -180
    },
    "id": "M-Mu-Ao1Z3qE",
    "outputId": "d17e1305-cc23-4765-dc0a-e912709ace21"
   },
   "source": [
    "darts.__version__"
   ],
   "outputs": []
  },
  {
   "cell_type": "code",
   "execution_count": 62,
   "metadata": {
    "colab": {
     "base_uri": "https://localhost:8080/"
    },
    "execution": {
     "iopub.execute_input": "2024-05-25T17:34:37.758816Z",
     "iopub.status.busy": "2024-05-25T17:34:37.758569Z",
     "iopub.status.idle": "2024-05-25T17:34:37.773185Z",
     "shell.execute_reply": "2024-05-25T17:34:37.772184Z",
     "shell.execute_reply.started": "2024-05-25T17:34:37.758802Z"
    },
    "executionInfo": {
     "elapsed": 481,
     "status": "ok",
     "timestamp": 1716654045845,
     "user": {
      "displayName": "Anıl Özcan",
      "userId": "06510389857538456980"
     },
     "user_tz": -180
    },
    "id": "tYlE_TQDWu2H",
    "outputId": "fa3f15e0-0218-48b0-8976-bd9586848239"
   },
   "source": [
    "trx_cat_df.shop.nunique()"
   ],
   "outputs": []
  },
  {
   "cell_type": "code",
   "execution_count": 63,
   "metadata": {
    "colab": {
     "base_uri": "https://localhost:8080/",
     "height": 149
    },
    "execution": {
     "iopub.execute_input": "2024-05-25T17:34:39.859507Z",
     "iopub.status.busy": "2024-05-25T17:34:39.859232Z",
     "iopub.status.idle": "2024-05-25T17:34:39.867512Z",
     "shell.execute_reply": "2024-05-25T17:34:39.866468Z",
     "shell.execute_reply.started": "2024-05-25T17:34:39.859492Z"
    },
    "executionInfo": {
     "elapsed": 8,
     "status": "ok",
     "timestamp": 1716654143826,
     "user": {
      "displayName": "Anıl Özcan",
      "userId": "06510389857538456980"
     },
     "user_tz": -180
    },
    "id": "qNguZue6jG5o",
    "outputId": "42e6563e-56e1-43a5-e3a4-8e30529c5021"
   },
   "source": [
    "trx_cat_df.head(1)"
   ],
   "outputs": []
  },
  {
   "cell_type": "code",
   "execution_count": 64,
   "metadata": {
    "execution": {
     "iopub.execute_input": "2024-05-25T19:51:05.710485Z",
     "iopub.status.busy": "2024-05-25T19:51:05.710289Z",
     "iopub.status.idle": "2024-05-25T19:51:06.685311Z",
     "shell.execute_reply": "2024-05-25T19:51:06.684100Z",
     "shell.execute_reply.started": "2024-05-25T19:51:05.710472Z"
    },
    "executionInfo": {
     "elapsed": 2426,
     "status": "ok",
     "timestamp": 1716654403095,
     "user": {
      "displayName": "Anıl Özcan",
      "userId": "06510389857538456980"
     },
     "user_tz": -180
    },
    "id": "_ZqkvgulkqRX"
   },
   "source": [
    "grouper = trx_cat_df.groupby([pd.Grouper(freq='ME'), 'shop', \"item\", \"item_category_id\", \"cat_cluster\"])"
   ],
   "outputs": []
  },
  {
   "cell_type": "code",
   "execution_count": 65,
   "metadata": {
    "execution": {
     "iopub.execute_input": "2024-05-25T19:51:06.686088Z",
     "iopub.status.busy": "2024-05-25T19:51:06.685960Z",
     "iopub.status.idle": "2024-05-25T19:51:07.179863Z",
     "shell.execute_reply": "2024-05-25T19:51:07.178598Z",
     "shell.execute_reply.started": "2024-05-25T19:51:06.686077Z"
    },
    "executionInfo": {
     "elapsed": 417,
     "status": "ok",
     "timestamp": 1716654462799,
     "user": {
      "displayName": "Anıl Özcan",
      "userId": "06510389857538456980"
     },
     "user_tz": -180
    },
    "id": "ywor3hjIjlxa"
   },
   "source": [
    "ts_df = grouper[\"amount\"].sum()"
   ],
   "outputs": []
  },
  {
   "cell_type": "code",
   "execution_count": 66,
   "metadata": {
    "execution": {
     "iopub.execute_input": "2024-05-25T19:51:07.180628Z",
     "iopub.status.busy": "2024-05-25T19:51:07.180500Z",
     "iopub.status.idle": "2024-05-25T19:51:07.213053Z",
     "shell.execute_reply": "2024-05-25T19:51:07.212532Z",
     "shell.execute_reply.started": "2024-05-25T19:51:07.180617Z"
    },
    "executionInfo": {
     "elapsed": 438,
     "status": "ok",
     "timestamp": 1716654550999,
     "user": {
      "displayName": "Anıl Özcan",
      "userId": "06510389857538456980"
     },
     "user_tz": -180
    },
    "id": "dFpBXt6hg18N"
   },
   "source": [
    "ts_df = ts_df.reset_index()"
   ],
   "outputs": []
  },
  {
   "cell_type": "code",
   "execution_count": 67,
   "metadata": {
    "execution": {
     "iopub.execute_input": "2024-05-25T19:51:07.360879Z",
     "iopub.status.busy": "2024-05-25T19:51:07.360739Z",
     "iopub.status.idle": "2024-05-25T19:51:07.368378Z",
     "shell.execute_reply": "2024-05-25T19:51:07.367699Z",
     "shell.execute_reply.started": "2024-05-25T19:51:07.360868Z"
    }
   },
   "source": [
    "date_index = pd.date_range(ts_df.date.min(), ts_df.date.max(), freq=\"ME\")"
   ],
   "outputs": []
  },
  {
   "cell_type": "code",
   "execution_count": 68,
   "metadata": {
    "execution": {
     "iopub.execute_input": "2024-05-25T19:51:07.843602Z",
     "iopub.status.busy": "2024-05-25T19:51:07.843420Z",
     "iopub.status.idle": "2024-05-25T19:51:07.847689Z",
     "shell.execute_reply": "2024-05-25T19:51:07.847196Z",
     "shell.execute_reply.started": "2024-05-25T19:51:07.843589Z"
    }
   },
   "source": [
    "dt_i = date_index.to_frame().reset_index(drop=True)"
   ],
   "outputs": []
  },
  {
   "cell_type": "code",
   "execution_count": 69,
   "metadata": {
    "execution": {
     "iopub.execute_input": "2024-05-25T19:51:08.289433Z",
     "iopub.status.busy": "2024-05-25T19:51:08.289280Z",
     "iopub.status.idle": "2024-05-25T19:51:08.292846Z",
     "shell.execute_reply": "2024-05-25T19:51:08.292033Z",
     "shell.execute_reply.started": "2024-05-25T19:51:08.289422Z"
    }
   },
   "source": [
    "dt_i.columns = [\"date\"]"
   ],
   "outputs": []
  },
  {
   "cell_type": "code",
   "execution_count": 70,
   "metadata": {
    "execution": {
     "iopub.execute_input": "2024-05-25T19:51:08.785529Z",
     "iopub.status.busy": "2024-05-25T19:51:08.785067Z",
     "iopub.status.idle": "2024-05-25T19:51:08.800364Z",
     "shell.execute_reply": "2024-05-25T19:51:08.798968Z",
     "shell.execute_reply.started": "2024-05-25T19:51:08.785512Z"
    }
   },
   "source": [
    "duos = ts_df[[\"shop\",\"item\",\"item_category_id\", \"cat_cluster\"]]"
   ],
   "outputs": []
  },
  {
   "cell_type": "code",
   "execution_count": 71,
   "metadata": {
    "execution": {
     "iopub.execute_input": "2024-05-25T19:51:09.317768Z",
     "iopub.status.busy": "2024-05-25T19:51:09.317275Z",
     "iopub.status.idle": "2024-05-25T19:51:09.327427Z",
     "shell.execute_reply": "2024-05-25T19:51:09.326372Z",
     "shell.execute_reply.started": "2024-05-25T19:51:09.317753Z"
    }
   },
   "source": [
    "duos.count()"
   ],
   "outputs": []
  },
  {
   "cell_type": "code",
   "execution_count": 72,
   "metadata": {
    "execution": {
     "iopub.execute_input": "2024-05-25T19:51:10.141675Z",
     "iopub.status.busy": "2024-05-25T19:51:10.141428Z",
     "iopub.status.idle": "2024-05-25T19:51:10.222557Z",
     "shell.execute_reply": "2024-05-25T19:51:10.221849Z",
     "shell.execute_reply.started": "2024-05-25T19:51:10.141660Z"
    }
   },
   "source": [
    "duos.drop_duplicates(inplace=True)"
   ],
   "outputs": []
  },
  {
   "cell_type": "code",
   "execution_count": 73,
   "metadata": {
    "execution": {
     "iopub.execute_input": "2024-05-25T19:51:10.708608Z",
     "iopub.status.busy": "2024-05-25T19:51:10.708445Z",
     "iopub.status.idle": "2024-05-25T19:51:10.712098Z",
     "shell.execute_reply": "2024-05-25T19:51:10.711406Z",
     "shell.execute_reply.started": "2024-05-25T19:51:10.708597Z"
    }
   },
   "source": [
    "dt_i[\"key\"] = 0"
   ],
   "outputs": []
  },
  {
   "cell_type": "code",
   "execution_count": 74,
   "metadata": {
    "execution": {
     "iopub.execute_input": "2024-05-25T19:51:11.225720Z",
     "iopub.status.busy": "2024-05-25T19:51:11.225156Z",
     "iopub.status.idle": "2024-05-25T19:51:11.229300Z",
     "shell.execute_reply": "2024-05-25T19:51:11.228538Z",
     "shell.execute_reply.started": "2024-05-25T19:51:11.225702Z"
    }
   },
   "source": [
    "duos[\"key\"] = 0"
   ],
   "outputs": []
  },
  {
   "cell_type": "code",
   "execution_count": 75,
   "metadata": {
    "execution": {
     "iopub.execute_input": "2024-05-25T19:51:11.748117Z",
     "iopub.status.busy": "2024-05-25T19:51:11.747024Z",
     "iopub.status.idle": "2024-05-25T19:51:12.462697Z",
     "shell.execute_reply": "2024-05-25T19:51:12.461157Z",
     "shell.execute_reply.started": "2024-05-25T19:51:11.748101Z"
    }
   },
   "source": [
    "left = dt_i.merge(duos, on=\"key\", how=\"outer\").drop(\"key\", axis=1)"
   ],
   "outputs": []
  },
  {
   "cell_type": "code",
   "execution_count": 77,
   "metadata": {
    "execution": {
     "iopub.execute_input": "2024-05-25T19:51:12.463457Z",
     "iopub.status.busy": "2024-05-25T19:51:12.463328Z",
     "iopub.status.idle": "2024-05-25T19:51:12.525933Z",
     "shell.execute_reply": "2024-05-25T19:51:12.525192Z",
     "shell.execute_reply.started": "2024-05-25T19:51:12.463446Z"
    }
   },
   "source": [
    "left.count()"
   ],
   "outputs": []
  },
  {
   "cell_type": "code",
   "execution_count": 78,
   "metadata": {
    "execution": {
     "iopub.execute_input": "2024-05-25T19:51:13.314109Z",
     "iopub.status.busy": "2024-05-25T19:51:13.313943Z",
     "iopub.status.idle": "2024-05-25T19:51:16.637659Z",
     "shell.execute_reply": "2024-05-25T19:51:16.636104Z",
     "shell.execute_reply.started": "2024-05-25T19:51:13.314098Z"
    }
   },
   "source": [
    "left = left.merge(ts_df, on=[\"date\",\"shop\",\"item\",\"item_category_id\",\"cat_cluster\"], how=\"outer\")"
   ],
   "outputs": []
  },
  {
   "cell_type": "code",
   "execution_count": 79,
   "metadata": {
    "execution": {
     "iopub.execute_input": "2024-05-25T19:51:16.638415Z",
     "iopub.status.busy": "2024-05-25T19:51:16.638288Z",
     "iopub.status.idle": "2024-05-25T19:51:16.715464Z",
     "shell.execute_reply": "2024-05-25T19:51:16.714795Z",
     "shell.execute_reply.started": "2024-05-25T19:51:16.638403Z"
    }
   },
   "source": [
    "left.count()"
   ],
   "outputs": []
  },
  {
   "cell_type": "code",
   "execution_count": 80,
   "metadata": {},
   "source": [
    "left[:1000]"
   ],
   "outputs": []
  },
  {
   "cell_type": "code",
   "execution_count": null,
   "metadata": {
    "execution": {
     "iopub.execute_input": "2024-05-25T19:51:22.439382Z",
     "iopub.status.busy": "2024-05-25T19:51:22.439192Z"
    },
    "id": "aSAAefRpUuQ_"
   },
   "source": [
    "ts = TimeSeries.from_group_dataframe(df=ts_df,\n",
    "                                     group_cols=['item', \"shop\", \"item_category_id\", \"cat_cluster\"],\n",
    "                                     freq=\"ME\",\n",
    "                                     n_jobs=-1,\n",
    "                                     verbose=True,\n",
    "                                     fillna_value=0,\n",
    "                                     value_cols=[\"amount\"],\n",
    "                                     time_col=\"date\") # target column\n",
    "                                      # date column not passed index will be used"
   ],
   "outputs": []
  },
  {
   "cell_type": "code",
   "execution_count": null,
   "metadata": {},
   "source": [
    "with open(\"./data/ts\", \"wb\") as file:\n",
    "    pickle.dump(ts, file)"
   ],
   "outputs": []
  },
  {
   "cell_type": "code",
   "execution_count": null,
   "metadata": {
    "execution": {
     "iopub.execute_input": "2024-05-25T18:55:09.307179Z",
     "iopub.status.busy": "2024-05-25T18:55:09.306992Z",
     "iopub.status.idle": "2024-05-25T18:55:09.317908Z",
     "shell.execute_reply": "2024-05-25T18:55:09.317235Z",
     "shell.execute_reply.started": "2024-05-25T18:55:09.307167Z"
    }
   },
   "source": [
    "import multiprocessing\n",
    "\n",
    "multiprocessing.cpu_count()"
   ],
   "outputs": []
  },
  {
   "cell_type": "code",
   "execution_count": null,
   "metadata": {},
   "source": [],
   "outputs": []
  }
 ],
 "metadata": {
  "colab": {
   "authorship_tag": "ABX9TyPBZOCluXhKqxt0Fx3LzJsD",
   "mount_file_id": "14mHJIGXm9T2E1TL5iPhcon4C1RFz1Abs",
   "provenance": []
  },
  "kernelspec": {
   "display_name": "trx_fcst",
   "language": "python",
   "name": "trx_fcst"
  },
  "language_info": {
   "codemirror_mode": {
    "name": "ipython",
    "version": 3
   },
   "file_extension": ".py",
   "mimetype": "text/x-python",
   "name": "python",
   "nbconvert_exporter": "python",
   "pygments_lexer": "ipython3",
   "version": "3.12.0"
  }
 },
 "nbformat": 4,
 "nbformat_minor": 4
}
