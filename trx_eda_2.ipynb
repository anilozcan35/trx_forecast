{
 "cells": [
  {
   "cell_type": "code",
   "execution_count": 1,
   "metadata": {
    "ExecuteTime": {
     "end_time": "2024-05-26T12:29:09.148493Z",
     "start_time": "2024-05-26T12:29:09.138448Z"
    },
    "executionInfo": {
     "elapsed": 5,
     "status": "ok",
     "timestamp": 1716646490669,
     "user": {
      "displayName": "Anıl Özcan",
      "userId": "06510389857538456980"
     },
     "user_tz": -180
    },
    "id": "CMay1qmqGmaJ"
   },
   "outputs": [],
   "source": [
    "import os\n",
    "import importlib\n",
    "import pickle\n",
    "import pandas as pd"
   ]
  },
  {
   "cell_type": "code",
   "execution_count": 2,
   "metadata": {
    "ExecuteTime": {
     "end_time": "2024-05-26T12:29:09.897947Z",
     "start_time": "2024-05-26T12:29:09.873254Z"
    },
    "colab": {
     "base_uri": "https://localhost:8080/",
     "height": 36
    },
    "executionInfo": {
     "elapsed": 5,
     "status": "ok",
     "timestamp": 1716646508076,
     "user": {
      "displayName": "Anıl Özcan",
      "userId": "06510389857538456980"
     },
     "user_tz": -180
    },
    "id": "-zH_n91WGt6I",
    "outputId": "1f723d2c-8a79-43e6-dc15-09182a8910cd"
   },
   "outputs": [
    {
     "data": {
      "text/plain": [
       "'C:\\\\Users\\\\aozcan\\\\PycharmProjects\\\\trx_forecast'"
      ]
     },
     "execution_count": 2,
     "metadata": {},
     "output_type": "execute_result"
    }
   ],
   "source": [
    "os.getcwd()"
   ]
  },
  {
   "cell_type": "code",
   "execution_count": 3,
   "metadata": {
    "ExecuteTime": {
     "end_time": "2024-05-26T12:29:09.926811Z",
     "start_time": "2024-05-26T12:29:09.919607Z"
    },
    "executionInfo": {
     "elapsed": 426,
     "status": "ok",
     "timestamp": 1716646577449,
     "user": {
      "displayName": "Anıl Özcan",
      "userId": "06510389857538456980"
     },
     "user_tz": -180
    },
    "id": "sGdVLDM-3hnK"
   },
   "outputs": [],
   "source": [
    "import sys\n",
    "sys.path.append(os.getcwd())"
   ]
  },
  {
   "cell_type": "code",
   "execution_count": 4,
   "metadata": {
    "ExecuteTime": {
     "end_time": "2024-05-26T12:29:09.995710Z",
     "start_time": "2024-05-26T12:29:09.970513Z"
    },
    "colab": {
     "base_uri": "https://localhost:8080/"
    },
    "executionInfo": {
     "elapsed": 4,
     "status": "ok",
     "timestamp": 1716646582200,
     "user": {
      "displayName": "Anıl Özcan",
      "userId": "06510389857538456980"
     },
     "user_tz": -180
    },
    "id": "2LSfAP9HGrq7",
    "outputId": "41c67c9a-0f0e-4a81-85a6-9d3e3c33c33e"
   },
   "outputs": [
    {
     "data": {
      "text/plain": [
       "<module 'utils' from 'C:\\\\Users\\\\aozcan\\\\PycharmProjects\\\\trx_forecast\\\\utils.py'>"
      ]
     },
     "execution_count": 4,
     "metadata": {},
     "output_type": "execute_result"
    }
   ],
   "source": [
    "import utils\n",
    "importlib.reload(utils)"
   ]
  },
  {
   "cell_type": "code",
   "execution_count": 5,
   "metadata": {
    "ExecuteTime": {
     "end_time": "2024-05-26T12:29:10.107577Z",
     "start_time": "2024-05-26T12:29:10.095138Z"
    },
    "executionInfo": {
     "elapsed": 417,
     "status": "ok",
     "timestamp": 1716646584476,
     "user": {
      "displayName": "Anıl Özcan",
      "userId": "06510389857538456980"
     },
     "user_tz": -180
    },
    "id": "yfBCoHgC4H97"
   },
   "outputs": [],
   "source": [
    "WORK_DIR = os.getcwd()"
   ]
  },
  {
   "cell_type": "code",
   "execution_count": 6,
   "metadata": {
    "ExecuteTime": {
     "end_time": "2024-05-26T12:29:10.291133Z",
     "start_time": "2024-05-26T12:29:10.281087Z"
    },
    "executionInfo": {
     "elapsed": 2,
     "status": "ok",
     "timestamp": 1716646586023,
     "user": {
      "displayName": "Anıl Özcan",
      "userId": "06510389857538456980"
     },
     "user_tz": -180
    },
    "id": "onna22s-4IGX"
   },
   "outputs": [],
   "source": [
    "DATA_PATH = os.path.join(\"./data\")\n",
    "CAT_PATH = os.path.join(DATA_PATH, \"category_list.csv\")\n",
    "ITEM_PATH = os.path.join(DATA_PATH, \"item_list.csv\")\n",
    "SHOP_PATH = os.path.join(DATA_PATH, \"shop_list.csv\")\n",
    "TRX_PATH = os.path.join(DATA_PATH, \"transaction.csv\")\n"
   ]
  },
  {
   "cell_type": "code",
   "execution_count": 125,
   "metadata": {
    "ExecuteTime": {
     "end_time": "2024-05-26T12:29:12.968063Z",
     "start_time": "2024-05-26T12:29:10.328171Z"
    },
    "executionInfo": {
     "elapsed": 1840,
     "status": "ok",
     "timestamp": 1716646589329,
     "user": {
      "displayName": "Anıl Özcan",
      "userId": "06510389857538456980"
     },
     "user_tz": -180
    },
    "id": "19jUcssc4IIz"
   },
   "outputs": [],
   "source": [
    "item_df = pd.read_csv(ITEM_PATH, index_col=0)\n",
    "cat_df = pd.read_csv(CAT_PATH, index_col=0)\n",
    "shop_df = pd.read_csv(SHOP_PATH, index_col=0)\n",
    "trx_df = pd.read_csv(TRX_PATH, index_col=0)"
   ]
  },
  {
   "cell_type": "code",
   "execution_count": 8,
   "metadata": {
    "ExecuteTime": {
     "end_time": "2024-05-26T12:29:12.998908Z",
     "start_time": "2024-05-26T12:29:12.968063Z"
    },
    "colab": {
     "base_uri": "https://localhost:8080/",
     "height": 206
    },
    "executionInfo": {
     "elapsed": 6,
     "status": "ok",
     "timestamp": 1716646591088,
     "user": {
      "displayName": "Anıl Özcan",
      "userId": "06510389857538456980"
     },
     "user_tz": -180
    },
    "id": "jB9D_MtR5tQN",
    "outputId": "f30f2bf5-3d63-494e-cd9f-005035fdd1dd"
   },
   "outputs": [
    {
     "data": {
      "text/html": [
       "<div>\n",
       "<style scoped>\n",
       "    .dataframe tbody tr th:only-of-type {\n",
       "        vertical-align: middle;\n",
       "    }\n",
       "\n",
       "    .dataframe tbody tr th {\n",
       "        vertical-align: top;\n",
       "    }\n",
       "\n",
       "    .dataframe thead th {\n",
       "        text-align: right;\n",
       "    }\n",
       "</style>\n",
       "<table border=\"1\" class=\"dataframe\">\n",
       "  <thead>\n",
       "    <tr style=\"text-align: right;\">\n",
       "      <th></th>\n",
       "      <th>item_name</th>\n",
       "      <th>item_id</th>\n",
       "      <th>item_category_id</th>\n",
       "    </tr>\n",
       "  </thead>\n",
       "  <tbody>\n",
       "    <tr>\n",
       "      <th>0</th>\n",
       "      <td>! IN THE GRIP OF GLAMOUR (PLAST.)         D</td>\n",
       "      <td>100000</td>\n",
       "      <td>1040</td>\n",
       "    </tr>\n",
       "    <tr>\n",
       "      <th>1</th>\n",
       "      <td>! ABBYY FineReader 12 Professional Edition Ful...</td>\n",
       "      <td>100001</td>\n",
       "      <td>1076</td>\n",
       "    </tr>\n",
       "    <tr>\n",
       "      <th>2</th>\n",
       "      <td>IN THE SPOTLIGHT (UNV) D</td>\n",
       "      <td>100002</td>\n",
       "      <td>1040</td>\n",
       "    </tr>\n",
       "    <tr>\n",
       "      <th>3</th>\n",
       "      <td>BLUE WAVE (Univ) D</td>\n",
       "      <td>100003</td>\n",
       "      <td>1040</td>\n",
       "    </tr>\n",
       "    <tr>\n",
       "      <th>4</th>\n",
       "      <td>BOX (GLASS) D</td>\n",
       "      <td>100004</td>\n",
       "      <td>1040</td>\n",
       "    </tr>\n",
       "  </tbody>\n",
       "</table>\n",
       "</div>"
      ],
      "text/plain": [
       "                                           item_name  item_id  item_category_id\n",
       "0        ! IN THE GRIP OF GLAMOUR (PLAST.)         D   100000              1040\n",
       "1  ! ABBYY FineReader 12 Professional Edition Ful...   100001              1076\n",
       "2                           IN THE SPOTLIGHT (UNV) D   100002              1040\n",
       "3                                 BLUE WAVE (Univ) D   100003              1040\n",
       "4                                      BOX (GLASS) D   100004              1040"
      ]
     },
     "execution_count": 8,
     "metadata": {},
     "output_type": "execute_result"
    }
   ],
   "source": [
    "item_df.head()"
   ]
  },
  {
   "cell_type": "code",
   "execution_count": 9,
   "metadata": {
    "ExecuteTime": {
     "end_time": "2024-05-26T12:29:13.026082Z",
     "start_time": "2024-05-26T12:29:12.998908Z"
    },
    "colab": {
     "base_uri": "https://localhost:8080/"
    },
    "executionInfo": {
     "elapsed": 414,
     "status": "ok",
     "timestamp": 1716646593452,
     "user": {
      "displayName": "Anıl Özcan",
      "userId": "06510389857538456980"
     },
     "user_tz": -180
    },
    "id": "IxhTC4TG5tSt",
    "outputId": "fe16d6f4-6843-46f1-b475-4cc33ccdae24"
   },
   "outputs": [
    {
     "name": "stdout",
     "output_type": "stream",
     "text": [
      "##################### Shape #####################\n",
      "(84, 2)\n",
      "##################### Types #####################\n",
      "item_category_name    object\n",
      "item_category_id       int64\n",
      "dtype: object\n",
      "##################### Head #####################\n",
      "         item_category_name  item_category_id\n",
      "0  PC - Headsets/Headphones              1000\n",
      "1         Accessories - PS2              1001\n",
      "2         Accessories - PS3              1002\n",
      "3         Accessories - PS4              1003\n",
      "4         Accessories - PSP              1004\n",
      "##################### Tail #####################\n",
      "     item_category_name  item_category_id\n",
      "79              Service              1079\n",
      "80    Service - Tickets              1080\n",
      "81   Pure media (spire)              1081\n",
      "82  Blank media (piece)              1082\n",
      "83            Batteries              1083\n",
      "##################### NA #####################\n",
      "item_category_name    0\n",
      "item_category_id      0\n",
      "dtype: int64\n",
      "##################### Quantiles #####################\n",
      "                  count    mean        std     min      0%       5%     50%      95%      99%    100%     max\n",
      "item_category_id   84.0  1041.5  24.392622  1000.0  1000.0  1004.15  1041.5  1078.85  1082.17  1083.0  1083.0\n"
     ]
    }
   ],
   "source": [
    "utils.check_df(cat_df)"
   ]
  },
  {
   "cell_type": "code",
   "execution_count": 10,
   "metadata": {
    "ExecuteTime": {
     "end_time": "2024-05-26T12:29:13.056732Z",
     "start_time": "2024-05-26T12:29:13.026082Z"
    },
    "colab": {
     "base_uri": "https://localhost:8080/"
    },
    "executionInfo": {
     "elapsed": 420,
     "status": "ok",
     "timestamp": 1716646595740,
     "user": {
      "displayName": "Anıl Özcan",
      "userId": "06510389857538456980"
     },
     "user_tz": -180
    },
    "id": "QV2ko5Oq5tU9",
    "outputId": "3a72f8dc-637e-402c-bf1d-c7624db7b536"
   },
   "outputs": [
    {
     "name": "stdout",
     "output_type": "stream",
     "text": [
      "##################### Shape #####################\n",
      "(22170, 3)\n",
      "##################### Types #####################\n",
      "item_name           object\n",
      "item_id              int64\n",
      "item_category_id     int64\n",
      "dtype: object\n",
      "##################### Head #####################\n",
      "                                           item_name  item_id  item_category_id\n",
      "0        ! IN THE GRIP OF GLAMOUR (PLAST.)         D   100000              1040\n",
      "1  ! ABBYY FineReader 12 Professional Edition Ful...   100001              1076\n",
      "2                           IN THE SPOTLIGHT (UNV) D   100002              1040\n",
      "3                                 BLUE WAVE (Univ) D   100003              1040\n",
      "4                                      BOX (GLASS) D   100004              1040\n",
      "##################### Tail #####################\n",
      "                                               item_name  item_id  item_category_id\n",
      "22165             Nuclear Titbit 2 [PC, Digital Version]   122165              1031\n",
      "22166     1C:Enterprise Query Language [Digital Version]   122166              1054\n",
      "22167  1C:Enterprise 8 (+CD) query language. Khrustal...   122167              1049\n",
      "22168                                 Egg for Little Inu   122168              1062\n",
      "22169                       Dragon Egg (Game of Thrones)   122169              1069\n",
      "##################### NA #####################\n",
      "item_name           0\n",
      "item_id             0\n",
      "item_category_id    0\n",
      "dtype: int64\n",
      "##################### Quantiles #####################\n",
      "                    count           mean          std       min        0%         5%       50%        95%        99%      100%       max\n",
      "item_id           22170.0  111084.500000  6400.072070  100000.0  100000.0  101108.45  111084.5  121060.55  121947.31  122169.0  122169.0\n",
      "item_category_id  22170.0    1046.290753    15.941486    1000.0    1000.0    1020.00    1040.0    1075.00    1078.00    1083.0    1083.0\n"
     ]
    }
   ],
   "source": [
    "utils.check_df(item_df) # will create v_item_lookup"
   ]
  },
  {
   "cell_type": "code",
   "execution_count": 35,
   "metadata": {},
   "outputs": [],
   "source": [
    "grouper = trx_df.groupby([pd.Grouper(freq='ME'), 'shop',\"item\"])"
   ]
  },
  {
   "cell_type": "code",
   "execution_count": 37,
   "metadata": {},
   "outputs": [],
   "source": [
    "ss = grouper[\"amount\"].sum()"
   ]
  },
  {
   "cell_type": "code",
   "execution_count": 42,
   "metadata": {},
   "outputs": [],
   "source": [
    "ss = ss.reset_index()"
   ]
  },
  {
   "cell_type": "code",
   "execution_count": 33,
   "metadata": {},
   "outputs": [
    {
     "name": "stderr",
     "output_type": "stream",
     "text": [
      "C:\\Users\\aozcan\\AppData\\Local\\Temp\\ipykernel_13244\\1752499526.py:1: FutureWarning: 'M' is deprecated and will be removed in a future version, please use 'ME' instead.\n",
      "  trx_df.groupby([\"shop\",\"item\"]).resample(\"M\").sum()\n",
      "\n",
      "KeyboardInterrupt\n",
      "\n"
     ]
    }
   ],
   "source": [
    "trx_df.groupby([\"shop\",\"item\"]).resample(\"M\").sum()"
   ]
  },
  {
   "cell_type": "code",
   "execution_count": 31,
   "metadata": {},
   "outputs": [],
   "source": [
    "trx_df[\"date\"] = pd.to_datetime(trx_df[\"date\"], format =\"%d.%m.%Y\")"
   ]
  },
  {
   "cell_type": "code",
   "execution_count": 32,
   "metadata": {},
   "outputs": [],
   "source": [
    "trx_df.set_index(\"date\", inplace =True)"
   ]
  },
  {
   "cell_type": "code",
   "execution_count": 23,
   "metadata": {},
   "outputs": [],
   "source": [
    "trx_df=trx_df.resample(\"ME\").sum()"
   ]
  },
  {
   "cell_type": "code",
   "execution_count": 30,
   "metadata": {},
   "outputs": [
    {
     "data": {
      "text/plain": [
       "Index(['date', 'shop', 'item', 'price', 'amount'], dtype='object')"
      ]
     },
     "execution_count": 30,
     "metadata": {},
     "output_type": "execute_result"
    }
   ],
   "source": [
    "trx_df.columns"
   ]
  },
  {
   "cell_type": "code",
   "execution_count": 48,
   "metadata": {},
   "outputs": [
    {
     "data": {
      "text/html": [
       "<div>\n",
       "<style scoped>\n",
       "    .dataframe tbody tr th:only-of-type {\n",
       "        vertical-align: middle;\n",
       "    }\n",
       "\n",
       "    .dataframe tbody tr th {\n",
       "        vertical-align: top;\n",
       "    }\n",
       "\n",
       "    .dataframe thead th {\n",
       "        text-align: right;\n",
       "    }\n",
       "</style>\n",
       "<table border=\"1\" class=\"dataframe\">\n",
       "  <thead>\n",
       "    <tr style=\"text-align: right;\">\n",
       "      <th></th>\n",
       "      <th>date</th>\n",
       "      <th>shop</th>\n",
       "      <th>item</th>\n",
       "      <th>amount</th>\n",
       "    </tr>\n",
       "  </thead>\n",
       "  <tbody>\n",
       "    <tr>\n",
       "      <th>1526898</th>\n",
       "      <td>2015-08-31</td>\n",
       "      <td>124</td>\n",
       "      <td>120949</td>\n",
       "      <td>323.0</td>\n",
       "    </tr>\n",
       "    <tr>\n",
       "      <th>1529164</th>\n",
       "      <td>2015-08-31</td>\n",
       "      <td>127</td>\n",
       "      <td>120949</td>\n",
       "      <td>284.0</td>\n",
       "    </tr>\n",
       "    <tr>\n",
       "      <th>1531293</th>\n",
       "      <td>2015-08-31</td>\n",
       "      <td>130</td>\n",
       "      <td>120949</td>\n",
       "      <td>436.0</td>\n",
       "    </tr>\n",
       "    <tr>\n",
       "      <th>1533210</th>\n",
       "      <td>2015-08-31</td>\n",
       "      <td>136</td>\n",
       "      <td>120949</td>\n",
       "      <td>105.0</td>\n",
       "    </tr>\n",
       "    <tr>\n",
       "      <th>1533993</th>\n",
       "      <td>2015-08-31</td>\n",
       "      <td>137</td>\n",
       "      <td>120949</td>\n",
       "      <td>168.0</td>\n",
       "    </tr>\n",
       "    <tr>\n",
       "      <th>1536595</th>\n",
       "      <td>2015-08-31</td>\n",
       "      <td>141</td>\n",
       "      <td>120949</td>\n",
       "      <td>368.0</td>\n",
       "    </tr>\n",
       "    <tr>\n",
       "      <th>1538576</th>\n",
       "      <td>2015-08-31</td>\n",
       "      <td>145</td>\n",
       "      <td>120949</td>\n",
       "      <td>129.0</td>\n",
       "    </tr>\n",
       "    <tr>\n",
       "      <th>1539470</th>\n",
       "      <td>2015-08-31</td>\n",
       "      <td>146</td>\n",
       "      <td>120949</td>\n",
       "      <td>149.0</td>\n",
       "    </tr>\n",
       "    <tr>\n",
       "      <th>1543915</th>\n",
       "      <td>2015-08-31</td>\n",
       "      <td>154</td>\n",
       "      <td>109247</td>\n",
       "      <td>157.0</td>\n",
       "    </tr>\n",
       "    <tr>\n",
       "      <th>1543917</th>\n",
       "      <td>2015-08-31</td>\n",
       "      <td>154</td>\n",
       "      <td>109251</td>\n",
       "      <td>193.0</td>\n",
       "    </tr>\n",
       "    <tr>\n",
       "      <th>1546312</th>\n",
       "      <td>2015-08-31</td>\n",
       "      <td>156</td>\n",
       "      <td>120949</td>\n",
       "      <td>110.0</td>\n",
       "    </tr>\n",
       "    <tr>\n",
       "      <th>1547561</th>\n",
       "      <td>2015-08-31</td>\n",
       "      <td>158</td>\n",
       "      <td>106507</td>\n",
       "      <td>102.0</td>\n",
       "    </tr>\n",
       "    <tr>\n",
       "      <th>1552019</th>\n",
       "      <td>2015-09-30</td>\n",
       "      <td>111</td>\n",
       "      <td>109244</td>\n",
       "      <td>597.0</td>\n",
       "    </tr>\n",
       "    <tr>\n",
       "      <th>1552020</th>\n",
       "      <td>2015-09-30</td>\n",
       "      <td>111</td>\n",
       "      <td>109248</td>\n",
       "      <td>1644.0</td>\n",
       "    </tr>\n",
       "    <tr>\n",
       "      <th>1552021</th>\n",
       "      <td>2015-09-30</td>\n",
       "      <td>111</td>\n",
       "      <td>109252</td>\n",
       "      <td>516.0</td>\n",
       "    </tr>\n",
       "    <tr>\n",
       "      <th>1552067</th>\n",
       "      <td>2015-09-30</td>\n",
       "      <td>111</td>\n",
       "      <td>111370</td>\n",
       "      <td>258.0</td>\n",
       "    </tr>\n",
       "    <tr>\n",
       "      <th>1552070</th>\n",
       "      <td>2015-09-30</td>\n",
       "      <td>111</td>\n",
       "      <td>111373</td>\n",
       "      <td>246.0</td>\n",
       "    </tr>\n",
       "    <tr>\n",
       "      <th>1556381</th>\n",
       "      <td>2015-09-30</td>\n",
       "      <td>120</td>\n",
       "      <td>120949</td>\n",
       "      <td>120.0</td>\n",
       "    </tr>\n",
       "    <tr>\n",
       "      <th>1557861</th>\n",
       "      <td>2015-09-30</td>\n",
       "      <td>124</td>\n",
       "      <td>103351</td>\n",
       "      <td>146.0</td>\n",
       "    </tr>\n",
       "    <tr>\n",
       "      <th>1558373</th>\n",
       "      <td>2015-09-30</td>\n",
       "      <td>124</td>\n",
       "      <td>109246</td>\n",
       "      <td>189.0</td>\n",
       "    </tr>\n",
       "    <tr>\n",
       "      <th>1558374</th>\n",
       "      <td>2015-09-30</td>\n",
       "      <td>124</td>\n",
       "      <td>109250</td>\n",
       "      <td>208.0</td>\n",
       "    </tr>\n",
       "    <tr>\n",
       "      <th>1558375</th>\n",
       "      <td>2015-09-30</td>\n",
       "      <td>124</td>\n",
       "      <td>109254</td>\n",
       "      <td>127.0</td>\n",
       "    </tr>\n",
       "    <tr>\n",
       "      <th>1559556</th>\n",
       "      <td>2015-09-30</td>\n",
       "      <td>124</td>\n",
       "      <td>120949</td>\n",
       "      <td>388.0</td>\n",
       "    </tr>\n",
       "    <tr>\n",
       "      <th>1559929</th>\n",
       "      <td>2015-09-30</td>\n",
       "      <td>125</td>\n",
       "      <td>109250</td>\n",
       "      <td>111.0</td>\n",
       "    </tr>\n",
       "    <tr>\n",
       "      <th>1561383</th>\n",
       "      <td>2015-09-30</td>\n",
       "      <td>127</td>\n",
       "      <td>120949</td>\n",
       "      <td>237.0</td>\n",
       "    </tr>\n",
       "    <tr>\n",
       "      <th>1561669</th>\n",
       "      <td>2015-09-30</td>\n",
       "      <td>130</td>\n",
       "      <td>103351</td>\n",
       "      <td>125.0</td>\n",
       "    </tr>\n",
       "    <tr>\n",
       "      <th>1562198</th>\n",
       "      <td>2015-09-30</td>\n",
       "      <td>130</td>\n",
       "      <td>109246</td>\n",
       "      <td>117.0</td>\n",
       "    </tr>\n",
       "    <tr>\n",
       "      <th>1562199</th>\n",
       "      <td>2015-09-30</td>\n",
       "      <td>130</td>\n",
       "      <td>109250</td>\n",
       "      <td>175.0</td>\n",
       "    </tr>\n",
       "    <tr>\n",
       "      <th>1562844</th>\n",
       "      <td>2015-09-30</td>\n",
       "      <td>130</td>\n",
       "      <td>114839</td>\n",
       "      <td>108.0</td>\n",
       "    </tr>\n",
       "    <tr>\n",
       "      <th>1563487</th>\n",
       "      <td>2015-09-30</td>\n",
       "      <td>130</td>\n",
       "      <td>120949</td>\n",
       "      <td>473.0</td>\n",
       "    </tr>\n",
       "    <tr>\n",
       "      <th>1566247</th>\n",
       "      <td>2015-09-30</td>\n",
       "      <td>138</td>\n",
       "      <td>120949</td>\n",
       "      <td>117.0</td>\n",
       "    </tr>\n",
       "    <tr>\n",
       "      <th>1566858</th>\n",
       "      <td>2015-09-30</td>\n",
       "      <td>141</td>\n",
       "      <td>103351</td>\n",
       "      <td>136.0</td>\n",
       "    </tr>\n",
       "    <tr>\n",
       "      <th>1568066</th>\n",
       "      <td>2015-09-30</td>\n",
       "      <td>141</td>\n",
       "      <td>120949</td>\n",
       "      <td>387.0</td>\n",
       "    </tr>\n",
       "    <tr>\n",
       "      <th>1570535</th>\n",
       "      <td>2015-09-30</td>\n",
       "      <td>146</td>\n",
       "      <td>120949</td>\n",
       "      <td>151.0</td>\n",
       "    </tr>\n",
       "    <tr>\n",
       "      <th>1574408</th>\n",
       "      <td>2015-09-30</td>\n",
       "      <td>154</td>\n",
       "      <td>109245</td>\n",
       "      <td>597.0</td>\n",
       "    </tr>\n",
       "    <tr>\n",
       "      <th>1574409</th>\n",
       "      <td>2015-09-30</td>\n",
       "      <td>154</td>\n",
       "      <td>109247</td>\n",
       "      <td>716.0</td>\n",
       "    </tr>\n",
       "    <tr>\n",
       "      <th>1574410</th>\n",
       "      <td>2015-09-30</td>\n",
       "      <td>154</td>\n",
       "      <td>109249</td>\n",
       "      <td>1644.0</td>\n",
       "    </tr>\n",
       "    <tr>\n",
       "      <th>1574411</th>\n",
       "      <td>2015-09-30</td>\n",
       "      <td>154</td>\n",
       "      <td>109251</td>\n",
       "      <td>1117.0</td>\n",
       "    </tr>\n",
       "    <tr>\n",
       "      <th>1574412</th>\n",
       "      <td>2015-09-30</td>\n",
       "      <td>154</td>\n",
       "      <td>109253</td>\n",
       "      <td>516.0</td>\n",
       "    </tr>\n",
       "    <tr>\n",
       "      <th>1574413</th>\n",
       "      <td>2015-09-30</td>\n",
       "      <td>154</td>\n",
       "      <td>109255</td>\n",
       "      <td>539.0</td>\n",
       "    </tr>\n",
       "  </tbody>\n",
       "</table>\n",
       "</div>"
      ],
      "text/plain": [
       "              date  shop    item  amount\n",
       "1526898 2015-08-31   124  120949   323.0\n",
       "1529164 2015-08-31   127  120949   284.0\n",
       "1531293 2015-08-31   130  120949   436.0\n",
       "1533210 2015-08-31   136  120949   105.0\n",
       "1533993 2015-08-31   137  120949   168.0\n",
       "1536595 2015-08-31   141  120949   368.0\n",
       "1538576 2015-08-31   145  120949   129.0\n",
       "1539470 2015-08-31   146  120949   149.0\n",
       "1543915 2015-08-31   154  109247   157.0\n",
       "1543917 2015-08-31   154  109251   193.0\n",
       "1546312 2015-08-31   156  120949   110.0\n",
       "1547561 2015-08-31   158  106507   102.0\n",
       "1552019 2015-09-30   111  109244   597.0\n",
       "1552020 2015-09-30   111  109248  1644.0\n",
       "1552021 2015-09-30   111  109252   516.0\n",
       "1552067 2015-09-30   111  111370   258.0\n",
       "1552070 2015-09-30   111  111373   246.0\n",
       "1556381 2015-09-30   120  120949   120.0\n",
       "1557861 2015-09-30   124  103351   146.0\n",
       "1558373 2015-09-30   124  109246   189.0\n",
       "1558374 2015-09-30   124  109250   208.0\n",
       "1558375 2015-09-30   124  109254   127.0\n",
       "1559556 2015-09-30   124  120949   388.0\n",
       "1559929 2015-09-30   125  109250   111.0\n",
       "1561383 2015-09-30   127  120949   237.0\n",
       "1561669 2015-09-30   130  103351   125.0\n",
       "1562198 2015-09-30   130  109246   117.0\n",
       "1562199 2015-09-30   130  109250   175.0\n",
       "1562844 2015-09-30   130  114839   108.0\n",
       "1563487 2015-09-30   130  120949   473.0\n",
       "1566247 2015-09-30   138  120949   117.0\n",
       "1566858 2015-09-30   141  103351   136.0\n",
       "1568066 2015-09-30   141  120949   387.0\n",
       "1570535 2015-09-30   146  120949   151.0\n",
       "1574408 2015-09-30   154  109245   597.0\n",
       "1574409 2015-09-30   154  109247   716.0\n",
       "1574410 2015-09-30   154  109249  1644.0\n",
       "1574411 2015-09-30   154  109251  1117.0\n",
       "1574412 2015-09-30   154  109253   516.0\n",
       "1574413 2015-09-30   154  109255   539.0"
      ]
     },
     "execution_count": 48,
     "metadata": {},
     "output_type": "execute_result"
    }
   ],
   "source": [
    "ss[(ss[\"date\"] > \"2015-08-30\") & (ss[\"amount\"] > 100)]"
   ]
  },
  {
   "cell_type": "code",
   "execution_count": 51,
   "metadata": {},
   "outputs": [
    {
     "data": {
      "text/html": [
       "<div>\n",
       "<style scoped>\n",
       "    .dataframe tbody tr th:only-of-type {\n",
       "        vertical-align: middle;\n",
       "    }\n",
       "\n",
       "    .dataframe tbody tr th {\n",
       "        vertical-align: top;\n",
       "    }\n",
       "\n",
       "    .dataframe thead th {\n",
       "        text-align: right;\n",
       "    }\n",
       "</style>\n",
       "<table border=\"1\" class=\"dataframe\">\n",
       "  <thead>\n",
       "    <tr style=\"text-align: right;\">\n",
       "      <th></th>\n",
       "      <th>date</th>\n",
       "      <th>shop</th>\n",
       "      <th>item</th>\n",
       "      <th>amount</th>\n",
       "    </tr>\n",
       "  </thead>\n",
       "  <tbody>\n",
       "    <tr>\n",
       "      <th>1413135</th>\n",
       "      <td>2015-04-30</td>\n",
       "      <td>154</td>\n",
       "      <td>109247</td>\n",
       "      <td>7.0</td>\n",
       "    </tr>\n",
       "    <tr>\n",
       "      <th>1445470</th>\n",
       "      <td>2015-05-31</td>\n",
       "      <td>154</td>\n",
       "      <td>109247</td>\n",
       "      <td>47.0</td>\n",
       "    </tr>\n",
       "    <tr>\n",
       "      <th>1477101</th>\n",
       "      <td>2015-06-30</td>\n",
       "      <td>154</td>\n",
       "      <td>109247</td>\n",
       "      <td>40.0</td>\n",
       "    </tr>\n",
       "    <tr>\n",
       "      <th>1510584</th>\n",
       "      <td>2015-07-31</td>\n",
       "      <td>154</td>\n",
       "      <td>109247</td>\n",
       "      <td>60.0</td>\n",
       "    </tr>\n",
       "    <tr>\n",
       "      <th>1543915</th>\n",
       "      <td>2015-08-31</td>\n",
       "      <td>154</td>\n",
       "      <td>109247</td>\n",
       "      <td>157.0</td>\n",
       "    </tr>\n",
       "    <tr>\n",
       "      <th>1574409</th>\n",
       "      <td>2015-09-30</td>\n",
       "      <td>154</td>\n",
       "      <td>109247</td>\n",
       "      <td>716.0</td>\n",
       "    </tr>\n",
       "  </tbody>\n",
       "</table>\n",
       "</div>"
      ],
      "text/plain": [
       "              date  shop    item  amount\n",
       "1413135 2015-04-30   154  109247     7.0\n",
       "1445470 2015-05-31   154  109247    47.0\n",
       "1477101 2015-06-30   154  109247    40.0\n",
       "1510584 2015-07-31   154  109247    60.0\n",
       "1543915 2015-08-31   154  109247   157.0\n",
       "1574409 2015-09-30   154  109247   716.0"
      ]
     },
     "execution_count": 51,
     "metadata": {},
     "output_type": "execute_result"
    }
   ],
   "source": [
    "ss[(ss[\"shop\"] == 154) & (ss[\"item\"] == 109247)]"
   ]
  },
  {
   "cell_type": "code",
   "execution_count": 52,
   "metadata": {},
   "outputs": [],
   "source": [
    "ss = item_df.groupby(\"item_id\")[\"item_category_id\"].count()"
   ]
  },
  {
   "cell_type": "code",
   "execution_count": 53,
   "metadata": {},
   "outputs": [
    {
     "data": {
      "text/plain": [
       "22170"
      ]
     },
     "execution_count": 53,
     "metadata": {},
     "output_type": "execute_result"
    }
   ],
   "source": [
    "ss.count()"
   ]
  },
  {
   "cell_type": "code",
   "execution_count": null,
   "metadata": {},
   "outputs": [],
   "source": []
  },
  {
   "cell_type": "code",
   "execution_count": 54,
   "metadata": {
    "ExecuteTime": {
     "end_time": "2024-05-26T12:29:13.082848Z",
     "start_time": "2024-05-26T12:29:13.056732Z"
    },
    "colab": {
     "base_uri": "https://localhost:8080/"
    },
    "executionInfo": {
     "elapsed": 441,
     "status": "ok",
     "timestamp": 1716646598546,
     "user": {
      "displayName": "Anıl Özcan",
      "userId": "06510389857538456980"
     },
     "user_tz": -180
    },
    "id": "5MoqzviF5tXa",
    "outputId": "f8d99453-ac16-40c5-b15a-9b43b58a83de"
   },
   "outputs": [
    {
     "name": "stdout",
     "output_type": "stream",
     "text": [
      "##################### Shape #####################\n",
      "(60, 2)\n",
      "##################### Types #####################\n",
      "shop_name    object\n",
      "shop_id       int64\n",
      "dtype: object\n",
      "##################### Head #####################\n",
      "                         shop_name  shop_id\n",
      "0  !Yakutsk Ordzhonikidze, 56 fran       99\n",
      "1  !Yakutsk, TC \"Tsentralnyi\" fran      100\n",
      "2                 Адыгея ТЦ \"Мега\"      101\n",
      "3    Balashikha TRC \"Oktay-Konmir\"      102\n",
      "4         Volzhsky TC \"Volga Mall\"      103\n",
      "##################### Tail #####################\n",
      "                      shop_name  shop_id\n",
      "55  1C-Online Digital Warehouse      154\n",
      "56       Chekhov SEC \"Karnaval\"      155\n",
      "57   Yakutsk, Ordzhonikidze, 56      156\n",
      "58     Yakutsk, TC \"Tsentralny\"      157\n",
      "59       Yaroslavl, TC \"Altair\"      158\n",
      "##################### NA #####################\n",
      "shop_name    0\n",
      "shop_id      0\n",
      "dtype: int64\n",
      "##################### Quantiles #####################\n",
      "         count   mean        std   min    0%      5%    50%     95%     99%   100%    max\n",
      "shop_id   60.0  128.5  17.464249  99.0  99.0  101.95  128.5  155.05  157.41  158.0  158.0\n"
     ]
    }
   ],
   "source": [
    "utils.check_df(shop_df)"
   ]
  },
  {
   "cell_type": "code",
   "execution_count": 55,
   "metadata": {
    "ExecuteTime": {
     "end_time": "2024-05-26T12:29:13.106631Z",
     "start_time": "2024-05-26T12:29:13.087044Z"
    },
    "colab": {
     "base_uri": "https://localhost:8080/"
    },
    "executionInfo": {
     "elapsed": 4,
     "status": "ok",
     "timestamp": 1716646600262,
     "user": {
      "displayName": "Anıl Özcan",
      "userId": "06510389857538456980"
     },
     "user_tz": -180
    },
    "id": "yVCeraP65tZW",
    "outputId": "c32a8dee-7f28-4541-dd94-6ba91845d89c"
   },
   "outputs": [
    {
     "name": "stdout",
     "output_type": "stream",
     "text": [
      "unique num: 60\n"
     ]
    },
    {
     "data": {
      "text/plain": [
       "array(['!Yakutsk Ordzhonikidze, 56 fran',\n",
       "       '!Yakutsk, TC \"Tsentralnyi\" fran', 'Адыгея ТЦ \"Мега\"',\n",
       "       'Balashikha TRC \"Oktay-Konmir\"', 'Volzhsky TC \"Volga Mall\"'],\n",
       "      dtype=object)"
      ]
     },
     "execution_count": 55,
     "metadata": {},
     "output_type": "execute_result"
    }
   ],
   "source": [
    "print(\"unique num:\", shop_df[\"shop_name\"].nunique())\n",
    "shop_df[\"shop_name\"].unique()[:5] # lots of feature engineering here"
   ]
  },
  {
   "cell_type": "code",
   "execution_count": 56,
   "metadata": {
    "ExecuteTime": {
     "end_time": "2024-05-26T12:29:14.078092Z",
     "start_time": "2024-05-26T12:29:13.106631Z"
    },
    "colab": {
     "base_uri": "https://localhost:8080/"
    },
    "executionInfo": {
     "elapsed": 561,
     "status": "ok",
     "timestamp": 1716646602195,
     "user": {
      "displayName": "Anıl Özcan",
      "userId": "06510389857538456980"
     },
     "user_tz": -180
    },
    "id": "J9MqSm5b5tbr",
    "outputId": "6c2a132b-bd73-481b-da9b-f0c48f510b39"
   },
   "outputs": [
    {
     "name": "stdout",
     "output_type": "stream",
     "text": [
      "##################### Shape #####################\n",
      "(2882335, 4)\n",
      "##################### Types #####################\n",
      "shop        int64\n",
      "item        int64\n",
      "price     float64\n",
      "amount    float64\n",
      "dtype: object\n",
      "##################### Head #####################\n",
      "            shop    item   price  amount\n",
      "date                                    \n",
      "2013-01-02   158  122154  3244.0     1.0\n",
      "2013-01-03   124  102552  2920.0     1.0\n",
      "2013-01-05   124  102552  2920.0    -1.0\n",
      "2013-01-06   124  102554  5550.0     1.0\n",
      "2013-01-15   124  102555  3569.0     1.0\n",
      "##################### Tail #####################\n",
      "            shop    item   price  amount\n",
      "date                                    \n",
      "2015-09-27   124  121022  5842.0     1.0\n",
      "2015-09-19   124  121105  5842.0     1.0\n",
      "2015-09-30   124  121088  4219.0     1.0\n",
      "2015-09-08   124  120990  4219.0     1.0\n",
      "2015-09-25   124  120303  1296.0     1.0\n",
      "##################### NA #####################\n",
      "shop      0\n",
      "item      0\n",
      "price     0\n",
      "amount    0\n",
      "dtype: int64\n",
      "##################### Quantiles #####################\n",
      "            count           mean          std       min        0%        5%       50%       95%       99%       100%        max\n",
      "shop    2882335.0     132.028106    16.227734      99.0      99.0     105.0     130.0     156.0     158.0      158.0      158.0\n",
      "item    2882335.0  110186.036105  6326.742587  100000.0  100000.0  101535.0  109250.0  120949.0  121970.0   122169.0   122169.0\n",
      "price   2882335.0    2873.248795  5571.621269      -1.0      -1.0     322.0    1296.0    8440.0   19450.0  1000000.0  1000000.0\n",
      "amount  2882335.0       1.241060     2.283184     -22.0     -22.0       1.0       1.0       2.0       5.0     1000.0     1000.0\n"
     ]
    }
   ],
   "source": [
    "utils.check_df(trx_df)"
   ]
  },
  {
   "cell_type": "code",
   "execution_count": 100,
   "metadata": {},
   "outputs": [
    {
     "data": {
      "text/html": [
       "<div>\n",
       "<style scoped>\n",
       "    .dataframe tbody tr th:only-of-type {\n",
       "        vertical-align: middle;\n",
       "    }\n",
       "\n",
       "    .dataframe tbody tr th {\n",
       "        vertical-align: top;\n",
       "    }\n",
       "\n",
       "    .dataframe thead th {\n",
       "        text-align: right;\n",
       "    }\n",
       "</style>\n",
       "<table border=\"1\" class=\"dataframe\">\n",
       "  <thead>\n",
       "    <tr style=\"text-align: right;\">\n",
       "      <th></th>\n",
       "      <th>shop</th>\n",
       "      <th>item</th>\n",
       "      <th>amount</th>\n",
       "      <th>item_name</th>\n",
       "      <th>item_category_id</th>\n",
       "    </tr>\n",
       "    <tr>\n",
       "      <th>date</th>\n",
       "      <th></th>\n",
       "      <th></th>\n",
       "      <th></th>\n",
       "      <th></th>\n",
       "      <th></th>\n",
       "    </tr>\n",
       "  </thead>\n",
       "  <tbody>\n",
       "    <tr>\n",
       "      <th>2013-01-02</th>\n",
       "      <td>158</td>\n",
       "      <td>122154</td>\n",
       "      <td>1.0</td>\n",
       "      <td>PHENOMENON 2012 (BD)</td>\n",
       "      <td>1037</td>\n",
       "    </tr>\n",
       "  </tbody>\n",
       "</table>\n",
       "</div>"
      ],
      "text/plain": [
       "            shop    item  amount             item_name  item_category_id\n",
       "date                                                                    \n",
       "2013-01-02   158  122154     1.0  PHENOMENON 2012 (BD)              1037"
      ]
     },
     "execution_count": 100,
     "metadata": {},
     "output_type": "execute_result"
    }
   ],
   "source": [
    "trx_df.head(1)"
   ]
  },
  {
   "cell_type": "code",
   "execution_count": 126,
   "metadata": {},
   "outputs": [],
   "source": [
    "trx_df = trx_df.merge(item_df, left_on =\"item\", right_on=\"item_id\", how=\"inner\")"
   ]
  },
  {
   "cell_type": "code",
   "execution_count": 127,
   "metadata": {},
   "outputs": [],
   "source": [
    "trx_df[\"date\"] = pd.to_datetime(trx_df[\"date\"], format =\"%d.%m.%Y\")"
   ]
  },
  {
   "cell_type": "code",
   "execution_count": 128,
   "metadata": {},
   "outputs": [],
   "source": [
    "ss = trx_df[trx_df[\"date\"] > \"2014-09-30\"]"
   ]
  },
  {
   "cell_type": "code",
   "execution_count": 124,
   "metadata": {},
   "outputs": [
    {
     "data": {
      "text/html": [
       "<div>\n",
       "<style scoped>\n",
       "    .dataframe tbody tr th:only-of-type {\n",
       "        vertical-align: middle;\n",
       "    }\n",
       "\n",
       "    .dataframe tbody tr th {\n",
       "        vertical-align: top;\n",
       "    }\n",
       "\n",
       "    .dataframe thead th {\n",
       "        text-align: right;\n",
       "    }\n",
       "</style>\n",
       "<table border=\"1\" class=\"dataframe\">\n",
       "  <thead>\n",
       "    <tr style=\"text-align: right;\">\n",
       "      <th></th>\n",
       "      <th>date</th>\n",
       "      <th>shop</th>\n",
       "      <th>item</th>\n",
       "      <th>price</th>\n",
       "      <th>amount</th>\n",
       "    </tr>\n",
       "  </thead>\n",
       "  <tbody>\n",
       "    <tr>\n",
       "      <th>2026848</th>\n",
       "      <td>2014-10-31</td>\n",
       "      <td>125</td>\n",
       "      <td>106183</td>\n",
       "      <td>6491.0</td>\n",
       "      <td>1.0</td>\n",
       "    </tr>\n",
       "    <tr>\n",
       "      <th>2026849</th>\n",
       "      <td>2014-10-01</td>\n",
       "      <td>127</td>\n",
       "      <td>111391</td>\n",
       "      <td>2920.0</td>\n",
       "      <td>1.0</td>\n",
       "    </tr>\n",
       "    <tr>\n",
       "      <th>2026850</th>\n",
       "      <td>2014-10-02</td>\n",
       "      <td>127</td>\n",
       "      <td>111389</td>\n",
       "      <td>2920.0</td>\n",
       "      <td>1.0</td>\n",
       "    </tr>\n",
       "    <tr>\n",
       "      <th>2026851</th>\n",
       "      <td>2014-10-23</td>\n",
       "      <td>127</td>\n",
       "      <td>111243</td>\n",
       "      <td>485.0</td>\n",
       "      <td>1.0</td>\n",
       "    </tr>\n",
       "    <tr>\n",
       "      <th>2026852</th>\n",
       "      <td>2014-10-21</td>\n",
       "      <td>127</td>\n",
       "      <td>111242</td>\n",
       "      <td>322.0</td>\n",
       "      <td>1.0</td>\n",
       "    </tr>\n",
       "  </tbody>\n",
       "</table>\n",
       "</div>"
      ],
      "text/plain": [
       "              date  shop    item  price  amount\n",
       "2026848 2014-10-31   125  106183 6491.0     1.0\n",
       "2026849 2014-10-01   127  111391 2920.0     1.0\n",
       "2026850 2014-10-02   127  111389 2920.0     1.0\n",
       "2026851 2014-10-23   127  111243  485.0     1.0\n",
       "2026852 2014-10-21   127  111242  322.0     1.0"
      ]
     },
     "execution_count": 124,
     "metadata": {},
     "output_type": "execute_result"
    }
   ],
   "source": [
    "ss.head()"
   ]
  },
  {
   "cell_type": "code",
   "execution_count": 129,
   "metadata": {},
   "outputs": [
    {
     "data": {
      "text/html": [
       "<div>\n",
       "<style scoped>\n",
       "    .dataframe tbody tr th:only-of-type {\n",
       "        vertical-align: middle;\n",
       "    }\n",
       "\n",
       "    .dataframe tbody tr th {\n",
       "        vertical-align: top;\n",
       "    }\n",
       "\n",
       "    .dataframe thead th {\n",
       "        text-align: right;\n",
       "    }\n",
       "</style>\n",
       "<table border=\"1\" class=\"dataframe\">\n",
       "  <thead>\n",
       "    <tr style=\"text-align: right;\">\n",
       "      <th></th>\n",
       "      <th>date</th>\n",
       "      <th>shop</th>\n",
       "      <th>item</th>\n",
       "      <th>price</th>\n",
       "      <th>amount</th>\n",
       "      <th>item_name</th>\n",
       "      <th>item_id</th>\n",
       "      <th>item_category_id</th>\n",
       "    </tr>\n",
       "  </thead>\n",
       "  <tbody>\n",
       "    <tr>\n",
       "      <th>2026848</th>\n",
       "      <td>2014-10-31</td>\n",
       "      <td>125</td>\n",
       "      <td>106183</td>\n",
       "      <td>6491.0</td>\n",
       "      <td>1.0</td>\n",
       "      <td>Ryse: Son of Rome GOTY [Xbox One] [5F2-00019]</td>\n",
       "      <td>106183</td>\n",
       "      <td>1024</td>\n",
       "    </tr>\n",
       "    <tr>\n",
       "      <th>2026849</th>\n",
       "      <td>2014-10-01</td>\n",
       "      <td>127</td>\n",
       "      <td>111391</td>\n",
       "      <td>2920.0</td>\n",
       "      <td>1.0</td>\n",
       "      <td>Bad Repute 2 (Essentials) [PS3]</td>\n",
       "      <td>111391</td>\n",
       "      <td>1019</td>\n",
       "    </tr>\n",
       "    <tr>\n",
       "      <th>2026850</th>\n",
       "      <td>2014-10-02</td>\n",
       "      <td>127</td>\n",
       "      <td>111389</td>\n",
       "      <td>2920.0</td>\n",
       "      <td>1.0</td>\n",
       "      <td>Notorious (Essentials) [PS3]</td>\n",
       "      <td>111389</td>\n",
       "      <td>1019</td>\n",
       "    </tr>\n",
       "    <tr>\n",
       "      <th>2026851</th>\n",
       "      <td>2014-10-23</td>\n",
       "      <td>127</td>\n",
       "      <td>111243</td>\n",
       "      <td>485.0</td>\n",
       "      <td>1.0</td>\n",
       "      <td>DUBROVSKY (BD)</td>\n",
       "      <td>111243</td>\n",
       "      <td>1037</td>\n",
       "    </tr>\n",
       "    <tr>\n",
       "      <th>2026852</th>\n",
       "      <td>2014-10-21</td>\n",
       "      <td>127</td>\n",
       "      <td>111242</td>\n",
       "      <td>322.0</td>\n",
       "      <td>1.0</td>\n",
       "      <td>DUBROVSKIY</td>\n",
       "      <td>111242</td>\n",
       "      <td>1040</td>\n",
       "    </tr>\n",
       "  </tbody>\n",
       "</table>\n",
       "</div>"
      ],
      "text/plain": [
       "              date  shop    item  price  amount                                      item_name  item_id  item_category_id\n",
       "2026848 2014-10-31   125  106183 6491.0     1.0  Ryse: Son of Rome GOTY [Xbox One] [5F2-00019]   106183              1024\n",
       "2026849 2014-10-01   127  111391 2920.0     1.0                Bad Repute 2 (Essentials) [PS3]   111391              1019\n",
       "2026850 2014-10-02   127  111389 2920.0     1.0                   Notorious (Essentials) [PS3]   111389              1019\n",
       "2026851 2014-10-23   127  111243  485.0     1.0                                 DUBROVSKY (BD)   111243              1037\n",
       "2026852 2014-10-21   127  111242  322.0     1.0                                     DUBROVSKIY   111242              1040"
      ]
     },
     "execution_count": 129,
     "metadata": {},
     "output_type": "execute_result"
    }
   ],
   "source": [
    "ss.head()"
   ]
  },
  {
   "cell_type": "code",
   "execution_count": 132,
   "metadata": {},
   "outputs": [
    {
     "name": "stderr",
     "output_type": "stream",
     "text": [
      "C:\\Users\\aozcan\\AppData\\Local\\Temp\\ipykernel_13244\\899419332.py:1: SettingWithCopyWarning: \n",
      "A value is trying to be set on a copy of a slice from a DataFrame\n",
      "\n",
      "See the caveats in the documentation: https://pandas.pydata.org/pandas-docs/stable/user_guide/indexing.html#returning-a-view-versus-a-copy\n",
      "  ss.drop(columns=[\"price\"], axis=1, inplace=True)\n"
     ]
    }
   ],
   "source": [
    "ss.drop(columns=[\"price\"], axis=1, inplace=True)"
   ]
  },
  {
   "cell_type": "code",
   "execution_count": 133,
   "metadata": {},
   "outputs": [
    {
     "name": "stderr",
     "output_type": "stream",
     "text": [
      "C:\\Users\\aozcan\\AppData\\Local\\Temp\\ipykernel_13244\\2738794288.py:1: SettingWithCopyWarning: \n",
      "A value is trying to be set on a copy of a slice from a DataFrame\n",
      "\n",
      "See the caveats in the documentation: https://pandas.pydata.org/pandas-docs/stable/user_guide/indexing.html#returning-a-view-versus-a-copy\n",
      "  ss.drop(columns=[\"item_id\"], axis=1, inplace=True)\n"
     ]
    }
   ],
   "source": [
    "ss.drop(columns=[\"item_id\"], axis=1, inplace=True)"
   ]
  },
  {
   "cell_type": "code",
   "execution_count": 135,
   "metadata": {},
   "outputs": [],
   "source": [
    "ss.set_index(\"date\", inplace = True)"
   ]
  },
  {
   "cell_type": "code",
   "execution_count": 136,
   "metadata": {},
   "outputs": [],
   "source": [
    "grouper = ss.groupby([pd.Grouper(freq='ME'), 'shop',\"item\", \"item_name\",\"item_category_id\"])"
   ]
  },
  {
   "cell_type": "code",
   "execution_count": 140,
   "metadata": {},
   "outputs": [],
   "source": [
    "aa = grouper[\"amount\"].sum().reset_index()"
   ]
  },
  {
   "cell_type": "code",
   "execution_count": 144,
   "metadata": {},
   "outputs": [
    {
     "data": {
      "text/html": [
       "<div>\n",
       "<style scoped>\n",
       "    .dataframe tbody tr th:only-of-type {\n",
       "        vertical-align: middle;\n",
       "    }\n",
       "\n",
       "    .dataframe tbody tr th {\n",
       "        vertical-align: top;\n",
       "    }\n",
       "\n",
       "    .dataframe thead th {\n",
       "        text-align: right;\n",
       "    }\n",
       "</style>\n",
       "<table border=\"1\" class=\"dataframe\">\n",
       "  <thead>\n",
       "    <tr style=\"text-align: right;\">\n",
       "      <th></th>\n",
       "      <th>date</th>\n",
       "      <th>shop</th>\n",
       "      <th>item</th>\n",
       "      <th>item_name</th>\n",
       "      <th>item_category_id</th>\n",
       "      <th>amount</th>\n",
       "    </tr>\n",
       "  </thead>\n",
       "  <tbody>\n",
       "    <tr>\n",
       "      <th>0</th>\n",
       "      <td>2014-10-31</td>\n",
       "      <td>101</td>\n",
       "      <td>100032</td>\n",
       "      <td>1+1</td>\n",
       "      <td>1040</td>\n",
       "      <td>2.0</td>\n",
       "    </tr>\n",
       "    <tr>\n",
       "      <th>1</th>\n",
       "      <td>2014-10-31</td>\n",
       "      <td>101</td>\n",
       "      <td>100464</td>\n",
       "      <td>1C:Bibl. Developer. Development of complex rep...</td>\n",
       "      <td>1049</td>\n",
       "      <td>1.0</td>\n",
       "    </tr>\n",
       "    <tr>\n",
       "      <th>2</th>\n",
       "      <td>2014-10-31</td>\n",
       "      <td>101</td>\n",
       "      <td>100482</td>\n",
       "      <td>1C:Accounting 8. Basic version</td>\n",
       "      <td>1073</td>\n",
       "      <td>1.0</td>\n",
       "    </tr>\n",
       "    <tr>\n",
       "      <th>3</th>\n",
       "      <td>2014-10-31</td>\n",
       "      <td>101</td>\n",
       "      <td>100486</td>\n",
       "      <td>1C:Accounting 8. Tutorial version. Edition 8.</td>\n",
       "      <td>1073</td>\n",
       "      <td>1.0</td>\n",
       "    </tr>\n",
       "    <tr>\n",
       "      <th>4</th>\n",
       "      <td>2014-10-31</td>\n",
       "      <td>101</td>\n",
       "      <td>100491</td>\n",
       "      <td>1C:Money 8</td>\n",
       "      <td>1073</td>\n",
       "      <td>1.0</td>\n",
       "    </tr>\n",
       "  </tbody>\n",
       "</table>\n",
       "</div>"
      ],
      "text/plain": [
       "        date  shop    item                                          item_name  item_category_id  amount\n",
       "0 2014-10-31   101  100032                                                1+1              1040     2.0\n",
       "1 2014-10-31   101  100464  1C:Bibl. Developer. Development of complex rep...              1049     1.0\n",
       "2 2014-10-31   101  100482                     1C:Accounting 8. Basic version              1073     1.0\n",
       "3 2014-10-31   101  100486      1C:Accounting 8. Tutorial version. Edition 8.              1073     1.0\n",
       "4 2014-10-31   101  100491                                         1C:Money 8              1073     1.0"
      ]
     },
     "execution_count": 144,
     "metadata": {},
     "output_type": "execute_result"
    }
   ],
   "source": [
    "aa.head()"
   ]
  },
  {
   "cell_type": "code",
   "execution_count": 148,
   "metadata": {},
   "outputs": [
    {
     "name": "stdout",
     "output_type": "stream",
     "text": [
      "##################### Shape #####################\n",
      "(469949, 6)\n",
      "##################### Types #####################\n",
      "date                datetime64[ns]\n",
      "shop                         int64\n",
      "item                         int64\n",
      "item_name                   object\n",
      "item_category_id             int64\n",
      "amount                     float64\n",
      "dtype: object\n",
      "##################### Head #####################\n",
      "        date  shop    item                                          item_name  item_category_id  amount\n",
      "0 2014-10-31   101  100032                                                1+1              1040     2.0\n",
      "1 2014-10-31   101  100464  1C:Bibl. Developer. Development of complex rep...              1049     1.0\n",
      "2 2014-10-31   101  100482                     1C:Accounting 8. Basic version              1073     1.0\n",
      "3 2014-10-31   101  100486      1C:Accounting 8. Tutorial version. Edition 8.              1073     1.0\n",
      "4 2014-10-31   101  100491                                         1C:Money 8              1073     1.0\n",
      "##################### Tail #####################\n",
      "             date  shop    item                          item_name  item_category_id  amount\n",
      "469944 2015-09-30   158  122087          DURACELL LR03-BC2 battery              1083     3.0\n",
      "469945 2015-09-30   158  122088          DURACELL LR06-BC2 battery              1083     1.0\n",
      "469946 2015-09-30   158  122091  DURACELL TURBO LR 03 2*BL battery              1083     3.0\n",
      "469947 2015-09-30   158  122100        Энциклопедия Adventure Time              1042     1.0\n",
      "469948 2015-09-30   158  122139                   I, ROBOT (3D BD)              1038     1.0\n",
      "##################### NA #####################\n",
      "date                0\n",
      "shop                0\n",
      "item                0\n",
      "item_name           0\n",
      "item_category_id    0\n",
      "amount              0\n",
      "dtype: int64\n",
      "##################### Quantiles #####################\n",
      "                    count                           mean                  min                   0%                   5%                  50%                  95%                  99%                 100%                  max    std\n",
      "date               469949  2015-03-29 04:48:47.470001920  2014-10-31 00:00:00  2014-10-31 00:00:00  2014-10-31 00:00:00  2015-02-28 00:00:00  2015-09-30 00:00:00  2015-09-30 00:00:00  2015-09-30 00:00:00  2015-09-30 00:00:00    NaN\n",
      "shop             469949.0                          132.0                101.0                101.0                104.0                130.0                156.0                158.0                158.0                158.0   16.4\n",
      "item             469949.0                       110626.3             100001.0             100001.0             101572.0             110385.0             120732.0             121956.0             122167.0             122167.0 6261.7\n",
      "item_category_id 469949.0                         1041.9               1002.0               1002.0               1019.0               1040.0               1070.0               1075.0               1083.0               1083.0   17.5\n",
      "amount           469949.0                            2.3                 -2.0                 -2.0                  1.0                  1.0                  6.0                 17.0               1644.0               1644.0   10.1\n"
     ]
    }
   ],
   "source": [
    "utils.check_df(aa)"
   ]
  },
  {
   "cell_type": "code",
   "execution_count": 146,
   "metadata": {},
   "outputs": [
    {
     "data": {
      "text/plain": [
       "count   469949.0\n",
       "mean         2.3\n",
       "std         10.1\n",
       "min         -2.0\n",
       "25%          1.0\n",
       "50%          1.0\n",
       "75%          2.0\n",
       "max       1644.0\n",
       "Name: amount, dtype: float64"
      ]
     },
     "execution_count": 146,
     "metadata": {},
     "output_type": "execute_result"
    }
   ],
   "source": [
    "aa.amount.describe()"
   ]
  },
  {
   "cell_type": "code",
   "execution_count": 151,
   "metadata": {},
   "outputs": [],
   "source": [
    "bb = aa.groupby([\"shop\",\"item\",\"item_category_id\"])[\"amount\"].sum()"
   ]
  },
  {
   "cell_type": "code",
   "execution_count": 153,
   "metadata": {},
   "outputs": [],
   "source": [
    "bb = bb.reset_index()"
   ]
  },
  {
   "cell_type": "code",
   "execution_count": 156,
   "metadata": {},
   "outputs": [
    {
     "data": {
      "text/plain": [
       "count   170484.0\n",
       "mean         6.4\n",
       "std         37.7\n",
       "min         -1.0\n",
       "25%          1.0\n",
       "50%          2.0\n",
       "75%          5.0\n",
       "max       6304.0\n",
       "Name: amount, dtype: float64"
      ]
     },
     "execution_count": 156,
     "metadata": {},
     "output_type": "execute_result"
    }
   ],
   "source": [
    "bb[\"amount\"].describe()"
   ]
  },
  {
   "cell_type": "code",
   "execution_count": 145,
   "metadata": {},
   "outputs": [
    {
     "data": {
      "text/plain": [
       "<Axes: >"
      ]
     },
     "execution_count": 145,
     "metadata": {},
     "output_type": "execute_result"
    },
    {
     "data": {
      "image/png": "[encoded data removed]",
      "text/plain": [
       "<Figure size 640x480 with 1 Axes>"
      ]
     },
     "metadata": {},
     "output_type": "display_data"
    }
   ],
   "source": [
    "aa.amount.plot(kind=\"box\")  # item_category_id : count of item_cat_id"
   ]
  },
  {
   "cell_type": "markdown",
   "metadata": {
    "id": "6DjQtR4aD39P"
   },
   "source": [
    "## Store Basis EDA"
   ]
  },
  {
   "cell_type": "code",
   "execution_count": 57,
   "metadata": {
    "ExecuteTime": {
     "end_time": "2024-05-26T12:29:15.147492Z",
     "start_time": "2024-05-26T12:29:14.118147Z"
    },
    "colab": {
     "base_uri": "https://localhost:8080/",
     "height": 462
    },
    "executionInfo": {
     "elapsed": 595,
     "status": "ok",
     "timestamp": 1716646604465,
     "user": {
      "displayName": "Anıl Özcan",
      "userId": "06510389857538456980"
     },
     "user_tz": -180
    },
    "id": "XPCtWXer5teN",
    "outputId": "2f05e4aa-a231-4042-88ff-de0ae4ef9dc9"
   },
   "outputs": [
    {
     "data": {
      "text/plain": [
       "<Axes: >"
      ]
     },
     "execution_count": 57,
     "metadata": {},
     "output_type": "execute_result"
    },
    {
     "data": {
      "image/png": "[encoded data removed]",
      "text/plain": [
       "<Figure size 640x480 with 1 Axes>"
      ]
     },
     "metadata": {},
     "output_type": "display_data"
    }
   ],
   "source": [
    "trx_df[\"amount\"].hist(bins = 10)"
   ]
  },
  {
   "cell_type": "code",
   "execution_count": 58,
   "metadata": {
    "ExecuteTime": {
     "end_time": "2024-05-26T12:29:15.193256Z",
     "start_time": "2024-05-26T12:29:15.149503Z"
    },
    "colab": {
     "base_uri": "https://localhost:8080/"
    },
    "executionInfo": {
     "elapsed": 416,
     "status": "ok",
     "timestamp": 1716646607599,
     "user": {
      "displayName": "Anıl Özcan",
      "userId": "06510389857538456980"
     },
     "user_tz": -180
    },
    "id": "XurnS23N5tgx",
    "outputId": "1cecf6ec-ce88-45c3-ff95-7059f8d14496"
   },
   "outputs": [
    {
     "name": "stdout",
     "output_type": "stream",
     "text": [
      "number unique shop: 59\n"
     ]
    },
    {
     "data": {
      "text/plain": [
       "array([158, 124, 123, 122, 118], dtype=int64)"
      ]
     },
     "execution_count": 58,
     "metadata": {},
     "output_type": "execute_result"
    }
   ],
   "source": [
    "print(\"number unique shop:\", trx_df[\"shop\"].nunique())\n",
    "trx_df[\"shop\"].unique()[:5]"
   ]
  },
  {
   "cell_type": "code",
   "execution_count": 59,
   "metadata": {
    "ExecuteTime": {
     "end_time": "2024-05-26T12:29:15.206030Z",
     "start_time": "2024-05-26T12:29:15.196363Z"
    },
    "colab": {
     "base_uri": "https://localhost:8080/"
    },
    "executionInfo": {
     "elapsed": 420,
     "status": "ok",
     "timestamp": 1716646609970,
     "user": {
      "displayName": "Anıl Özcan",
      "userId": "06510389857538456980"
     },
     "user_tz": -180
    },
    "id": "CdKL7wmr57Ro",
    "outputId": "064f69f7-2a9f-4bbe-d9f3-5a3324873ed3"
   },
   "outputs": [
    {
     "data": {
      "text/plain": [
       "Index(['item_name', 'item_id', 'item_category_id'], dtype='object')"
      ]
     },
     "execution_count": 59,
     "metadata": {},
     "output_type": "execute_result"
    }
   ],
   "source": [
    "item_df.columns"
   ]
  },
  {
   "cell_type": "code",
   "execution_count": 60,
   "metadata": {
    "ExecuteTime": {
     "end_time": "2024-05-26T12:29:15.226097Z",
     "start_time": "2024-05-26T12:29:15.208554Z"
    },
    "executionInfo": {
     "elapsed": 407,
     "status": "ok",
     "timestamp": 1716646612428,
     "user": {
      "displayName": "Anıl Özcan",
      "userId": "06510389857538456980"
     },
     "user_tz": -180
    },
    "id": "-sQNtczk57Ud"
   },
   "outputs": [],
   "source": [
    "item_cat_df = pd.merge(cat_df, item_df, left_on = [\"item_category_id\"], right_on = [\"item_category_id\"], how = \"inner\")"
   ]
  },
  {
   "cell_type": "code",
   "execution_count": 62,
   "metadata": {
    "ExecuteTime": {
     "end_time": "2024-05-26T12:29:15.237608Z",
     "start_time": "2024-05-26T12:29:15.228193Z"
    },
    "colab": {
     "base_uri": "https://localhost:8080/"
    },
    "executionInfo": {
     "elapsed": 441,
     "status": "ok",
     "timestamp": 1716646614560,
     "user": {
      "displayName": "Anıl Özcan",
      "userId": "06510389857538456980"
     },
     "user_tz": -180
    },
    "id": "MGBr9tgt_oDr",
    "outputId": "93d9f81d-ca20-4419-d7fd-0fa5cc771698"
   },
   "outputs": [
    {
     "data": {
      "text/plain": [
       "item_name           22170\n",
       "item_id             22170\n",
       "item_category_id    22170\n",
       "dtype: int64"
      ]
     },
     "execution_count": 62,
     "metadata": {},
     "output_type": "execute_result"
    }
   ],
   "source": [
    "item_df.count()"
   ]
  },
  {
   "cell_type": "code",
   "execution_count": 64,
   "metadata": {
    "ExecuteTime": {
     "end_time": "2024-05-26T12:29:16.328544Z",
     "start_time": "2024-05-26T12:29:16.207777Z"
    },
    "executionInfo": {
     "elapsed": 425,
     "status": "ok",
     "timestamp": 1716647720116,
     "user": {
      "displayName": "Anıl Özcan",
      "userId": "06510389857538456980"
     },
     "user_tz": -180
    },
    "id": "ZQFsK5ao57b5"
   },
   "outputs": [],
   "source": [
    "trx_df[\"net\"] = trx_df[\"amount\"] * trx_df[\"price\"]"
   ]
  },
  {
   "cell_type": "code",
   "execution_count": 65,
   "metadata": {
    "executionInfo": {
     "elapsed": 2,
     "status": "ok",
     "timestamp": 1716647720739,
     "user": {
      "displayName": "Anıl Özcan",
      "userId": "06510389857538456980"
     },
     "user_tz": -180
    },
    "id": "3Zjh-Glr57eT"
   },
   "outputs": [],
   "source": [
    "shop_format_df = trx_df.groupby(\"shop\").agg({\"shop\": \"count\",\"net\": \"sum\", \"amount\": \"sum\"})"
   ]
  },
  {
   "cell_type": "code",
   "execution_count": 66,
   "metadata": {
    "executionInfo": {
     "elapsed": 2,
     "status": "ok",
     "timestamp": 1716647721445,
     "user": {
      "displayName": "Anıl Özcan",
      "userId": "06510389857538456980"
     },
     "user_tz": -180
    },
    "id": "uRC03f54BmAC"
   },
   "outputs": [],
   "source": [
    "shop_format_df[\"mean_income_per_item\"] = shop_format_df[\"net\"] / shop_format_df[\"amount\"]"
   ]
  },
  {
   "cell_type": "code",
   "execution_count": 67,
   "metadata": {
    "ExecuteTime": {
     "end_time": "2024-05-26T12:29:16.709420Z",
     "start_time": "2024-05-26T12:29:16.521537Z"
    },
    "colab": {
     "base_uri": "https://localhost:8080/",
     "height": 447
    },
    "executionInfo": {
     "elapsed": 567,
     "status": "ok",
     "timestamp": 1716647722451,
     "user": {
      "displayName": "Anıl Özcan",
      "userId": "06510389857538456980"
     },
     "user_tz": -180
    },
    "id": "tt5umtvZB15X",
    "outputId": "50bb70b8-a7f9-4b6a-f5d4-8df94426d320"
   },
   "outputs": [
    {
     "data": {
      "text/plain": [
       "<Axes: >"
      ]
     },
     "execution_count": 67,
     "metadata": {},
     "output_type": "execute_result"
    },
    {
     "data": {
      "image/png": "[encoded data removed]",
      "text/plain": [
       "<Figure size 640x480 with 1 Axes>"
      ]
     },
     "metadata": {},
     "output_type": "display_data"
    }
   ],
   "source": [
    "shop_format_df[\"mean_income_per_item\"].hist(bins = 10) # i will flag 3 cluster to model that data"
   ]
  },
  {
   "cell_type": "code",
   "execution_count": 68,
   "metadata": {
    "ExecuteTime": {
     "end_time": "2024-05-26T12:29:16.723212Z",
     "start_time": "2024-05-26T12:29:16.709420Z"
    },
    "executionInfo": {
     "elapsed": 433,
     "status": "ok",
     "timestamp": 1716647723444,
     "user": {
      "displayName": "Anıl Özcan",
      "userId": "06510389857538456980"
     },
     "user_tz": -180
    },
    "id": "PhJb62I3CLeM"
   },
   "outputs": [],
   "source": [
    "shop_format_df[\"mean_income_per_trx\"] = shop_format_df[\"net\"] / shop_format_df[\"shop\"]"
   ]
  },
  {
   "cell_type": "code",
   "execution_count": 69,
   "metadata": {
    "ExecuteTime": {
     "end_time": "2024-05-26T12:29:16.900701Z",
     "start_time": "2024-05-26T12:29:16.726873Z"
    },
    "colab": {
     "base_uri": "https://localhost:8080/",
     "height": 447
    },
    "executionInfo": {
     "elapsed": 657,
     "status": "ok",
     "timestamp": 1716647724686,
     "user": {
      "displayName": "Anıl Özcan",
      "userId": "06510389857538456980"
     },
     "user_tz": -180
    },
    "id": "JPIrItzfDZPM",
    "outputId": "3a32084f-8f8a-407e-85da-836a9cae284e"
   },
   "outputs": [
    {
     "data": {
      "text/plain": [
       "<Axes: >"
      ]
     },
     "execution_count": 69,
     "metadata": {},
     "output_type": "execute_result"
    },
    {
     "data": {
      "image/png": "[encoded data removed]",
      "text/plain": [
       "<Figure size 640x480 with 1 Axes>"
      ]
     },
     "metadata": {},
     "output_type": "display_data"
    }
   ],
   "source": [
    "shop_format_df.mean_income_per_trx.hist(bins = 10) # we can use k means to segment stores then\n",
    "# time series operations"
   ]
  },
  {
   "cell_type": "markdown",
   "metadata": {
    "id": "SBfDNCf6D_J6"
   },
   "source": [
    "## Cat Basis EDA\n"
   ]
  },
  {
   "cell_type": "code",
   "execution_count": 70,
   "metadata": {
    "ExecuteTime": {
     "end_time": "2024-05-26T12:29:17.669958Z",
     "start_time": "2024-05-26T12:29:16.900701Z"
    },
    "executionInfo": {
     "elapsed": 2116,
     "status": "ok",
     "timestamp": 1716654005432,
     "user": {
      "displayName": "Anıl Özcan",
      "userId": "06510389857538456980"
     },
     "user_tz": -180
    },
    "id": "ZGTmP_ESEB9z"
   },
   "outputs": [],
   "source": [
    "trx_cat_df = trx_df.merge(item_cat_df, left_on = [\"item\"], right_on = [\"item_id\"], how = \"inner\")"
   ]
  },
  {
   "cell_type": "code",
   "execution_count": 71,
   "metadata": {
    "ExecuteTime": {
     "end_time": "2024-05-26T12:29:17.932157Z",
     "start_time": "2024-05-26T12:29:17.671928Z"
    },
    "executionInfo": {
     "elapsed": 4,
     "status": "ok",
     "timestamp": 1716654005433,
     "user": {
      "displayName": "Anıl Özcan",
      "userId": "06510389857538456980"
     },
     "user_tz": -180
    },
    "id": "bzK6wJs9FBmz"
   },
   "outputs": [],
   "source": [
    "trx_cat_df.drop(columns =\"item_id\", inplace = True)"
   ]
  },
  {
   "cell_type": "code",
   "execution_count": 72,
   "metadata": {
    "ExecuteTime": {
     "end_time": "2024-05-26T12:29:18.440679Z",
     "start_time": "2024-05-26T12:29:17.932157Z"
    },
    "colab": {
     "base_uri": "https://localhost:8080/"
    },
    "executionInfo": {
     "elapsed": 596,
     "status": "ok",
     "timestamp": 1716654006026,
     "user": {
      "displayName": "Anıl Özcan",
      "userId": "06510389857538456980"
     },
     "user_tz": -180
    },
    "id": "NDLkW7aBOU3Y",
    "outputId": "5febc975-0d00-4b28-bd80-563cd65c9eb0"
   },
   "outputs": [
    {
     "data": {
      "text/plain": [
       "shop                  2882335\n",
       "item                  2882335\n",
       "price                 2882335\n",
       "amount                2882335\n",
       "net                   2882335\n",
       "item_category_name    2882335\n",
       "item_category_id      2882335\n",
       "item_name             2882335\n",
       "dtype: int64"
      ]
     },
     "execution_count": 72,
     "metadata": {},
     "output_type": "execute_result"
    }
   ],
   "source": [
    "trx_cat_df.count()"
   ]
  },
  {
   "cell_type": "code",
   "execution_count": 76,
   "metadata": {
    "ExecuteTime": {
     "end_time": "2024-05-26T12:29:19.110278Z",
     "start_time": "2024-05-26T12:29:19.097111Z"
    },
    "executionInfo": {
     "elapsed": 2,
     "status": "ok",
     "timestamp": 1716654009982,
     "user": {
      "displayName": "Anıl Özcan",
      "userId": "06510389857538456980"
     },
     "user_tz": -180
    },
    "id": "DoEZ8WA2FmZH"
   },
   "outputs": [],
   "source": [
    "pd.set_option('display.float_format', '{:.1f}'.format)"
   ]
  },
  {
   "cell_type": "code",
   "execution_count": 77,
   "metadata": {
    "ExecuteTime": {
     "end_time": "2024-05-26T12:29:19.243841Z",
     "start_time": "2024-05-26T12:29:19.110278Z"
    },
    "executionInfo": {
     "elapsed": 3,
     "status": "ok",
     "timestamp": 1716654009983,
     "user": {
      "displayName": "Anıl Özcan",
      "userId": "06510389857538456980"
     },
     "user_tz": -180
    },
    "id": "0lT6CcPUFQTX"
   },
   "outputs": [],
   "source": [
    "# agg on cat group to analyze\n",
    "trx_cat_temp = trx_cat_df.groupby(\"item_category_id\").agg({\"item_category_id\":\"count\",\"amount\": \"sum\", \"net\": \"sum\"})"
   ]
  },
  {
   "cell_type": "code",
   "execution_count": 78,
   "metadata": {
    "ExecuteTime": {
     "end_time": "2024-05-26T12:29:19.258434Z",
     "start_time": "2024-05-26T12:29:19.243841Z"
    },
    "executionInfo": {
     "elapsed": 4,
     "status": "ok",
     "timestamp": 1716654010578,
     "user": {
      "displayName": "Anıl Özcan",
      "userId": "06510389857538456980"
     },
     "user_tz": -180
    },
    "id": "vjUDV8NNFzvO"
   },
   "outputs": [],
   "source": [
    "trx_cat_temp[\"mean_income_per_trx\"] = trx_cat_temp[\"net\"] / trx_cat_temp[\"amount\"]"
   ]
  },
  {
   "cell_type": "code",
   "execution_count": 79,
   "metadata": {
    "ExecuteTime": {
     "end_time": "2024-05-26T12:29:19.552034Z",
     "start_time": "2024-05-26T12:29:19.258434Z"
    },
    "colab": {
     "base_uri": "https://localhost:8080/",
     "height": 446
    },
    "executionInfo": {
     "elapsed": 718,
     "status": "ok",
     "timestamp": 1716654011293,
     "user": {
      "displayName": "Anıl Özcan",
      "userId": "06510389857538456980"
     },
     "user_tz": -180
    },
    "id": "5IWU0obMF2zv",
    "outputId": "a1f54335-0df6-4e9a-ead4-cb1060d598db"
   },
   "outputs": [
    {
     "data": {
      "text/plain": [
       "<Axes: >"
      ]
     },
     "execution_count": 79,
     "metadata": {},
     "output_type": "execute_result"
    },
    {
     "data": {
      "image/png": "[encoded data removed]",
      "text/plain": [
       "<Figure size 640x480 with 1 Axes>"
      ]
     },
     "metadata": {},
     "output_type": "display_data"
    }
   ],
   "source": [
    "trx_cat_temp[\"mean_income_per_trx\"].hist(bins = 10)"
   ]
  },
  {
   "cell_type": "code",
   "execution_count": 80,
   "metadata": {
    "ExecuteTime": {
     "end_time": "2024-05-26T12:29:19.562096Z",
     "start_time": "2024-05-26T12:29:19.552034Z"
    },
    "colab": {
     "base_uri": "https://localhost:8080/",
     "height": 132
    },
    "executionInfo": {
     "elapsed": 9,
     "status": "ok",
     "timestamp": 1716654012471,
     "user": {
      "displayName": "Anıl Özcan",
      "userId": "06510389857538456980"
     },
     "user_tz": -180
    },
    "id": "MvMjUZYBGHCJ",
    "outputId": "ce66ba35-d570-4677-c716-a98e15dc91b4"
   },
   "outputs": [
    {
     "data": {
      "text/html": [
       "<div>\n",
       "<style scoped>\n",
       "    .dataframe tbody tr th:only-of-type {\n",
       "        vertical-align: middle;\n",
       "    }\n",
       "\n",
       "    .dataframe tbody tr th {\n",
       "        vertical-align: top;\n",
       "    }\n",
       "\n",
       "    .dataframe thead th {\n",
       "        text-align: right;\n",
       "    }\n",
       "</style>\n",
       "<table border=\"1\" class=\"dataframe\">\n",
       "  <thead>\n",
       "    <tr style=\"text-align: right;\">\n",
       "      <th></th>\n",
       "      <th>item_category_id</th>\n",
       "      <th>amount</th>\n",
       "      <th>net</th>\n",
       "      <th>mean_income_per_trx</th>\n",
       "    </tr>\n",
       "    <tr>\n",
       "      <th>item_category_id</th>\n",
       "      <th></th>\n",
       "      <th></th>\n",
       "      <th></th>\n",
       "      <th></th>\n",
       "    </tr>\n",
       "  </thead>\n",
       "  <tbody>\n",
       "    <tr>\n",
       "      <th>1040</th>\n",
       "      <td>557379</td>\n",
       "      <td>626491.0</td>\n",
       "      <td>545199369.0</td>\n",
       "      <td>870.2</td>\n",
       "    </tr>\n",
       "  </tbody>\n",
       "</table>\n",
       "</div>"
      ],
      "text/plain": [
       "                  item_category_id   amount         net  mean_income_per_trx\n",
       "item_category_id                                                            \n",
       "1040                        557379 626491.0 545199369.0                870.2"
      ]
     },
     "execution_count": 80,
     "metadata": {},
     "output_type": "execute_result"
    }
   ],
   "source": [
    "trx_cat_temp[trx_cat_temp.item_category_id > 500000] # item_category_id : count of item_cat_id"
   ]
  },
  {
   "cell_type": "code",
   "execution_count": 81,
   "metadata": {
    "ExecuteTime": {
     "end_time": "2024-05-26T12:29:19.580883Z",
     "start_time": "2024-05-26T12:29:19.562096Z"
    },
    "colab": {
     "base_uri": "https://localhost:8080/",
     "height": 285
    },
    "executionInfo": {
     "elapsed": 8,
     "status": "ok",
     "timestamp": 1716654012471,
     "user": {
      "displayName": "Anıl Özcan",
      "userId": "06510389857538456980"
     },
     "user_tz": -180
    },
    "id": "b46lAr6kGf-I",
    "outputId": "30aebf13-3669-4c21-8e37-b342f8f52ca1"
   },
   "outputs": [
    {
     "data": {
      "text/html": [
       "<div>\n",
       "<style scoped>\n",
       "    .dataframe tbody tr th:only-of-type {\n",
       "        vertical-align: middle;\n",
       "    }\n",
       "\n",
       "    .dataframe tbody tr th {\n",
       "        vertical-align: top;\n",
       "    }\n",
       "\n",
       "    .dataframe thead th {\n",
       "        text-align: right;\n",
       "    }\n",
       "</style>\n",
       "<table border=\"1\" class=\"dataframe\">\n",
       "  <thead>\n",
       "    <tr style=\"text-align: right;\">\n",
       "      <th></th>\n",
       "      <th>shop</th>\n",
       "      <th>item</th>\n",
       "      <th>price</th>\n",
       "      <th>amount</th>\n",
       "      <th>net</th>\n",
       "      <th>item_category_name</th>\n",
       "      <th>item_category_id</th>\n",
       "      <th>item_name</th>\n",
       "    </tr>\n",
       "  </thead>\n",
       "  <tbody>\n",
       "    <tr>\n",
       "      <th>5558</th>\n",
       "      <td>124</td>\n",
       "      <td>116257</td>\n",
       "      <td>481.0</td>\n",
       "      <td>1.0</td>\n",
       "      <td>481.0</td>\n",
       "      <td>PC - Headsets/Headphones</td>\n",
       "      <td>1000</td>\n",
       "      <td>RITMIX RH-124 Black Headphones</td>\n",
       "    </tr>\n",
       "    <tr>\n",
       "      <th>182616</th>\n",
       "      <td>99</td>\n",
       "      <td>116255</td>\n",
       "      <td>303.0</td>\n",
       "      <td>1.0</td>\n",
       "      <td>303.0</td>\n",
       "      <td>PC - Headsets/Headphones</td>\n",
       "      <td>1000</td>\n",
       "      <td>PHILIPS SBC HC8680 headphones</td>\n",
       "    </tr>\n",
       "    <tr>\n",
       "      <th>439377</th>\n",
       "      <td>137</td>\n",
       "      <td>116256</td>\n",
       "      <td>74.0</td>\n",
       "      <td>1.0</td>\n",
       "      <td>74.0</td>\n",
       "      <td>PC - Headsets/Headphones</td>\n",
       "      <td>1000</td>\n",
       "      <td>RITMIX RH-120 Headphones</td>\n",
       "    </tr>\n",
       "  </tbody>\n",
       "</table>\n",
       "</div>"
      ],
      "text/plain": [
       "        shop    item  price  amount   net        item_category_name  item_category_id                       item_name\n",
       "5558     124  116257  481.0     1.0 481.0  PC - Headsets/Headphones              1000  RITMIX RH-124 Black Headphones\n",
       "182616    99  116255  303.0     1.0 303.0  PC - Headsets/Headphones              1000   PHILIPS SBC HC8680 headphones\n",
       "439377   137  116256   74.0     1.0  74.0  PC - Headsets/Headphones              1000        RITMIX RH-120 Headphones"
      ]
     },
     "execution_count": 81,
     "metadata": {},
     "output_type": "execute_result"
    }
   ],
   "source": [
    "trx_cat_df[trx_cat_df[\"item_category_id\"] == 1000]"
   ]
  },
  {
   "cell_type": "code",
   "execution_count": 83,
   "metadata": {},
   "outputs": [
    {
     "data": {
      "text/html": [
       "<div>\n",
       "<style scoped>\n",
       "    .dataframe tbody tr th:only-of-type {\n",
       "        vertical-align: middle;\n",
       "    }\n",
       "\n",
       "    .dataframe tbody tr th {\n",
       "        vertical-align: top;\n",
       "    }\n",
       "\n",
       "    .dataframe thead th {\n",
       "        text-align: right;\n",
       "    }\n",
       "</style>\n",
       "<table border=\"1\" class=\"dataframe\">\n",
       "  <thead>\n",
       "    <tr style=\"text-align: right;\">\n",
       "      <th></th>\n",
       "      <th>item_category_id</th>\n",
       "      <th>amount</th>\n",
       "      <th>net</th>\n",
       "      <th>mean_income_per_trx</th>\n",
       "    </tr>\n",
       "    <tr>\n",
       "      <th>item_category_id</th>\n",
       "      <th></th>\n",
       "      <th></th>\n",
       "      <th></th>\n",
       "      <th></th>\n",
       "    </tr>\n",
       "  </thead>\n",
       "  <tbody>\n",
       "    <tr>\n",
       "      <th>1000</th>\n",
       "      <td>3</td>\n",
       "      <td>3.0</td>\n",
       "      <td>858.0</td>\n",
       "      <td>286.0</td>\n",
       "    </tr>\n",
       "  </tbody>\n",
       "</table>\n",
       "</div>"
      ],
      "text/plain": [
       "                  item_category_id  amount   net  mean_income_per_trx\n",
       "item_category_id                                                     \n",
       "1000                             3     3.0 858.0                286.0"
      ]
     },
     "execution_count": 83,
     "metadata": {},
     "output_type": "execute_result"
    }
   ],
   "source": [
    "trx_cat_temp.head(1)"
   ]
  },
  {
   "cell_type": "code",
   "execution_count": null,
   "metadata": {
    "ExecuteTime": {
     "end_time": "2024-05-26T12:29:19.663480Z",
     "start_time": "2024-05-26T12:29:19.656005Z"
    },
    "executionInfo": {
     "elapsed": 5,
     "status": "ok",
     "timestamp": 1716654016595,
     "user": {
      "displayName": "Anıl Özcan",
      "userId": "06510389857538456980"
     },
     "user_tz": -180
    },
    "id": "MY6-rXu9JWf0"
   },
   "outputs": [],
   "source": [
    "trx_cat_df.index = trx_cat_df.date"
   ]
  },
  {
   "cell_type": "code",
   "execution_count": null,
   "metadata": {
    "ExecuteTime": {
     "end_time": "2024-05-26T12:29:19.907488Z",
     "start_time": "2024-05-26T12:29:19.663480Z"
    },
    "executionInfo": {
     "elapsed": 625,
     "status": "ok",
     "timestamp": 1716654018938,
     "user": {
      "displayName": "Anıl Özcan",
      "userId": "06510389857538456980"
     },
     "user_tz": -180
    },
    "id": "iEDL0Pg4JjCG"
   },
   "outputs": [],
   "source": [
    "trx_cat_df.index = pd.to_datetime(trx_cat_df.index, format = \"%d.%m.%Y\")"
   ]
  },
  {
   "cell_type": "code",
   "execution_count": null,
   "metadata": {
    "ExecuteTime": {
     "end_time": "2024-05-26T12:29:19.984954Z",
     "start_time": "2024-05-26T12:29:19.907488Z"
    },
    "executionInfo": {
     "elapsed": 2,
     "status": "ok",
     "timestamp": 1716654018938,
     "user": {
      "displayName": "Anıl Özcan",
      "userId": "06510389857538456980"
     },
     "user_tz": -180
    },
    "id": "lpLXn8DwKmcY"
   },
   "outputs": [],
   "source": [
    "trx_cat_df.drop(columns = [\"date\"], inplace = True)"
   ]
  },
  {
   "cell_type": "code",
   "execution_count": null,
   "metadata": {
    "ExecuteTime": {
     "end_time": "2024-05-26T12:29:21.056986Z",
     "start_time": "2024-05-26T12:29:19.984954Z"
    },
    "executionInfo": {
     "elapsed": 2879,
     "status": "ok",
     "timestamp": 1716654021816,
     "user": {
      "displayName": "Anıl Özcan",
      "userId": "06510389857538456980"
     },
     "user_tz": -180
    },
    "id": "CSasD0YWKqsP"
   },
   "outputs": [],
   "source": [
    "grouper = trx_cat_df.groupby([pd.Grouper(freq='ME'), 'shop'])"
   ]
  },
  {
   "cell_type": "code",
   "execution_count": null,
   "metadata": {
    "ExecuteTime": {
     "end_time": "2024-05-26T12:29:21.404664Z",
     "start_time": "2024-05-26T12:29:21.059380Z"
    },
    "executionInfo": {
     "elapsed": 8,
     "status": "ok",
     "timestamp": 1716654021816,
     "user": {
      "displayName": "Anıl Özcan",
      "userId": "06510389857538456980"
     },
     "user_tz": -180
    },
    "id": "GKBUkFUmHn4a"
   },
   "outputs": [],
   "source": [
    "seasonality_stores = grouper[\"amount\"].count()"
   ]
  },
  {
   "cell_type": "code",
   "execution_count": null,
   "metadata": {
    "ExecuteTime": {
     "end_time": "2024-05-26T12:29:21.415929Z",
     "start_time": "2024-05-26T12:29:21.407713Z"
    },
    "executionInfo": {
     "elapsed": 9,
     "status": "ok",
     "timestamp": 1716654021817,
     "user": {
      "displayName": "Anıl Özcan",
      "userId": "06510389857538456980"
     },
     "user_tz": -180
    },
    "id": "bLpnZih6MeCH"
   },
   "outputs": [],
   "source": [
    "seasonality_stores = seasonality_stores.reset_index()"
   ]
  },
  {
   "cell_type": "code",
   "execution_count": null,
   "metadata": {
    "ExecuteTime": {
     "end_time": "2024-05-26T12:29:21.429508Z",
     "start_time": "2024-05-26T12:29:21.418570Z"
    },
    "executionInfo": {
     "elapsed": 8,
     "status": "ok",
     "timestamp": 1716654021817,
     "user": {
      "displayName": "Anıl Özcan",
      "userId": "06510389857538456980"
     },
     "user_tz": -180
    },
    "id": "lzGa6inFMl2K"
   },
   "outputs": [],
   "source": [
    "seasonality_stores = seasonality_stores.sort_values(by = \"shop\", ascending = True)"
   ]
  },
  {
   "cell_type": "code",
   "execution_count": null,
   "metadata": {
    "ExecuteTime": {
     "end_time": "2024-05-26T12:29:21.448961Z",
     "start_time": "2024-05-26T12:29:21.433747Z"
    },
    "colab": {
     "base_uri": "https://localhost:8080/",
     "height": 990
    },
    "executionInfo": {
     "elapsed": 8,
     "status": "ok",
     "timestamp": 1716654021817,
     "user": {
      "displayName": "Anıl Özcan",
      "userId": "06510389857538456980"
     },
     "user_tz": -180
    },
    "id": "ykUbMISlMrZj",
    "outputId": "e019d262-5ec9-44bd-80f3-2f1c0bf95b23"
   },
   "outputs": [],
   "source": [
    "seasonality_stores.head(5)"
   ]
  },
  {
   "cell_type": "code",
   "execution_count": null,
   "metadata": {
    "ExecuteTime": {
     "end_time": "2024-05-26T12:29:22.239641Z",
     "start_time": "2024-05-26T12:29:21.456570Z"
    },
    "colab": {
     "base_uri": "https://localhost:8080/",
     "height": 475
    },
    "executionInfo": {
     "elapsed": 2057,
     "status": "ok",
     "timestamp": 1716654025882,
     "user": {
      "displayName": "Anıl Özcan",
      "userId": "06510389857538456980"
     },
     "user_tz": -180
    },
    "id": "DuVoGOxsOkUI",
    "outputId": "a2ac34ed-5653-4a36-9efa-99de4a8849d0"
   },
   "outputs": [],
   "source": [
    "seasonality_stores.groupby(\"shop\").count().plot(kind = \"bar\") # we could detect is_active stores,\n",
    "# and seasonal stores\n"
   ]
  },
  {
   "cell_type": "code",
   "execution_count": null,
   "metadata": {
    "ExecuteTime": {
     "end_time": "2024-05-26T12:29:22.253741Z",
     "start_time": "2024-05-26T12:29:22.241687Z"
    },
    "colab": {
     "base_uri": "https://localhost:8080/"
    },
    "executionInfo": {
     "elapsed": 7,
     "status": "ok",
     "timestamp": 1716654025882,
     "user": {
      "displayName": "Anıl Özcan",
      "userId": "06510389857538456980"
     },
     "user_tz": -180
    },
    "id": "Qql4-kzYPFch",
    "outputId": "7aaedbc4-b83a-4d8e-ce7a-04700e210871"
   },
   "outputs": [],
   "source": [
    "seasonality_stores.date.min()"
   ]
  },
  {
   "cell_type": "code",
   "execution_count": null,
   "metadata": {
    "ExecuteTime": {
     "end_time": "2024-05-26T12:29:22.269184Z",
     "start_time": "2024-05-26T12:29:22.258143Z"
    },
    "colab": {
     "base_uri": "https://localhost:8080/"
    },
    "executionInfo": {
     "elapsed": 4,
     "status": "ok",
     "timestamp": 1716654025882,
     "user": {
      "displayName": "Anıl Özcan",
      "userId": "06510389857538456980"
     },
     "user_tz": -180
    },
    "id": "tWtqlzW0PJHm",
    "outputId": "4f5af33c-5ad8-46c4-b855-10adaca0e8e8"
   },
   "outputs": [],
   "source": [
    "seasonality_stores.date.max()"
   ]
  },
  {
   "cell_type": "code",
   "execution_count": null,
   "metadata": {},
   "outputs": [],
   "source": [
    "trx_cat_temp.head(1)"
   ]
  },
  {
   "cell_type": "markdown",
   "metadata": {
    "id": "3vlMXdYaP10X"
   },
   "source": [
    "## Decision For Sake of Time"
   ]
  },
  {
   "cell_type": "code",
   "execution_count": null,
   "metadata": {
    "ExecuteTime": {
     "end_time": "2024-05-26T12:29:22.382166Z",
     "start_time": "2024-05-26T12:29:22.271808Z"
    },
    "colab": {
     "base_uri": "https://localhost:8080/",
     "height": 446
    },
    "executionInfo": {
     "elapsed": 678,
     "status": "ok",
     "timestamp": 1716654028563,
     "user": {
      "displayName": "Anıl Özcan",
      "userId": "06510389857538456980"
     },
     "user_tz": -180
    },
    "id": "iTTjPtEVP586",
    "outputId": "8bb6bded-fb72-438d-a7dd-3989d2730e2e"
   },
   "outputs": [],
   "source": [
    "trx_cat_temp.item_category_id.plot(kind=\"box\")  # item_category_id : count of item_cat_id"
   ]
  },
  {
   "cell_type": "code",
   "execution_count": null,
   "metadata": {
    "ExecuteTime": {
     "end_time": "2024-05-26T12:29:22.419120Z",
     "start_time": "2024-05-26T12:29:22.384932Z"
    },
    "colab": {
     "base_uri": "https://localhost:8080/"
    },
    "executionInfo": {
     "elapsed": 4,
     "status": "ok",
     "timestamp": 1716654030108,
     "user": {
      "displayName": "Anıl Özcan",
      "userId": "06510389857538456980"
     },
     "user_tz": -180
    },
    "id": "3Ubmewz_QEXB",
    "outputId": "fbff8327-080d-4315-d795-5006dd925085"
   },
   "outputs": [],
   "source": [
    "utils.check_df(trx_cat_temp)"
   ]
  },
  {
   "cell_type": "code",
   "execution_count": null,
   "metadata": {
    "ExecuteTime": {
     "end_time": "2024-05-26T12:29:22.432717Z",
     "start_time": "2024-05-26T12:29:22.421832Z"
    },
    "executionInfo": {
     "elapsed": 436,
     "status": "ok",
     "timestamp": 1716654034344,
     "user": {
      "displayName": "Anıl Özcan",
      "userId": "06510389857538456980"
     },
     "user_tz": -180
    },
    "id": "rAidIJhVQs-F"
   },
   "outputs": [],
   "source": [
    "trx_cat_temp[\"cat_cluster\"] = pd.qcut(trx_cat_temp[\"item_category_id\"], q=[0, .5, .75, 1.], labels = False)"
   ]
  },
  {
   "cell_type": "code",
   "execution_count": null,
   "metadata": {
    "ExecuteTime": {
     "end_time": "2024-05-26T12:29:22.449315Z",
     "start_time": "2024-05-26T12:29:22.432717Z"
    },
    "executionInfo": {
     "elapsed": 3,
     "status": "ok",
     "timestamp": 1716654035948,
     "user": {
      "displayName": "Anıl Özcan",
      "userId": "06510389857538456980"
     },
     "user_tz": -180
    },
    "id": "B9IxsU5xRluk"
   },
   "outputs": [],
   "source": [
    "trx_cat_temp.rename(columns = {\"item_category_id\":\"count_of_sales\"}, inplace = True)"
   ]
  },
  {
   "cell_type": "code",
   "execution_count": null,
   "metadata": {
    "ExecuteTime": {
     "end_time": "2024-05-26T12:29:22.461877Z",
     "start_time": "2024-05-26T12:29:22.449315Z"
    },
    "executionInfo": {
     "elapsed": 3,
     "status": "ok",
     "timestamp": 1716654036621,
     "user": {
      "displayName": "Anıl Özcan",
      "userId": "06510389857538456980"
     },
     "user_tz": -180
    },
    "id": "YOof17zgKped"
   },
   "outputs": [],
   "source": [
    "trx_cat_temp.reset_index(drop = False, inplace = True)"
   ]
  },
  {
   "cell_type": "code",
   "execution_count": null,
   "metadata": {
    "ExecuteTime": {
     "end_time": "2024-05-26T12:29:22.482484Z",
     "start_time": "2024-05-26T12:29:22.465860Z"
    },
    "colab": {
     "base_uri": "https://localhost:8080/",
     "height": 101
    },
    "executionInfo": {
     "elapsed": 5,
     "status": "ok",
     "timestamp": 1716654037105,
     "user": {
      "displayName": "Anıl Özcan",
      "userId": "06510389857538456980"
     },
     "user_tz": -180
    },
    "id": "c0DJowYQKvdv",
    "outputId": "a61a0fb2-f28c-4ea0-a134-2c7c1743998b"
   },
   "outputs": [],
   "source": [
    "trx_cat_temp.head(1)"
   ]
  },
  {
   "cell_type": "code",
   "execution_count": null,
   "metadata": {
    "ExecuteTime": {
     "end_time": "2024-05-26T12:29:22.500546Z",
     "start_time": "2024-05-26T12:29:22.482484Z"
    },
    "colab": {
     "base_uri": "https://localhost:8080/",
     "height": 149
    },
    "executionInfo": {
     "elapsed": 8,
     "status": "ok",
     "timestamp": 1716654038384,
     "user": {
      "displayName": "Anıl Özcan",
      "userId": "06510389857538456980"
     },
     "user_tz": -180
    },
    "id": "cyWuoNGxLyfm",
    "outputId": "53ab939f-6785-47b9-ca37-d5e2d3d5a28a"
   },
   "outputs": [],
   "source": [
    "trx_cat_df.head(1)"
   ]
  },
  {
   "cell_type": "code",
   "execution_count": null,
   "metadata": {},
   "outputs": [],
   "source": [
    "trx_cat_df.reset_index(drop = False, inplace = True)"
   ]
  },
  {
   "cell_type": "code",
   "execution_count": null,
   "metadata": {},
   "outputs": [],
   "source": [
    "trx_cat_df.date.max() # max_date 2015-09-30"
   ]
  },
  {
   "cell_type": "code",
   "execution_count": null,
   "metadata": {},
   "outputs": [],
   "source": [
    "max_df = trx_cat_df.groupby(\"shop\")[\"date\"].max().reset_index()"
   ]
  },
  {
   "cell_type": "code",
   "execution_count": null,
   "metadata": {},
   "outputs": [],
   "source": [
    "from datetime import date, timedelta"
   ]
  },
  {
   "cell_type": "code",
   "execution_count": null,
   "metadata": {},
   "outputs": [],
   "source": [
    "max_df[\"date\"].head()"
   ]
  },
  {
   "cell_type": "code",
   "execution_count": null,
   "metadata": {},
   "outputs": [],
   "source": [
    "pd.to_datetime(\"2014-09-30\", format='%Y-%m-%d')"
   ]
  },
  {
   "cell_type": "code",
   "execution_count": null,
   "metadata": {},
   "outputs": [],
   "source": [
    "max_df = max_df[max_df[\"date\"] >= pd.to_datetime(\"2015-08-30\", format='%Y-%m-%d')]"
   ]
  },
  {
   "cell_type": "code",
   "execution_count": null,
   "metadata": {
    "ExecuteTime": {
     "end_time": "2024-05-26T12:29:23.292255Z",
     "start_time": "2024-05-26T12:29:22.500546Z"
    },
    "executionInfo": {
     "elapsed": 1144,
     "status": "ok",
     "timestamp": 1716654040274,
     "user": {
      "displayName": "Anıl Özcan",
      "userId": "06510389857538456980"
     },
     "user_tz": -180
    },
    "id": "sVmStWvQK1pp"
   },
   "outputs": [],
   "source": [
    "trx_cat_df = trx_cat_df.reset_index().merge(trx_cat_temp[[\"cat_cluster\", \"item_category_id\"]], on=[\"item_category_id\"], how=\"inner\").set_index(\"date\")"
   ]
  },
  {
   "cell_type": "code",
   "execution_count": null,
   "metadata": {},
   "outputs": [],
   "source": [
    "trx_cat_df.merge(max_df, on = \"shop\", how = \"inner\")"
   ]
  },
  {
   "cell_type": "code",
   "execution_count": null,
   "metadata": {
    "ExecuteTime": {
     "end_time": "2024-05-26T12:29:23.312308Z",
     "start_time": "2024-05-26T12:29:23.292255Z"
    },
    "colab": {
     "base_uri": "https://localhost:8080/",
     "height": 149
    },
    "executionInfo": {
     "elapsed": 9,
     "status": "ok",
     "timestamp": 1716654040275,
     "user": {
      "displayName": "Anıl Özcan",
      "userId": "06510389857538456980"
     },
     "user_tz": -180
    },
    "id": "pswqhRvTK1rl",
    "outputId": "fc011220-30ec-4bd8-f5ad-a67c0f172904"
   },
   "outputs": [],
   "source": [
    "trx_cat_df.head(1)"
   ]
  },
  {
   "cell_type": "markdown",
   "metadata": {
    "id": "pI8eSw9jMX11"
   },
   "source": [
    "## Data Prep"
   ]
  },
  {
   "cell_type": "code",
   "execution_count": null,
   "metadata": {
    "ExecuteTime": {
     "end_time": "2024-05-26T12:29:25.961480Z",
     "start_time": "2024-05-26T12:29:23.314823Z"
    },
    "executionInfo": {
     "elapsed": 3,
     "status": "ok",
     "timestamp": 1716651550187,
     "user": {
      "displayName": "Anıl Özcan",
      "userId": "06510389857538456980"
     },
     "user_tz": -180
    },
    "id": "-YE0lYkoNgR1"
   },
   "outputs": [],
   "source": [
    "# package documentation: https://unit8co.github.io/darts/generated_api/darts.timeseries.html\n",
    "from darts import TimeSeries\n",
    "import darts"
   ]
  },
  {
   "cell_type": "code",
   "execution_count": null,
   "metadata": {
    "ExecuteTime": {
     "end_time": "2024-05-26T12:29:25.968557Z",
     "start_time": "2024-05-26T12:29:25.961480Z"
    },
    "colab": {
     "base_uri": "https://localhost:8080/",
     "height": 36
    },
    "executionInfo": {
     "elapsed": 6,
     "status": "ok",
     "timestamp": 1716651554334,
     "user": {
      "displayName": "Anıl Özcan",
      "userId": "06510389857538456980"
     },
     "user_tz": -180
    },
    "id": "M-Mu-Ao1Z3qE",
    "outputId": "d17e1305-cc23-4765-dc0a-e912709ace21"
   },
   "outputs": [],
   "source": [
    "darts.__version__"
   ]
  },
  {
   "cell_type": "code",
   "execution_count": null,
   "metadata": {
    "ExecuteTime": {
     "end_time": "2024-05-26T12:29:25.994154Z",
     "start_time": "2024-05-26T12:29:25.968557Z"
    },
    "colab": {
     "base_uri": "https://localhost:8080/"
    },
    "executionInfo": {
     "elapsed": 481,
     "status": "ok",
     "timestamp": 1716654045845,
     "user": {
      "displayName": "Anıl Özcan",
      "userId": "06510389857538456980"
     },
     "user_tz": -180
    },
    "id": "tYlE_TQDWu2H",
    "outputId": "fa3f15e0-0218-48b0-8976-bd9586848239"
   },
   "outputs": [],
   "source": [
    "trx_cat_df.shop.nunique()"
   ]
  },
  {
   "cell_type": "code",
   "execution_count": null,
   "metadata": {
    "ExecuteTime": {
     "end_time": "2024-05-26T12:29:26.007501Z",
     "start_time": "2024-05-26T12:29:25.994154Z"
    },
    "colab": {
     "base_uri": "https://localhost:8080/",
     "height": 149
    },
    "executionInfo": {
     "elapsed": 8,
     "status": "ok",
     "timestamp": 1716654143826,
     "user": {
      "displayName": "Anıl Özcan",
      "userId": "06510389857538456980"
     },
     "user_tz": -180
    },
    "id": "qNguZue6jG5o",
    "outputId": "42e6563e-56e1-43a5-e3a4-8e30529c5021"
   },
   "outputs": [],
   "source": [
    "trx_cat_df.head(1)"
   ]
  },
  {
   "cell_type": "code",
   "execution_count": null,
   "metadata": {
    "ExecuteTime": {
     "end_time": "2024-05-26T12:29:27.319927Z",
     "start_time": "2024-05-26T12:29:26.009008Z"
    },
    "executionInfo": {
     "elapsed": 2426,
     "status": "ok",
     "timestamp": 1716654403095,
     "user": {
      "displayName": "Anıl Özcan",
      "userId": "06510389857538456980"
     },
     "user_tz": -180
    },
    "id": "_ZqkvgulkqRX"
   },
   "outputs": [],
   "source": [
    "grouper = trx_cat_df.groupby([pd.Grouper(freq='ME'), 'shop', \"item\", \"item_category_id\", \"cat_cluster\"])"
   ]
  },
  {
   "cell_type": "code",
   "execution_count": null,
   "metadata": {
    "ExecuteTime": {
     "end_time": "2024-05-26T12:29:28.303457Z",
     "start_time": "2024-05-26T12:29:27.320439Z"
    },
    "executionInfo": {
     "elapsed": 417,
     "status": "ok",
     "timestamp": 1716654462799,
     "user": {
      "displayName": "Anıl Özcan",
      "userId": "06510389857538456980"
     },
     "user_tz": -180
    },
    "id": "ywor3hjIjlxa"
   },
   "outputs": [],
   "source": [
    "ts_df = grouper[\"amount\"].sum()"
   ]
  },
  {
   "cell_type": "code",
   "execution_count": null,
   "metadata": {
    "ExecuteTime": {
     "end_time": "2024-05-26T12:29:28.380084Z",
     "start_time": "2024-05-26T12:29:28.303457Z"
    },
    "executionInfo": {
     "elapsed": 438,
     "status": "ok",
     "timestamp": 1716654550999,
     "user": {
      "displayName": "Anıl Özcan",
      "userId": "06510389857538456980"
     },
     "user_tz": -180
    },
    "id": "dFpBXt6hg18N"
   },
   "outputs": [],
   "source": [
    "ts_df = ts_df.reset_index()"
   ]
  },
  {
   "cell_type": "code",
   "execution_count": null,
   "metadata": {
    "ExecuteTime": {
     "end_time": "2024-05-26T12:29:28.396658Z",
     "start_time": "2024-05-26T12:29:28.380084Z"
    }
   },
   "outputs": [],
   "source": [
    "date_index = pd.date_range(ts_df.date.min(), ts_df.date.max(), freq=\"ME\")"
   ]
  },
  {
   "cell_type": "code",
   "execution_count": null,
   "metadata": {
    "ExecuteTime": {
     "end_time": "2024-05-26T12:29:28.403978Z",
     "start_time": "2024-05-26T12:29:28.396658Z"
    }
   },
   "outputs": [],
   "source": [
    "dt_i = date_index.to_frame().reset_index(drop=True)"
   ]
  },
  {
   "cell_type": "code",
   "execution_count": null,
   "metadata": {
    "ExecuteTime": {
     "end_time": "2024-05-26T12:29:28.416130Z",
     "start_time": "2024-05-26T12:29:28.405987Z"
    }
   },
   "outputs": [],
   "source": [
    "dt_i.columns = [\"date\"]"
   ]
  },
  {
   "cell_type": "code",
   "execution_count": null,
   "metadata": {
    "ExecuteTime": {
     "end_time": "2024-05-26T12:29:28.444645Z",
     "start_time": "2024-05-26T12:29:28.416130Z"
    }
   },
   "outputs": [],
   "source": [
    "duos = ts_df[[\"shop\",\"item\",\"item_category_id\", \"cat_cluster\"]]"
   ]
  },
  {
   "cell_type": "code",
   "execution_count": null,
   "metadata": {
    "ExecuteTime": {
     "end_time": "2024-05-26T12:29:28.463804Z",
     "start_time": "2024-05-26T12:29:28.444645Z"
    }
   },
   "outputs": [],
   "source": [
    "duos.count()"
   ]
  },
  {
   "cell_type": "code",
   "execution_count": null,
   "metadata": {
    "ExecuteTime": {
     "end_time": "2024-05-26T12:29:28.624167Z",
     "start_time": "2024-05-26T12:29:28.463804Z"
    }
   },
   "outputs": [],
   "source": [
    "duos.drop_duplicates(inplace=True)"
   ]
  },
  {
   "cell_type": "code",
   "execution_count": null,
   "metadata": {
    "ExecuteTime": {
     "end_time": "2024-05-26T12:29:28.631468Z",
     "start_time": "2024-05-26T12:29:28.624167Z"
    }
   },
   "outputs": [],
   "source": [
    "dt_i[\"key\"] = 0"
   ]
  },
  {
   "cell_type": "code",
   "execution_count": null,
   "metadata": {
    "ExecuteTime": {
     "end_time": "2024-05-26T12:29:28.644971Z",
     "start_time": "2024-05-26T12:29:28.631468Z"
    }
   },
   "outputs": [],
   "source": [
    "duos[\"key\"] = 0"
   ]
  },
  {
   "cell_type": "code",
   "execution_count": null,
   "metadata": {
    "ExecuteTime": {
     "end_time": "2024-05-26T12:29:31.799005Z",
     "start_time": "2024-05-26T12:29:28.644971Z"
    }
   },
   "outputs": [],
   "source": [
    "left = dt_i.merge(duos, on=\"key\", how=\"outer\").drop(\"key\", axis=1)"
   ]
  },
  {
   "cell_type": "markdown",
   "metadata": {},
   "source": []
  },
  {
   "cell_type": "code",
   "execution_count": null,
   "metadata": {
    "ExecuteTime": {
     "end_time": "2024-05-26T12:29:31.973203Z",
     "start_time": "2024-05-26T12:29:31.802017Z"
    }
   },
   "outputs": [],
   "source": [
    "left.count()"
   ]
  },
  {
   "cell_type": "code",
   "execution_count": null,
   "metadata": {
    "ExecuteTime": {
     "end_time": "2024-05-26T12:29:47.217118Z",
     "start_time": "2024-05-26T12:29:31.975238Z"
    }
   },
   "outputs": [],
   "source": [
    "left = left.merge(ts_df, on=[\"date\",\"shop\",\"item\",\"item_category_id\",\"cat_cluster\"], how=\"outer\")"
   ]
  },
  {
   "cell_type": "code",
   "execution_count": null,
   "metadata": {},
   "outputs": [],
   "source": [
    "left.count()"
   ]
  },
  {
   "cell_type": "code",
   "execution_count": null,
   "metadata": {
    "jupyter": {
     "is_executing": true
    }
   },
   "outputs": [],
   "source": [
    "left.head(20)"
   ]
  },
  {
   "cell_type": "code",
   "execution_count": null,
   "metadata": {
    "id": "aSAAefRpUuQ_"
   },
   "outputs": [],
   "source": [
    "ts = TimeSeries.from_group_dataframe(df=left,\n",
    "                                     group_cols=['item', \"shop\", \"item_category_id\", \"cat_cluster\"],\n",
    "                                     freq=\"ME\",\n",
    "                                     n_jobs=-1,\n",
    "                                     verbose=True,\n",
    "                                     fillna_value=0,\n",
    "                                     value_cols=[\"amount\"],\n",
    "                                     time_col=\"date\") # target column\n",
    "                                      # date column not passed index will be used"
   ]
  },
  {
   "cell_type": "code",
   "execution_count": null,
   "metadata": {},
   "outputs": [],
   "source": [
    "with open(\"./data/ts\", \"wb\") as file:\n",
    "    pickle.dump(ts, file)"
   ]
  },
  {
   "cell_type": "code",
   "execution_count": null,
   "metadata": {},
   "outputs": [],
   "source": [
    "import multiprocessing\n",
    "\n",
    "multiprocessing.cpu_count()"
   ]
  }
 ],
 "metadata": {
  "colab": {
   "authorship_tag": "ABX9TyPBZOCluXhKqxt0Fx3LzJsD",
   "mount_file_id": "14mHJIGXm9T2E1TL5iPhcon4C1RFz1Abs",
   "provenance": []
  },
  "kernelspec": {
   "display_name": "trx_fcst",
   "language": "python",
   "name": "trx_fcst"
  },
  "language_info": {
   "codemirror_mode": {
    "name": "ipython",
    "version": 3
   },
   "file_extension": ".py",
   "mimetype": "text/x-python",
   "name": "python",
   "nbconvert_exporter": "python",
   "pygments_lexer": "ipython3",
   "version": "3.12.0"
  }
 },
 "nbformat": 4,
 "nbformat_minor": 4
}
